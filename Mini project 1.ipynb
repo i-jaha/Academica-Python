{
 "cells": [
  {
   "cell_type": "markdown",
   "id": "74b5d472",
   "metadata": {},
   "source": [
    "# Мини проект 1"
   ]
  },
  {
   "cell_type": "markdown",
   "id": "cc4f6ca8",
   "metadata": {},
   "source": [
    "Вам дан файл users.txt. Вы должны сделать следующие действия:\n",
    "\n",
    "1) Прочитать этот файл построчно. Пожалуйста, используйте для этого try catch. Если файл не найден, напечатайте следующий текст: «the file that you would like to read is not found». Для любых других ошибок, пожалуйста, напечатайте следующее сообщение: \"some error occured\"\n",
    "     \n",
    "     \n",
    "2) Создайте класс Users со следующими атрибутами и функциями:\n",
    "\n",
    "     a) имя\n",
    "     \n",
    "     b) фамилия\n",
    "     \n",
    "     c) год рождения\n",
    "     \n",
    "     d) адрес электронной почты\n",
    "     \n",
    "     e) getAge(): возвращает возраст пользователя, принимая во внимание, что текущий год 2023\n",
    "     \n",
    "     \n",
    "3) преобразовать каждую строку файла в объект класса Users и сохранить их все в списке. Чтобы разделить слова, разделенные запятой, используйте функцию split(). Например, если: s = \"a,b,c\", тогда t = s.split(',') вернет ['a', 'b', 'c']. Таким образом разделите данные в каждой строке на отдельные части и присвойте эти значения атрибутам класса «Users».\n",
    "\n",
    "\n",
    "4) написать функцию filter(low, high, users), которая будет принимать параметры по умолчанию \"low\"=30, \"high\"=50 и простой параметр - список объектов класса Users. Функция должна пройтись по всем пользователям и проверить возраст с параметрами low и high. Мы должны вернуть только тех пользователей, чей возраст выше нижнего параметра low и ниже верхнего параметра high. Распечатайте их адрес электронной почты и возраст. Пожалуйста, разделите данные (адрес электронной почты и возраст) запятой. Затем вызовите эту функцию."
   ]
  },
  {
   "cell_type": "code",
   "execution_count": 28,
   "id": "c5694b11-a9d4-4536-984c-8dac38708506",
   "metadata": {},
   "outputs": [],
   "source": [
    "class Users: \n",
    "        \n",
    "    def __init__(self, name, surname, email, birth_year):\n",
    "        self.name = name\n",
    "        self.surname = surname\n",
    "        self.email = email\n",
    "        self.birth_year = birth_year\n",
    "        \n",
    "    def __str__(self):\n",
    "        return f\"Name: {self.name}, Surname: {self.surname}, Email: {self.email}, Birth year: {self.birth_year}\"\n",
    "    \n",
    "    def getAge(self):\n",
    "        current_year = 2023\n",
    "        age = current_year - int(self.birth_year)\n",
    "        return age"
   ]
  },
  {
   "cell_type": "code",
   "execution_count": 29,
   "id": "6cb27cbe-9958-4591-abfb-b7856c65b82e",
   "metadata": {},
   "outputs": [
    {
     "name": "stdout",
     "output_type": "stream",
     "text": [
      "['Name: Magzhan, Surname: Kairanbay, Email: magzhan.kairanbay@gmail.com, Birth year: 1991', 'Name: John, Surname: See, Email: john.see@gmail.com, Birth year: 1981', 'Name: Lim, Surname: Kim, Email: lim.kim@gmail.com, Birth year: 1997', 'Name: Andrew, Surname: Ng, Email: andrew.ng@gmail.com, Birth year: 1971', 'Name: Andrey, Surname: Karpathy, Email: andrey.karpathy@gmail.com, Birth year: 1981', 'Name: Jackie, Surname: Chan, Email: jeckie.chan@gmail.com, Birth year: 1951', 'Name: Clarence, Surname: Lim, Email: clarence.lim@gmail.com, Birth year: 1985', 'Name: Ryan, Surname: Jack, Email: ryan.jack@gmail.com, Birth year: 1994', 'Name: Jonattan, Surname: Clark, Email: jonattan.clark@gmail.com, Birth year: 2000', 'Name: Chris, Surname: Brown, Email: chris.brown@gmail.com, Birth year: 1989', 'Name: Justin, Surname: Bieber, Email: justin.bieber@gmail.com, Birth year: 1992']\n"
     ]
    }
   ],
   "source": [
    "def read_file_lines(filename):\n",
    "    users_list = []\n",
    "    try:\n",
    "        with open(filename, \"r\") as file:\n",
    "            for line in file:\n",
    "                line = line.strip()\n",
    "                if len(line) != 0:\n",
    "                    parts = line.split(\",\")\n",
    "                    if len(parts) == 5:\n",
    "                        try:\n",
    "                            name = parts[1].strip()\n",
    "                            surname = parts[2].strip()\n",
    "                            email = parts[3].strip()\n",
    "                            birth_year = parts[4].strip()\n",
    "                            user = Users(name, surname, email, birth_year)\n",
    "                            users_list.append(user)\n",
    "                        except ValueError:\n",
    "                            print(\"Enter the year of birth as an integer\")\n",
    "                    else:\n",
    "                        print(\"Invalid number of values in the line\")\n",
    "    except FileNotFoundError:\n",
    "        print(\"The file that you would like to read is not found\")\n",
    "    except AnotherBug as bug:\n",
    "        print(\"Some error occured\")\n",
    "    return users_list\n",
    "\n",
    "filename = \"users.txt\"\n",
    "users = read_file_lines(filename)\n",
    "print(list(map(str, users)))"
   ]
  },
  {
   "cell_type": "code",
   "execution_count": 31,
   "id": "03844d9f-93c5-4fa6-b342-71d25f4e8e86",
   "metadata": {},
   "outputs": [
    {
     "name": "stdout",
     "output_type": "stream",
     "text": [
      "['Name: Magzhan, Surname: Kairanbay, Email: magzhan.kairanbay@gmail.com, Birth year: 1991', 'Name: John, Surname: See, Email: john.see@gmail.com, Birth year: 1981', 'Name: Andrey, Surname: Karpathy, Email: andrey.karpathy@gmail.com, Birth year: 1981', 'Name: Clarence, Surname: Lim, Email: clarence.lim@gmail.com, Birth year: 1985', 'Name: Chris, Surname: Brown, Email: chris.brown@gmail.com, Birth year: 1989', 'Name: Justin, Surname: Bieber, Email: justin.bieber@gmail.com, Birth year: 1992']\n"
     ]
    }
   ],
   "source": [
    "def filter(users, low=30, high=50):\n",
    "    filtered_users = []\n",
    "    if users is None:\n",
    "        print(\"User list is empty\")\n",
    "        return filtered_users\n",
    "\n",
    "    for user in users:\n",
    "        age = user.getAge()\n",
    "        if age > low and age < high:\n",
    "            filtered_users.append(user)\n",
    "    return filtered_users\n",
    "\n",
    "filename = \"users.txt\"\n",
    "users = read_file_lines(filename)\n",
    "filtered_users = filter(users)\n",
    "print(list(map(str, filtered_users)))"
   ]
  }
 ],
 "metadata": {
  "kernelspec": {
   "display_name": "Python 3 (ipykernel)",
   "language": "python",
   "name": "python3"
  },
  "language_info": {
   "codemirror_mode": {
    "name": "ipython",
    "version": 3
   },
   "file_extension": ".py",
   "mimetype": "text/x-python",
   "name": "python",
   "nbconvert_exporter": "python",
   "pygments_lexer": "ipython3",
   "version": "3.12.7"
  }
 },
 "nbformat": 4,
 "nbformat_minor": 5
}
