{
 "cells": [
  {
   "cell_type": "code",
   "execution_count": 18,
   "id": "961b50eb-fd87-4acb-b5a4-add881bc00d9",
   "metadata": {},
   "outputs": [
    {
     "name": "stdin",
     "output_type": "stream",
     "text": [
      "Enter height:  3\n",
      "Enter width:  5\n"
     ]
    },
    {
     "name": "stdout",
     "output_type": "stream",
     "text": [
      "*****\n",
      "*****\n",
      "*****\n"
     ]
    }
   ],
   "source": [
    "h = int(input(\"Enter height: \"))\n",
    "w = int(input(\"Enter width: \"))\n",
    "\n",
    "for i in range(h):\n",
    "    print(\"*\" * w)"
   ]
  },
  {
   "cell_type": "code",
   "execution_count": 42,
   "id": "db06a8a1-b1d6-4432-86c6-5caf2a2c2a37",
   "metadata": {},
   "outputs": [
    {
     "name": "stdin",
     "output_type": "stream",
     "text": [
      "Enter a number:  3\n",
      "Enter the degree of the number:  4\n"
     ]
    },
    {
     "name": "stdout",
     "output_type": "stream",
     "text": [
      "1 ^ 1 = 1,\t1 ^ 2 = 1,\t1 ^ 3 = 1,\t1 ^ 4 = 1\n",
      "2 ^ 1 = 2,\t2 ^ 2 = 4,\t2 ^ 3 = 8,\t2 ^ 4 = 8\n",
      "3 ^ 1 = 3,\t3 ^ 2 = 9,\t3 ^ 3 = 27,\t3 ^ 4 = 27\n"
     ]
    }
   ],
   "source": [
    "number = int(input(\"Enter a number: \"))\n",
    "degree = int(input(\"Enter the degree of the number: \"))\n",
    "\n",
    "for i in range(1, number +1):\n",
    "    for j in range(1, degree+1):\n",
    "        if j < degree:\n",
    "            result = i ** j\n",
    "            print(f\"{i} ^ {j} = {result}\", end=\",\\t\")\n",
    "        else:\n",
    "            print(f\"{i} ^ {j} = {result}\")"
   ]
  },
  {
   "cell_type": "code",
   "execution_count": 49,
   "id": "55a5fd37-1c5f-40e9-960e-60fcb2baed47",
   "metadata": {},
   "outputs": [
    {
     "name": "stdin",
     "output_type": "stream",
     "text": [
      "Set time in seconds:  4\n"
     ]
    },
    {
     "name": "stdout",
     "output_type": "stream",
     "text": [
      "4\n",
      "3\n",
      "2\n",
      "1\n",
      "Time's up!\n"
     ]
    }
   ],
   "source": [
    "counter = int(input(\"Set time in seconds: \"))\n",
    "\n",
    "while counter > 0:\n",
    "    print(counter)\n",
    "    counter = counter - 1\n",
    "print(\"Time's up!\")"
   ]
  },
  {
   "cell_type": "code",
   "execution_count": 59,
   "id": "d60740fa-5208-429f-aefc-d3e962d9a6d5",
   "metadata": {},
   "outputs": [
    {
     "name": "stdout",
     "output_type": "stream",
     "text": [
      "39\n"
     ]
    },
    {
     "name": "stdin",
     "output_type": "stream",
     "text": [
      "Enter a number between 1 and 100:  20\n"
     ]
    },
    {
     "name": "stdout",
     "output_type": "stream",
     "text": [
      "Загаданное число больше!\n"
     ]
    },
    {
     "name": "stdin",
     "output_type": "stream",
     "text": [
      "Enter a number between 1 and 100:  40\n"
     ]
    },
    {
     "name": "stdout",
     "output_type": "stream",
     "text": [
      "Загаданное число меньше!\n"
     ]
    },
    {
     "name": "stdin",
     "output_type": "stream",
     "text": [
      "Enter a number between 1 and 100:  30\n"
     ]
    },
    {
     "name": "stdout",
     "output_type": "stream",
     "text": [
      "Загаданное число больше!\n"
     ]
    },
    {
     "name": "stdin",
     "output_type": "stream",
     "text": [
      "Enter a number between 1 and 100:  39\n"
     ]
    },
    {
     "name": "stdout",
     "output_type": "stream",
     "text": [
      "Вы угадали число!\n"
     ]
    }
   ],
   "source": [
    "import random\n",
    "\n",
    "set_random = random.randint(1, 101)\n",
    "print(set_random)\n",
    "\n",
    "while True:\n",
    "    number = int(input(\"Enter a number between 1 and 100: \"))\n",
    "    if number < set_random:\n",
    "        print(\"The guessed number is higher!\")\n",
    "    elif number > set_random:\n",
    "        print(\"The guessed number is smaller!\")\n",
    "    else:\n",
    "        print(\"You guessed the number!\")\n",
    "        break"
   ]
  }
 ],
 "metadata": {
  "kernelspec": {
   "display_name": "Python 3 (ipykernel)",
   "language": "python",
   "name": "python3"
  },
  "language_info": {
   "codemirror_mode": {
    "name": "ipython",
    "version": 3
   },
   "file_extension": ".py",
   "mimetype": "text/x-python",
   "name": "python",
   "nbconvert_exporter": "python",
   "pygments_lexer": "ipython3",
   "version": "3.12.7"
  }
 },
 "nbformat": 4,
 "nbformat_minor": 5
}
