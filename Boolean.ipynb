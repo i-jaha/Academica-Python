{
 "cells": [
  {
   "cell_type": "code",
   "execution_count": 11,
   "id": "ef5ac94b-0934-4b3e-80b4-8965ee4a9ff6",
   "metadata": {},
   "outputs": [
    {
     "name": "stdout",
     "output_type": "stream",
     "text": [
      "Kevin Mitnick is a legendary hacker known for their skills and influence.\n",
      "Adrian Lamo is a legendary hacker known for their skills and influence.\n",
      "Gary McKinnon is a legendary hacker known for their skills and influence.\n"
     ]
    }
   ],
   "source": [
    "programmers = [\"Kevin Mitnick\", \"Adrian Lamo\", \"Gary McKinnon\"]\n",
    "\n",
    "print(programmers[0], \"is a legendary hacker known for their skills and influence.\")\n",
    "print(programmers[1], \"is a legendary hacker known for their skills and influence.\")\n",
    "print(programmers[2], \"is a legendary hacker known for their skills and influence.\")"
   ]
  },
  {
   "cell_type": "code",
   "execution_count": 30,
   "id": "bb39e7d4-3e2b-4374-b17d-9b86e8c9e509",
   "metadata": {},
   "outputs": [
    {
     "name": "stdout",
     "output_type": "stream",
     "text": [
      "Приглашаю тебя, Hester, на обед\n",
      "Приглашаю тебя, Sally, на обед\n",
      "Приглашаю тебя, Justin, на обед\n",
      "Приглашаю тебя, Antonio, на обед\n"
     ]
    }
   ],
   "source": [
    "guests = [\"Hester\", \"Sally\", \"Justin\", \"Antonio\"]\n",
    "\n",
    "print(f\"Приглашаю тебя, {guests[0]}, на обед\")\n",
    "print(f\"Приглашаю тебя, {guests[1]}, на обед\")\n",
    "print(f\"Приглашаю тебя, {guests[2]}, на обед\")\n",
    "print(f\"Приглашаю тебя, {guests[3]}, на обед\")"
   ]
  },
  {
   "cell_type": "code",
   "execution_count": 31,
   "id": "18cf8d32-d723-497f-a17c-d48ca7ae9d30",
   "metadata": {},
   "outputs": [
    {
     "name": "stdout",
     "output_type": "stream",
     "text": [
      "Расширяем список гостей\n",
      "['Emilie', 'Hester', 'Louisa', 'Sally', 'Justin', 'Antonio', 'Mary']\n",
      "Приглашаю тебя, Emilie, на обед\n",
      "Приглашаю тебя, Hester, на обед\n",
      "Приглашаю тебя, Louisa, на обед\n",
      "Приглашаю тебя, Sally, на обед\n",
      "Приглашаю тебя, Justin, на обед\n",
      "Приглашаю тебя, Antonio, на обед\n",
      "Приглашаю тебя, Mary, на обед\n"
     ]
    }
   ],
   "source": [
    "print(\"Расширяем список гостей\")\n",
    "guests.insert(0, \"Emilie\")\n",
    "guests.insert(2, \"Louisa\")\n",
    "guests.append(\"Mary\")\n",
    "print(guests)\n",
    "\n",
    "print(f\"Приглашаю тебя, {guests[0]}, на обед\")\n",
    "print(f\"Приглашаю тебя, {guests[1]}, на обед\")\n",
    "print(f\"Приглашаю тебя, {guests[2]}, на обед\")\n",
    "print(f\"Приглашаю тебя, {guests[3]}, на обед\")\n",
    "print(f\"Приглашаю тебя, {guests[4]}, на обед\")\n",
    "print(f\"Приглашаю тебя, {guests[5]}, на обед\")\n",
    "print(f\"Приглашаю тебя, {guests[6]}, на обед\")"
   ]
  },
  {
   "cell_type": "code",
   "execution_count": 32,
   "id": "12ddb3b1-75e9-41ad-96ae-bee45cccf482",
   "metadata": {},
   "outputs": [
    {
     "name": "stdout",
     "output_type": "stream",
     "text": [
      "Уменьшаем список гостей\n",
      "['Emilie', 'Hester', 'Louisa', 'Sally', 'Justin', 'Antonio', 'Mary']\n",
      "Сожалею об отмене приглашения, Louisa, на обед\n",
      "Сожалею об отмене приглашения, Sally, на обед\n",
      "Сожалею об отмене приглашения, Justin, на обед\n",
      "Сожалею об отмене приглашения, Antonio, на обед\n",
      "Сожалею об отмене приглашения, Mary, на обед\n"
     ]
    }
   ],
   "source": [
    "print(\"Уменьшаем список гостей\")\n",
    "print(guests)\n",
    "print(f\"Сожалею об отмене приглашения, {guests.pop(2)}, на обед\")\n",
    "print(f\"Сожалею об отмене приглашения, {guests.pop(2)}, на обед\")\n",
    "print(f\"Сожалею об отмене приглашения, {guests.pop(2)}, на обед\")\n",
    "print(f\"Сожалею об отмене приглашения, {guests.pop(2)}, на обед\")\n",
    "print(f\"Сожалею об отмене приглашения, {guests.pop(2)}, на обед\")"
   ]
  },
  {
   "cell_type": "code",
   "execution_count": 46,
   "id": "14dc7d33-1fb3-4df8-aaff-0b9e630872b2",
   "metadata": {},
   "outputs": [
    {
     "name": "stdout",
     "output_type": "stream",
     "text": [
      "['Tuvalu', 'Comoros', 'Kiribati', 'Djibouti', 'Bhutan']\n",
      "Sorted order: ['Bhutan', 'Comoros', 'Djibouti', 'Kiribati', 'Tuvalu']\n",
      "Original order: ['Tuvalu', 'Comoros', 'Kiribati', 'Djibouti', 'Bhutan']\n",
      "Reversed order: ['Bhutan', 'Djibouti', 'Kiribati', 'Comoros', 'Tuvalu']\n"
     ]
    }
   ],
   "source": [
    "countries = [\"Tuvalu\", \"Comoros\", \"Kiribati\", \"Djibouti\", \"Bhutan\"]\n",
    "print(countries)\n",
    "\n",
    "print(f\"Sorted order: {sorted(countries)}\")\n",
    "print(f\"Original order: {countries}\")\n",
    "countries.reverse()\n",
    "reversed_countries = countries\n",
    "print(f\"Reversed order: {reversed_countries}\")"
   ]
  },
  {
   "cell_type": "code",
   "execution_count": null,
   "id": "12a3b8d2-21a2-442e-aba5-e9d9d1f5120d",
   "metadata": {},
   "outputs": [],
   "source": []
  }
 ],
 "metadata": {
  "kernelspec": {
   "display_name": "Python 3 (ipykernel)",
   "language": "python",
   "name": "python3"
  },
  "language_info": {
   "codemirror_mode": {
    "name": "ipython",
    "version": 3
   },
   "file_extension": ".py",
   "mimetype": "text/x-python",
   "name": "python",
   "nbconvert_exporter": "python",
   "pygments_lexer": "ipython3",
   "version": "3.12.7"
  }
 },
 "nbformat": 4,
 "nbformat_minor": 5
}
