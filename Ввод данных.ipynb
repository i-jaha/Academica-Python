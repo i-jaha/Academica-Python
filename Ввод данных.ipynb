{
 "cells": [
  {
   "cell_type": "code",
   "execution_count": 1,
   "id": "5f99766f-b5de-401f-91b6-2cad573603e0",
   "metadata": {},
   "outputs": [
    {
     "name": "stdout",
     "output_type": "stream",
     "text": [
      "Title: The Sixth Sense\n",
      "Year of release: 1999\n",
      "Genre: thriller\n",
      "Director: M. Night Shyamalan\n",
      "Actors: ('Bruce Willis', 'Haley Joel Osment')\n"
     ]
    }
   ],
   "source": [
    "fav_film = {\"title\": \"The Sixth Sense\",\n",
    "        \"year\": 1999,\n",
    "        \"genre\": \"thriller\",\n",
    "        \"director\": \"M. Night Shyamalan\"\n",
    "       }\n",
    "fav_film[\"actors\"] = \"Bruce Willis\", \"Haley Joel Osment\"\n",
    "\n",
    "print(f\"Title: {fav_film[\"title\"]}\")\n",
    "print(f\"Year of release: {fav_film[\"year\"]}\")\n",
    "print(f\"Genre: {fav_film[\"genre\"]}\")\n",
    "print(f\"Director: {fav_film[\"director\"]}\")\n",
    "print(f\"Actors: {fav_film[\"actors\"]}\")"
   ]
  },
  {
   "cell_type": "code",
   "execution_count": 2,
   "id": "dab2d5e8-4be7-4e53-a698-eaa2abe6ccac",
   "metadata": {},
   "outputs": [
    {
     "name": "stdout",
     "output_type": "stream",
     "text": [
      "<class 'int'>: 1992\n",
      "<class 'str'>: M\n",
      "<class 'bool'>: True\n",
      "<class 'float'>: 1.74\n"
     ]
    }
   ],
   "source": [
    "my_turple = (1992, \"M\", True, 1.74)\n",
    "print(f\"{type(my_turple[0])}: {my_turple[0]}\")\n",
    "print(f\"{type(my_turple[1])}: {my_turple[1]}\")\n",
    "print(f\"{type(my_turple[2])}: {my_turple[2]}\")\n",
    "print(f\"{type(my_turple[3])}: {my_turple[3]}\")"
   ]
  },
  {
   "cell_type": "code",
   "execution_count": 3,
   "id": "7ffb0e5f-9b8f-4bde-9444-d357a02d6053",
   "metadata": {},
   "outputs": [
    {
     "name": "stdin",
     "output_type": "stream",
     "text": [
      " 8\n"
     ]
    },
    {
     "name": "stdout",
     "output_type": "stream",
     "text": [
      "The number is even\n"
     ]
    }
   ],
   "source": [
    "num = int(input())\n",
    "if num % 2 == 0:\n",
    "    print(\"The number is even\")\n",
    "else:\n",
    "    print(\"The number is odd\")"
   ]
  },
  {
   "cell_type": "code",
   "execution_count": 4,
   "id": "2d469ee9-9d93-4429-8ff3-5e39682fd64e",
   "metadata": {},
   "outputs": [
    {
     "name": "stdin",
     "output_type": "stream",
     "text": [
      "What's your name? kj\n",
      "What is your favorite color? mb\n"
     ]
    },
    {
     "name": "stdout",
     "output_type": "stream",
     "text": [
      "Hi, kj! Your favorite color is mb.\n"
     ]
    }
   ],
   "source": [
    "name = input(\"What's your name?\")\n",
    "color = input(\"What is your favorite color?\")\n",
    "\n",
    "print(f\"Hi, {name}! Your favorite color is {color}.\")"
   ]
  }
 ],
 "metadata": {
  "kernelspec": {
   "display_name": "Python 3 (ipykernel)",
   "language": "python",
   "name": "python3"
  },
  "language_info": {
   "codemirror_mode": {
    "name": "ipython",
    "version": 3
   },
   "file_extension": ".py",
   "mimetype": "text/x-python",
   "name": "python",
   "nbconvert_exporter": "python",
   "pygments_lexer": "ipython3",
   "version": "3.12.7"
  }
 },
 "nbformat": 4,
 "nbformat_minor": 5
}
