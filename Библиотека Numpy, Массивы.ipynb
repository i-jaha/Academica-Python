{
 "cells": [
  {
   "cell_type": "code",
   "execution_count": 17,
   "id": "c0c84576-f984-4861-bdcc-30189feb0d59",
   "metadata": {},
   "outputs": [],
   "source": [
    "import numpy as np"
   ]
  },
  {
   "cell_type": "code",
   "execution_count": 20,
   "id": "fb435667-e3bb-4391-ac5e-e459073fd137",
   "metadata": {},
   "outputs": [
    {
     "name": "stdout",
     "output_type": "stream",
     "text": [
      "[ 1  2  3  4  5  6  7  8  9 10]\n"
     ]
    }
   ],
   "source": [
    "list_1 = list(range(1, 11))\n",
    "array_1 = np.array(list_1)\n",
    "print(array_1)"
   ]
  },
  {
   "cell_type": "code",
   "execution_count": 22,
   "id": "4a4060fa-0f13-4a41-870b-584a421159c3",
   "metadata": {},
   "outputs": [
    {
     "name": "stdout",
     "output_type": "stream",
     "text": [
      "[ 7  9 11 13 15]\n"
     ]
    }
   ],
   "source": [
    "array_2 = np.array(list(range(1, 6)))\n",
    "array_3 = np.array(list(range(6, 11)))\n",
    "print(array_2 + array_3)"
   ]
  },
  {
   "cell_type": "code",
   "execution_count": 23,
   "id": "5b3575a9-ef6c-447a-992b-003a12d89582",
   "metadata": {},
   "outputs": [
    {
     "name": "stdout",
     "output_type": "stream",
     "text": [
      "2\n",
      "4\n",
      "6\n",
      "8\n",
      "10\n"
     ]
    }
   ],
   "source": [
    "array_4 = np.array(list(range(1, 11)))\n",
    "for a in array_4:\n",
    "    if a % 2 == 0:\n",
    "        print(a)"
   ]
  }
 ],
 "metadata": {
  "kernelspec": {
   "display_name": "Python 3 (ipykernel)",
   "language": "python",
   "name": "python3"
  },
  "language_info": {
   "codemirror_mode": {
    "name": "ipython",
    "version": 3
   },
   "file_extension": ".py",
   "mimetype": "text/x-python",
   "name": "python",
   "nbconvert_exporter": "python",
   "pygments_lexer": "ipython3",
   "version": "3.12.7"
  }
 },
 "nbformat": 4,
 "nbformat_minor": 5
}
