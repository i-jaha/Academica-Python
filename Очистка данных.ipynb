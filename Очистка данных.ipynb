{
 "cells": [
  {
   "cell_type": "code",
   "execution_count": 1,
   "id": "5fb4f126-01bc-4fe6-96e6-b378307618cd",
   "metadata": {},
   "outputs": [],
   "source": [
    "import pandas as pd"
   ]
  },
  {
   "cell_type": "code",
   "execution_count": 23,
   "id": "9cb20684-2d9b-42b2-8429-85d8072332ea",
   "metadata": {},
   "outputs": [],
   "source": [
    "# Прочитать данный набор данных из CSV файла.\n",
    "df = pd.read_csv(\"Таблица для ДЗ.csv\")"
   ]
  },
  {
   "cell_type": "code",
   "execution_count": 5,
   "id": "0850aef5-04e5-4a0d-a762-34a7bf358ca7",
   "metadata": {},
   "outputs": [],
   "source": [
    "# Сохранить первые 10 строк данных в новый Excel файл.\n",
    "rows_10 = df.to_excel(\"rows10.xlsx\", index=False)"
   ]
  },
  {
   "cell_type": "code",
   "execution_count": 37,
   "id": "54dc8420-180c-4a27-b795-92cdd6845f1a",
   "metadata": {},
   "outputs": [
    {
     "data": {
      "text/html": [
       "<div>\n",
       "<style scoped>\n",
       "    .dataframe tbody tr th:only-of-type {\n",
       "        vertical-align: middle;\n",
       "    }\n",
       "\n",
       "    .dataframe tbody tr th {\n",
       "        vertical-align: top;\n",
       "    }\n",
       "\n",
       "    .dataframe thead th {\n",
       "        text-align: right;\n",
       "    }\n",
       "</style>\n",
       "<table border=\"1\" class=\"dataframe\">\n",
       "  <thead>\n",
       "    <tr style=\"text-align: right;\">\n",
       "      <th></th>\n",
       "      <th>Date</th>\n",
       "      <th>Product</th>\n",
       "      <th>Sales</th>\n",
       "      <th>Customer_Age</th>\n",
       "      <th>Customer_Rating</th>\n",
       "      <th>Returned</th>\n",
       "    </tr>\n",
       "  </thead>\n",
       "  <tbody>\n",
       "    <tr>\n",
       "      <th>3</th>\n",
       "      <td>2020-03-03</td>\n",
       "      <td>Product A</td>\n",
       "      <td>81</td>\n",
       "      <td>35</td>\n",
       "      <td>5</td>\n",
       "      <td>False</td>\n",
       "    </tr>\n",
       "    <tr>\n",
       "      <th>5</th>\n",
       "      <td>2020-04-15</td>\n",
       "      <td>Product A</td>\n",
       "      <td>88</td>\n",
       "      <td>58</td>\n",
       "      <td>2</td>\n",
       "      <td>False</td>\n",
       "    </tr>\n",
       "    <tr>\n",
       "      <th>9</th>\n",
       "      <td>2020-06-05</td>\n",
       "      <td>Product A</td>\n",
       "      <td>33</td>\n",
       "      <td>45</td>\n",
       "      <td>4</td>\n",
       "      <td>False</td>\n",
       "    </tr>\n",
       "    <tr>\n",
       "      <th>13</th>\n",
       "      <td>2020-08-28</td>\n",
       "      <td>Product A</td>\n",
       "      <td>70</td>\n",
       "      <td>65</td>\n",
       "      <td>2</td>\n",
       "      <td>True</td>\n",
       "    </tr>\n",
       "    <tr>\n",
       "      <th>14</th>\n",
       "      <td>2020-09-23</td>\n",
       "      <td>Product A</td>\n",
       "      <td>54</td>\n",
       "      <td>19</td>\n",
       "      <td>1</td>\n",
       "      <td>False</td>\n",
       "    </tr>\n",
       "  </tbody>\n",
       "</table>\n",
       "</div>"
      ],
      "text/plain": [
       "          Date    Product  Sales  Customer_Age  Customer_Rating  Returned\n",
       "3   2020-03-03  Product A     81            35                5     False\n",
       "5   2020-04-15  Product A     88            58                2     False\n",
       "9   2020-06-05  Product A     33            45                4     False\n",
       "13  2020-08-28  Product A     70            65                2      True\n",
       "14  2020-09-23  Product A     54            19                1     False"
      ]
     },
     "execution_count": 37,
     "metadata": {},
     "output_type": "execute_result"
    }
   ],
   "source": [
    "# Создать новый DataFrame, содержащий только продажи Product A.\n",
    "product_a = df[df[\"Product\"] == \"Product A\"]\n",
    "product_a"
   ]
  },
  {
   "cell_type": "code",
   "execution_count": 36,
   "id": "540ab27d-3fe4-40ab-ae64-d704cb67c109",
   "metadata": {},
   "outputs": [
    {
     "data": {
      "text/html": [
       "<div>\n",
       "<style scoped>\n",
       "    .dataframe tbody tr th:only-of-type {\n",
       "        vertical-align: middle;\n",
       "    }\n",
       "\n",
       "    .dataframe tbody tr th {\n",
       "        vertical-align: top;\n",
       "    }\n",
       "\n",
       "    .dataframe thead th {\n",
       "        text-align: right;\n",
       "    }\n",
       "</style>\n",
       "<table border=\"1\" class=\"dataframe\">\n",
       "  <thead>\n",
       "    <tr style=\"text-align: right;\">\n",
       "      <th></th>\n",
       "      <th>Date</th>\n",
       "      <th>Product</th>\n",
       "      <th>Sales</th>\n",
       "      <th>Customer_Age</th>\n",
       "      <th>Customer_Rating</th>\n",
       "      <th>Returned</th>\n",
       "    </tr>\n",
       "  </thead>\n",
       "  <tbody>\n",
       "    <tr>\n",
       "      <th>0</th>\n",
       "      <td>2020-01-08</td>\n",
       "      <td>Product B</td>\n",
       "      <td>87</td>\n",
       "      <td>55</td>\n",
       "      <td>4</td>\n",
       "      <td>False</td>\n",
       "    </tr>\n",
       "    <tr>\n",
       "      <th>1</th>\n",
       "      <td>2020-01-20</td>\n",
       "      <td>Product B</td>\n",
       "      <td>9</td>\n",
       "      <td>53</td>\n",
       "      <td>1</td>\n",
       "      <td>False</td>\n",
       "    </tr>\n",
       "    <tr>\n",
       "      <th>5</th>\n",
       "      <td>2020-04-15</td>\n",
       "      <td>Product A</td>\n",
       "      <td>88</td>\n",
       "      <td>58</td>\n",
       "      <td>2</td>\n",
       "      <td>False</td>\n",
       "    </tr>\n",
       "    <tr>\n",
       "      <th>10</th>\n",
       "      <td>2020-07-09</td>\n",
       "      <td>Product C</td>\n",
       "      <td>63</td>\n",
       "      <td>66</td>\n",
       "      <td>5</td>\n",
       "      <td>True</td>\n",
       "    </tr>\n",
       "    <tr>\n",
       "      <th>11</th>\n",
       "      <td>2020-08-09</td>\n",
       "      <td>Product B</td>\n",
       "      <td>36</td>\n",
       "      <td>61</td>\n",
       "      <td>5</td>\n",
       "      <td>False</td>\n",
       "    </tr>\n",
       "    <tr>\n",
       "      <th>13</th>\n",
       "      <td>2020-08-28</td>\n",
       "      <td>Product A</td>\n",
       "      <td>70</td>\n",
       "      <td>65</td>\n",
       "      <td>2</td>\n",
       "      <td>True</td>\n",
       "    </tr>\n",
       "  </tbody>\n",
       "</table>\n",
       "</div>"
      ],
      "text/plain": [
       "          Date    Product  Sales  Customer_Age  Customer_Rating  Returned\n",
       "0   2020-01-08  Product B     87            55                4     False\n",
       "1   2020-01-20  Product B      9            53                1     False\n",
       "5   2020-04-15  Product A     88            58                2     False\n",
       "10  2020-07-09  Product C     63            66                5      True\n",
       "11  2020-08-09  Product B     36            61                5     False\n",
       "13  2020-08-28  Product A     70            65                2      True"
      ]
     },
     "execution_count": 36,
     "metadata": {},
     "output_type": "execute_result"
    }
   ],
   "source": [
    "# Выбрать все строки, где Customer_Age больше 50 лет.\n",
    "customer_age_50 = df[df[\"Customer_Age\"] > 50]\n",
    "customer_age_50"
   ]
  },
  {
   "cell_type": "code",
   "execution_count": 35,
   "id": "e08bdfc0-ff67-43c3-96ed-4f6a275a4933",
   "metadata": {},
   "outputs": [
    {
     "data": {
      "text/html": [
       "<div>\n",
       "<style scoped>\n",
       "    .dataframe tbody tr th:only-of-type {\n",
       "        vertical-align: middle;\n",
       "    }\n",
       "\n",
       "    .dataframe tbody tr th {\n",
       "        vertical-align: top;\n",
       "    }\n",
       "\n",
       "    .dataframe thead th {\n",
       "        text-align: right;\n",
       "    }\n",
       "</style>\n",
       "<table border=\"1\" class=\"dataframe\">\n",
       "  <thead>\n",
       "    <tr style=\"text-align: right;\">\n",
       "      <th></th>\n",
       "      <th>Date</th>\n",
       "      <th>Product</th>\n",
       "      <th>Sales</th>\n",
       "      <th>Customer_Age</th>\n",
       "      <th>Customer_Rating</th>\n",
       "      <th>Returned</th>\n",
       "    </tr>\n",
       "  </thead>\n",
       "  <tbody>\n",
       "    <tr>\n",
       "      <th>3</th>\n",
       "      <td>2020-03-03</td>\n",
       "      <td>Product A</td>\n",
       "      <td>81</td>\n",
       "      <td>35</td>\n",
       "      <td>5</td>\n",
       "      <td>False</td>\n",
       "    </tr>\n",
       "    <tr>\n",
       "      <th>10</th>\n",
       "      <td>2020-07-09</td>\n",
       "      <td>Product C</td>\n",
       "      <td>63</td>\n",
       "      <td>66</td>\n",
       "      <td>5</td>\n",
       "      <td>True</td>\n",
       "    </tr>\n",
       "    <tr>\n",
       "      <th>11</th>\n",
       "      <td>2020-08-09</td>\n",
       "      <td>Product B</td>\n",
       "      <td>36</td>\n",
       "      <td>61</td>\n",
       "      <td>5</td>\n",
       "      <td>False</td>\n",
       "    </tr>\n",
       "  </tbody>\n",
       "</table>\n",
       "</div>"
      ],
      "text/plain": [
       "          Date    Product  Sales  Customer_Age  Customer_Rating  Returned\n",
       "3   2020-03-03  Product A     81            35                5     False\n",
       "10  2020-07-09  Product C     63            66                5      True\n",
       "11  2020-08-09  Product B     36            61                5     False"
      ]
     },
     "execution_count": 35,
     "metadata": {},
     "output_type": "execute_result"
    }
   ],
   "source": [
    "# Выбрать все продажи с рейтингом покупателя 5.\n",
    "df[df[\"Customer_Rating\"] == 5]"
   ]
  },
  {
   "cell_type": "code",
   "execution_count": 50,
   "id": "9d838ae4-b363-4ba0-af84-469546dd11e5",
   "metadata": {},
   "outputs": [
    {
     "data": {
      "text/html": [
       "<div>\n",
       "<style scoped>\n",
       "    .dataframe tbody tr th:only-of-type {\n",
       "        vertical-align: middle;\n",
       "    }\n",
       "\n",
       "    .dataframe tbody tr th {\n",
       "        vertical-align: top;\n",
       "    }\n",
       "\n",
       "    .dataframe thead th {\n",
       "        text-align: right;\n",
       "    }\n",
       "</style>\n",
       "<table border=\"1\" class=\"dataframe\">\n",
       "  <thead>\n",
       "    <tr style=\"text-align: right;\">\n",
       "      <th></th>\n",
       "      <th>Date</th>\n",
       "      <th>Product</th>\n",
       "      <th>Sales</th>\n",
       "      <th>Customer_Age</th>\n",
       "      <th>Customer_Rating</th>\n",
       "      <th>Returned</th>\n",
       "    </tr>\n",
       "  </thead>\n",
       "  <tbody>\n",
       "    <tr>\n",
       "      <th>8</th>\n",
       "      <td>2020-06-03</td>\n",
       "      <td>Product B</td>\n",
       "      <td>77</td>\n",
       "      <td>28</td>\n",
       "      <td>4</td>\n",
       "      <td>True</td>\n",
       "    </tr>\n",
       "  </tbody>\n",
       "</table>\n",
       "</div>"
      ],
      "text/plain": [
       "         Date    Product  Sales  Customer_Age  Customer_Rating  Returned\n",
       "8  2020-06-03  Product B     77            28                4      True"
      ]
     },
     "execution_count": 50,
     "metadata": {},
     "output_type": "execute_result"
    }
   ],
   "source": [
    "# Выбрать все записи, где продукт был возвращен, и возраст покупателя меньше 30 лет.\n",
    "df[(df[\"Returned\"] == True) & (df[\"Customer_Age\"] < 30)]"
   ]
  },
  {
   "cell_type": "code",
   "execution_count": 52,
   "id": "1ade6220-4708-49e9-a891-e03e86f35969",
   "metadata": {},
   "outputs": [
    {
     "data": {
      "text/html": [
       "<div>\n",
       "<style scoped>\n",
       "    .dataframe tbody tr th:only-of-type {\n",
       "        vertical-align: middle;\n",
       "    }\n",
       "\n",
       "    .dataframe tbody tr th {\n",
       "        vertical-align: top;\n",
       "    }\n",
       "\n",
       "    .dataframe thead th {\n",
       "        text-align: right;\n",
       "    }\n",
       "</style>\n",
       "<table border=\"1\" class=\"dataframe\">\n",
       "  <thead>\n",
       "    <tr style=\"text-align: right;\">\n",
       "      <th></th>\n",
       "      <th>Date</th>\n",
       "      <th>Product</th>\n",
       "      <th>Sales</th>\n",
       "      <th>Customer_Age</th>\n",
       "      <th>Customer_Rating</th>\n",
       "      <th>Returned</th>\n",
       "    </tr>\n",
       "  </thead>\n",
       "  <tbody>\n",
       "    <tr>\n",
       "      <th>5</th>\n",
       "      <td>2020-04-15</td>\n",
       "      <td>Product A</td>\n",
       "      <td>88</td>\n",
       "      <td>58</td>\n",
       "      <td>2</td>\n",
       "      <td>False</td>\n",
       "    </tr>\n",
       "  </tbody>\n",
       "</table>\n",
       "</div>"
      ],
      "text/plain": [
       "         Date    Product  Sales  Customer_Age  Customer_Rating  Returned\n",
       "5  2020-04-15  Product A     88            58                2     False"
      ]
     },
     "execution_count": 52,
     "metadata": {},
     "output_type": "execute_result"
    }
   ],
   "source": [
    "# Используйте .loc для выбора всех строк, где дата продажи соответствует конкретной дате (например, '2020-04-15').\n",
    "df.loc[df[\"Date\"] == \"2020-04-15\"]"
   ]
  },
  {
   "cell_type": "code",
   "execution_count": 60,
   "id": "3f8e5ae0-d3ee-4844-afd3-b5e7a0c29769",
   "metadata": {},
   "outputs": [
    {
     "data": {
      "text/html": [
       "<div>\n",
       "<style scoped>\n",
       "    .dataframe tbody tr th:only-of-type {\n",
       "        vertical-align: middle;\n",
       "    }\n",
       "\n",
       "    .dataframe tbody tr th {\n",
       "        vertical-align: top;\n",
       "    }\n",
       "\n",
       "    .dataframe thead th {\n",
       "        text-align: right;\n",
       "    }\n",
       "</style>\n",
       "<table border=\"1\" class=\"dataframe\">\n",
       "  <thead>\n",
       "    <tr style=\"text-align: right;\">\n",
       "      <th></th>\n",
       "      <th>Product</th>\n",
       "      <th>Sales</th>\n",
       "    </tr>\n",
       "  </thead>\n",
       "  <tbody>\n",
       "    <tr>\n",
       "      <th>5</th>\n",
       "      <td>Product A</td>\n",
       "      <td>88</td>\n",
       "    </tr>\n",
       "    <tr>\n",
       "      <th>6</th>\n",
       "      <td>Product C</td>\n",
       "      <td>85</td>\n",
       "    </tr>\n",
       "    <tr>\n",
       "      <th>7</th>\n",
       "      <td>Product C</td>\n",
       "      <td>62</td>\n",
       "    </tr>\n",
       "    <tr>\n",
       "      <th>8</th>\n",
       "      <td>Product B</td>\n",
       "      <td>77</td>\n",
       "    </tr>\n",
       "    <tr>\n",
       "      <th>9</th>\n",
       "      <td>Product A</td>\n",
       "      <td>33</td>\n",
       "    </tr>\n",
       "    <tr>\n",
       "      <th>10</th>\n",
       "      <td>Product C</td>\n",
       "      <td>63</td>\n",
       "    </tr>\n",
       "    <tr>\n",
       "      <th>11</th>\n",
       "      <td>Product B</td>\n",
       "      <td>36</td>\n",
       "    </tr>\n",
       "  </tbody>\n",
       "</table>\n",
       "</div>"
      ],
      "text/plain": [
       "      Product  Sales\n",
       "5   Product A     88\n",
       "6   Product C     85\n",
       "7   Product C     62\n",
       "8   Product B     77\n",
       "9   Product A     33\n",
       "10  Product C     63\n",
       "11  Product B     36"
      ]
     },
     "execution_count": 60,
     "metadata": {},
     "output_type": "execute_result"
    }
   ],
   "source": [
    "# Используйте .loc для выбора строк с 5 по 10 и колонок 'Product' и 'Sales'.\n",
    "df.loc[5:11, [\"Product\", \"Sales\"]]"
   ]
  },
  {
   "cell_type": "code",
   "execution_count": 79,
   "id": "87354f97-8b61-4a79-9457-e371471a41f0",
   "metadata": {},
   "outputs": [],
   "source": [
    "# Используйте .loc для изменения значения 'Returned' на True для всех продаж, где 'Customer_Rating' равен 1.\n",
    "df['Returned'] = df['Returned'].astype(str)\n",
    "df.loc[df['Customer_Rating'] == 1, 'Returned'] = 'True'"
   ]
  },
  {
   "cell_type": "code",
   "execution_count": 76,
   "id": "ed6b75d8-a0a9-4587-a44e-911402ea23e1",
   "metadata": {},
   "outputs": [
    {
     "data": {
      "text/plain": [
       "Product\n",
       "Product A    44.4\n",
       "Product B    43.4\n",
       "Product C    47.4\n",
       "Name: Customer_Age, dtype: float64"
      ]
     },
     "execution_count": 76,
     "metadata": {},
     "output_type": "execute_result"
    }
   ],
   "source": [
    "# Группируйте данные по 'Product' и вычислите средний возраст ('Customer_Age') для каждого продукта.\n",
    "df.groupby(\"Product\")[\"Customer_Age\"].mean()"
   ]
  },
  {
   "cell_type": "code",
   "execution_count": 77,
   "id": "726d1944-a643-424e-b1a1-7fee571e06bc",
   "metadata": {},
   "outputs": [
    {
     "data": {
      "text/plain": [
       "Customer_Rating\n",
       "1     63\n",
       "2    264\n",
       "3     97\n",
       "4    259\n",
       "5    180\n",
       "Name: Sales, dtype: int64"
      ]
     },
     "execution_count": 77,
     "metadata": {},
     "output_type": "execute_result"
    }
   ],
   "source": [
    "# Группируйте данные по 'Customer_Rating' и подсчитайте общую сумму ('Sales') для каждого рейтинга.\n",
    "df.groupby(\"Customer_Rating\")[\"Sales\"].sum()"
   ]
  }
 ],
 "metadata": {
  "kernelspec": {
   "display_name": "Python 3 (ipykernel)",
   "language": "python",
   "name": "python3"
  },
  "language_info": {
   "codemirror_mode": {
    "name": "ipython",
    "version": 3
   },
   "file_extension": ".py",
   "mimetype": "text/x-python",
   "name": "python",
   "nbconvert_exporter": "python",
   "pygments_lexer": "ipython3",
   "version": "3.12.7"
  }
 },
 "nbformat": 4,
 "nbformat_minor": 5
}
