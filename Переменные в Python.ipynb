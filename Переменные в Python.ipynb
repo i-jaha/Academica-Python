{
 "cells": [
  {
   "cell_type": "code",
   "execution_count": 1,
   "id": "5cc09064-4102-468e-807a-093de79f82b3",
   "metadata": {},
   "outputs": [
    {
     "name": "stdout",
     "output_type": "stream",
     "text": [
      "iskander jahangirli\n",
      "ISKANDER JAHANGIRLI\n",
      "Iskander Jahangirli\n"
     ]
    }
   ],
   "source": [
    "name = \"Iskander\"\n",
    "surname = \"Jahangirli\"\n",
    "full_name = name + \" \"+ surname\n",
    "\n",
    "print(full_name.lower())\n",
    "print(full_name.upper())\n",
    "print(full_name.title())"
   ]
  },
  {
   "cell_type": "code",
   "execution_count": 2,
   "id": "4c1b802a-782e-47d2-85e0-5d2f939a3314",
   "metadata": {},
   "outputs": [
    {
     "name": "stdout",
     "output_type": "stream",
     "text": [
      "I\n",
      "\ts\n",
      "\t\tk\n",
      "\t\t\ta\n",
      "\t\t\t\tn\n",
      "\t\t\t\t\td\n",
      "\t\t\t\t\t\te\n",
      "\t\t\t\t\t\t\tr\n",
      "\t\t\t\t\t\t\t\t\n"
     ]
    }
   ],
   "source": [
    "print(f\"I\\n\\ts\\n\\t\\tk\\n\\t\\t\\ta\\n\\t\\t\\t\\tn\\n\\t\\t\\t\\t\\td\\n\\t\\t\\t\\t\\t\\te\\n\\t\\t\\t\\t\\t\\t\\tr\\n\\t\\t\\t\\t\\t\\t\\t\\t\")"
   ]
  },
  {
   "cell_type": "code",
   "execution_count": 3,
   "id": "981bc41b-6b28-49dc-88e9-40b7a5b6b7bb",
   "metadata": {},
   "outputs": [
    {
     "name": "stdout",
     "output_type": "stream",
     "text": [
      "Мое любимое число: 36.6\n"
     ]
    }
   ],
   "source": [
    "fav_num = 36.6\n",
    "print(f\"Мое любимое число: {fav_num}\")"
   ]
  },
  {
   "cell_type": "code",
   "execution_count": 4,
   "id": "2bd56ae4-7275-4147-ad15-46730601edb9",
   "metadata": {},
   "outputs": [
    {
     "name": "stdout",
     "output_type": "stream",
     "text": [
      "Сложение: 8\n",
      "Вычитание: 8\n",
      "Умножение: 8\n",
      "Деление: 8.0\n"
     ]
    }
   ],
   "source": [
    "addition = 5 + 3\n",
    "subtraction = 10 - 2\n",
    "multiplication = 4 * 2\n",
    "division = 16 / 2\n",
    "\n",
    "print(f\"Сложение: {addition}\")\n",
    "print(f\"Вычитание: {subtraction}\")\n",
    "print(f\"Умножение: {multiplication}\")\n",
    "print(f\"Деление: {division}\")"
   ]
  }
 ],
 "metadata": {
  "kernelspec": {
   "display_name": "Python 3 (ipykernel)",
   "language": "python",
   "name": "python3"
  },
  "language_info": {
   "codemirror_mode": {
    "name": "ipython",
    "version": 3
   },
   "file_extension": ".py",
   "mimetype": "text/x-python",
   "name": "python",
   "nbconvert_exporter": "python",
   "pygments_lexer": "ipython3",
   "version": "3.12.7"
  }
 },
 "nbformat": 4,
 "nbformat_minor": 5
}
