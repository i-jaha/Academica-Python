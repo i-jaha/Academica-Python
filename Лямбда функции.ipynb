{
 "cells": [
  {
   "cell_type": "code",
   "execution_count": 15,
   "id": "840e9f61-c84a-4139-8d95-3a309eaaf34a",
   "metadata": {},
   "outputs": [
    {
     "name": "stdin",
     "output_type": "stream",
     "text": [
      "Enter the first number:  90\n",
      "Enter the second number:  1\n"
     ]
    },
    {
     "name": "stdout",
     "output_type": "stream",
     "text": [
      "Sum of entered numbers: 91\n"
     ]
    }
   ],
   "source": [
    "def sum_numbers():\n",
    "    num_1 = int(input(\"Enter the first number: \"))\n",
    "    num_2 = int(input(\"Enter the second number: \"))\n",
    "    result = num_1 + num_2\n",
    "    return f\"Sum of entered numbers: {result}\"\n",
    "\n",
    "print(sum_numbers())"
   ]
  },
  {
   "cell_type": "code",
   "execution_count": 27,
   "id": "51fa7cb9-b258-46dc-929d-bed3efdf2685",
   "metadata": {},
   "outputs": [
    {
     "name": "stdin",
     "output_type": "stream",
     "text": [
      "Enter a number:  35\n"
     ]
    },
    {
     "name": "stdout",
     "output_type": "stream",
     "text": [
      "Is the number even? False\n"
     ]
    }
   ],
   "source": [
    "def is_even():\n",
    "    num = int(input(\"Enter a number: \"))\n",
    "    return f\"Is the number even? {num % 2 == 0}\"\n",
    "\n",
    "print(is_even())"
   ]
  },
  {
   "cell_type": "code",
   "execution_count": 25,
   "id": "7e22c312-727b-4c33-9cea-d279889e6861",
   "metadata": {},
   "outputs": [
    {
     "name": "stdin",
     "output_type": "stream",
     "text": [
      "Enter numbers separated by spaces: 09234 2034 2394 2934\n"
     ]
    },
    {
     "name": "stdout",
     "output_type": "stream",
     "text": [
      "2934 is the highest number on the list\n"
     ]
    }
   ],
   "source": [
    "def find_max():\n",
    "    num = input(\"Enter numbers separated by spaces:\")\n",
    "    num_list = num.split()\n",
    "    return f\"{max(num_list)} is the highest number on the list\"\n",
    "print(find_max())"
   ]
  },
  {
   "cell_type": "code",
   "execution_count": 30,
   "id": "ef00cf00-5425-4103-b154-4c851ce51d75",
   "metadata": {},
   "outputs": [
    {
     "name": "stdin",
     "output_type": "stream",
     "text": [
      "Enter the temperature in degrees Celsius: 24.5\n"
     ]
    },
    {
     "name": "stdout",
     "output_type": "stream",
     "text": [
      "The temperature in degrees Fahrenheit is 76.1\n"
     ]
    }
   ],
   "source": [
    "def celsius_to_fahrenheit():\n",
    "    celsius = float(input(\"Enter the temperature in degrees Celsius:\"))\n",
    "    fahrenheit = (celsius * 9/5) + 32\n",
    "    return f\"The temperature in degrees Fahrenheit is {fahrenheit}\"\n",
    "\n",
    "print(celsius_to_fahrenheit())"
   ]
  },
  {
   "cell_type": "code",
   "execution_count": 33,
   "id": "688b63b8-8889-49c7-bbe7-ef6fd868687b",
   "metadata": {},
   "outputs": [
    {
     "name": "stdin",
     "output_type": "stream",
     "text": [
      "Enter text in Russian or English Amina\n"
     ]
    },
    {
     "name": "stdout",
     "output_type": "stream",
     "text": [
      "3\n"
     ]
    }
   ],
   "source": [
    "def count_vowels():\n",
    "    text = input(\"Enter text in Russian or English:\")\n",
    "    vowels = \"аеиоуыэюяaeiouy\"\n",
    "    count = 0\n",
    "    for i in text.lower():\n",
    "        if i in vowels:\n",
    "            count = count + 1\n",
    "    return count\n",
    "\n",
    "print(count_vowels())"
   ]
  }
 ],
 "metadata": {
  "kernelspec": {
   "display_name": "Python 3 (ipykernel)",
   "language": "python",
   "name": "python3"
  },
  "language_info": {
   "codemirror_mode": {
    "name": "ipython",
    "version": 3
   },
   "file_extension": ".py",
   "mimetype": "text/x-python",
   "name": "python",
   "nbconvert_exporter": "python",
   "pygments_lexer": "ipython3",
   "version": "3.12.7"
  }
 },
 "nbformat": 4,
 "nbformat_minor": 5
}
