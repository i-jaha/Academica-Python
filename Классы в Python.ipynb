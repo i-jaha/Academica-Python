{
 "cells": [
  {
   "cell_type": "code",
   "execution_count": 25,
   "id": "a2fcd1ff-07dd-4029-ae86-65d0d448218b",
   "metadata": {},
   "outputs": [],
   "source": [
    "class Point:\n",
    "    def __init__(self, x, y):\n",
    "        self.x = x\n",
    "        self.y = y\n",
    "\n",
    "    def distance_to_origin(self):\n",
    "        return (self.x**2 + self.y**2)**0.5"
   ]
  },
  {
   "cell_type": "code",
   "execution_count": 27,
   "id": "79f47454-1984-4437-a5a5-f62a19e5be5f",
   "metadata": {},
   "outputs": [
    {
     "name": "stdout",
     "output_type": "stream",
     "text": [
      "5.0\n"
     ]
    }
   ],
   "source": [
    "p_1 = Point(3, 4)\n",
    "d_1 = print(p_1.distance_to_origin())"
   ]
  },
  {
   "cell_type": "code",
   "execution_count": 38,
   "id": "6970784c-ab48-4c47-b2fa-1cf247b0d4f2",
   "metadata": {},
   "outputs": [],
   "source": [
    "class Book:\n",
    "    def __init__(self, title, author, pages):\n",
    "        self.title = title\n",
    "        self.author = author\n",
    "        self.pages = pages\n",
    "\n",
    "    def is_long(self):\n",
    "        return self.pages > 500"
   ]
  },
  {
   "cell_type": "code",
   "execution_count": 39,
   "id": "b420d834-6bc7-4874-b6ad-b52748e9e1c5",
   "metadata": {},
   "outputs": [
    {
     "name": "stdout",
     "output_type": "stream",
     "text": [
      "True\n"
     ]
    }
   ],
   "source": [
    "b_1 = Book(\"t\", \"A\", 782)\n",
    "print(b_1.is_long())"
   ]
  },
  {
   "cell_type": "code",
   "execution_count": 40,
   "id": "2ca0da7d-a712-4cbc-80e1-73bac1b77f21",
   "metadata": {},
   "outputs": [],
   "source": [
    "class Student():\n",
    "    def __init__(self, name):\n",
    "        self.name = name\n",
    "        self.grades = []\n",
    "    \n",
    "    def add_grade(self, grade):\n",
    "        self.grades.append(grade)\n",
    "\n",
    "    def get_average(self):\n",
    "        return sum(self.grades) / len(self.grades)"
   ]
  },
  {
   "cell_type": "code",
   "execution_count": 41,
   "id": "bb07b345-e253-4b9b-b580-435447512d43",
   "metadata": {},
   "outputs": [
    {
     "name": "stdout",
     "output_type": "stream",
     "text": [
      "4.0\n"
     ]
    }
   ],
   "source": [
    "s_1 = Student(\"John Doe\")\n",
    "s_1.add_grade(3)\n",
    "s_1.add_grade(4)\n",
    "s_1.add_grade(5)\n",
    "s_1.add_grade(5)\n",
    "s_1.add_grade(3)\n",
    "print(s_1.get_average())"
   ]
  }
 ],
 "metadata": {
  "kernelspec": {
   "display_name": "Python 3 (ipykernel)",
   "language": "python",
   "name": "python3"
  },
  "language_info": {
   "codemirror_mode": {
    "name": "ipython",
    "version": 3
   },
   "file_extension": ".py",
   "mimetype": "text/x-python",
   "name": "python",
   "nbconvert_exporter": "python",
   "pygments_lexer": "ipython3",
   "version": "3.12.7"
  }
 },
 "nbformat": 4,
 "nbformat_minor": 5
}
