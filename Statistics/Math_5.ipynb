{
  "cells": [
    {
      "cell_type": "code",
      "source": [
        "import numpy as np\n",
        "import random\n",
        "import matplotlib.pyplot as plt\n",
        "import math"
      ],
      "metadata": {
        "id": "D-0pFcLudXpK"
      },
      "id": "D-0pFcLudXpK",
      "execution_count": 53,
      "outputs": []
    },
    {
      "cell_type": "markdown",
      "id": "aff4d295",
      "metadata": {
        "id": "aff4d295"
      },
      "source": [
        "- Используя модуль $\\texttt{random}$, создайте массив NumPy с 2 строками и 3 столбцами, в котором есть записи, представляющие собой случайные положительные целые числа меньше 10.\n",
        "- Распечатайте свой массив.\n",
        "- Измените запись в первой строке второго столбца на 8 и удвойте значение во второй строке третьего столбца.\n",
        "- Распечатайте полученный массив, чтобы убедиться, что ваш код внес правильные изменения."
      ]
    },
    {
      "cell_type": "code",
      "execution_count": 30,
      "id": "07854f6c",
      "metadata": {
        "colab": {
          "base_uri": "https://localhost:8080/"
        },
        "id": "07854f6c",
        "outputId": "fe67f2ed-bcbc-4998-ca35-509c2eb83160"
      },
      "outputs": [
        {
          "output_type": "stream",
          "name": "stdout",
          "text": [
            "Исходный массив:\n",
            "[[1 1 3]\n",
            " [9 3 9]]\n",
            "\n",
            "Измененный массив:\n",
            "[[ 1  8  3]\n",
            " [ 9  3 18]]\n"
          ]
        }
      ],
      "source": [
        "# Создал массив с 2 строками и 3 столбцами со случайными положительными целыми числами меньше 10\n",
        "array_1 = np.random.randint(1, 10, size=(2, 3))\n",
        "\n",
        "# Распечатал массив\n",
        "print(\"Исходный массив:\")\n",
        "print(array_1)\n",
        "\n",
        "# Изменил запись в первой строке, втором столбце на 8\n",
        "array_1[0, 1] = 8\n",
        "\n",
        "# Удвоил значение во второй строке, третьем столбце\n",
        "array_1[1, 2] *= 2\n",
        "\n",
        "# Распечатал полученный массив\n",
        "print(\"\\nИзмененный массив:\")\n",
        "print(array_1)"
      ]
    },
    {
      "cell_type": "markdown",
      "id": "fb6fb31d",
      "metadata": {
        "id": "fb6fb31d"
      },
      "source": [
        "- Используя модуль $\\texttt{random}$, создайте массив NumPy с 3 строками и 3 столбцами, в котором есть записи, представляющие собой случайные положительные целые числа меньше 10.\n",
        "- Распечатайте свой массив.\n",
        "- Теперь умножьте каждое значение в матрице на 5, а затем добавьте 1 ко всем элементам во второй строке.\n",
        "- После этого разделите каждую диагональную запись на 2 и\n",
        "- распечатайте полученный массив, чтобы убедиться, что ваш код внес правильные изменения."
      ]
    },
    {
      "cell_type": "code",
      "execution_count": 31,
      "id": "8252b9fb",
      "metadata": {
        "colab": {
          "base_uri": "https://localhost:8080/"
        },
        "id": "8252b9fb",
        "outputId": "7b131d32-7d0b-4f4b-bac5-751f9da33ef1"
      },
      "outputs": [
        {
          "output_type": "stream",
          "name": "stdout",
          "text": [
            "Исходный массив:\n",
            "[[6 5 9]\n",
            " [5 9 6]\n",
            " [2 9 5]]\n",
            "\n",
            "Измененный массив:\n",
            "[[15.  25.  45. ]\n",
            " [26.  23.  31. ]\n",
            " [10.  45.  12.5]]\n"
          ]
        }
      ],
      "source": [
        "# Создал массива с 3 строками и 3 столбцами со случайными положительными целыми числами меньше 10\n",
        "array_2 = np.random.randint(1, 10, size=(3, 3))\n",
        "print(\"Исходный массив:\")\n",
        "print(array_2)\n",
        "\n",
        "# Умножил каждое значение на 5\n",
        "array_2 *= 5\n",
        "\n",
        "# Добавил 1 ко всем элементам во второй строке\n",
        "array_2[1, :] += 1\n",
        "\n",
        "# Без этого шага следующее действие вызывает ошибку UFuncTypeError\n",
        "# По умолчанию у массива тип данных int64\n",
        "# Преобразовал массив в тип данных float64, чтобы отобразить числа с плавающей точкой\n",
        "array_2 = array_2.astype(np.float64)\n",
        "\n",
        "# Разделил каждую диагональную запись на 2\n",
        "array_2[range(3), range(3)] /= 2\n",
        "\n",
        "# Распетал полученный массив\n",
        "print(\"\\nИзмененный массив:\")\n",
        "print(array_2)"
      ]
    },
    {
      "cell_type": "markdown",
      "id": "dadbaaae",
      "metadata": {
        "id": "dadbaaae"
      },
      "source": [
        "- Используя модуль $\\texttt{random}$, создайте массив NumPy с 2 строками и 3 столбцами, в котором элементы являются случайными целыми числами больше 5 и меньше 13.\n",
        "- Напишите код, который заменяет все четные элементы матрицы на 0.\n",
        "- Распечатайте массив и проверьте результаты.\n",
        "- Запустите код несколько раз, чтобы убедиться, что он работает для *разных* случайных массивов."
      ]
    },
    {
      "cell_type": "code",
      "execution_count": 40,
      "id": "ba29ea95",
      "metadata": {
        "colab": {
          "base_uri": "https://localhost:8080/"
        },
        "id": "ba29ea95",
        "outputId": "7d56b0b2-a3f5-4a00-cd8d-fcfb94af3e7b"
      },
      "outputs": [
        {
          "output_type": "stream",
          "name": "stdout",
          "text": [
            "Исходный массив:\n",
            "[[11  7  8]\n",
            " [11 12 10]]\n",
            "\n",
            "Измененный массив:\n",
            "[[11  7  0]\n",
            " [11  0  0]]\n"
          ]
        }
      ],
      "source": [
        "# Создал массива с 2 строками и 3 столбцами, со случайными целыми числами больше 5 и меньше 13\n",
        "array_3 = np.random.randint(6, 13, size=(2, 3))\n",
        "print(\"Исходный массив:\")\n",
        "print(array_3)\n",
        "\n",
        "# Заменил все четные элементы на 0\n",
        "array_3[array_3 % 2 == 0] = 0\n",
        "\n",
        "# Распетал полученный массив\n",
        "print(\"\\nИзмененный массив:\")\n",
        "print(array_3)"
      ]
    },
    {
      "cell_type": "markdown",
      "id": "0c2086ae",
      "metadata": {
        "id": "0c2086ae"
      },
      "source": [
        "- Используйте matplotlib для построения кривой $y= 4+x-0,5x^2$, где $x$ лежит в интервале $[-1,5]$.\n",
        "- Используйте $\\texttt{linspace}$ для создания массива координат точек на кривой.\n",
        "- Кривая должна быть пунктирной и показана зеленым цветом."
      ]
    },
    {
      "cell_type": "code",
      "execution_count": 51,
      "id": "db08b0bb",
      "metadata": {
        "colab": {
          "base_uri": "https://localhost:8080/",
          "height": 472
        },
        "id": "db08b0bb",
        "outputId": "7b10a4f7-099e-4e5c-98ec-19c78002ff3f"
      },
      "outputs": [
        {
          "output_type": "display_data",
          "data": {
            "text/plain": [
              "<Figure size 640x480 with 1 Axes>"
            ],
            "image/png": "[encoded data removed]"
          },
          "metadata": {}
        }
      ],
      "source": [
        "# Создал массив координат x на интервале [-1, 5] с использованием linspace\n",
        "x = np.linspace(-1, 5, 400)\n",
        "\n",
        "# Вычислил значения y по формуле y = 4 + x - 0.5 * x**2\n",
        "y = 4 + x - 0.5 * x**2\n",
        "\n",
        "# Постромл кривую\n",
        "plt.plot(x, y, 'g--')\n",
        "\n",
        "# Добавил заголовки и метки осей\n",
        "plt.title('Кривая y = 4 + x - 0.5x^2')\n",
        "plt.xlabel('x')\n",
        "plt.ylabel('y')\n",
        "\n",
        "# Отобразил график\n",
        "plt.grid(True)\n",
        "plt.show()"
      ]
    },
    {
      "cell_type": "markdown",
      "id": "1a644802",
      "metadata": {
        "id": "1a644802"
      },
      "source": [
        "- Сколькими способами 23 ребенка могут сесть на 23 стула на уроке математики?"
      ]
    },
    {
      "cell_type": "code",
      "execution_count": 55,
      "id": "a8d3667e",
      "metadata": {
        "colab": {
          "base_uri": "https://localhost:8080/"
        },
        "id": "a8d3667e",
        "outputId": "780bb8b2-fdb8-4657-b4b7-bc3d9131e596"
      },
      "outputs": [
        {
          "output_type": "stream",
          "name": "stdout",
          "text": [
            "Количество способов, которыми 23 ребенка могут сесть на 23 стула: 25852016738884976640000\n"
          ]
        }
      ],
      "source": [
        "ways = math.factorial(23)\n",
        "print(\"Количество способов, которыми 23 ребенка могут сесть на 23 стула:\", ways)"
      ]
    },
    {
      "cell_type": "markdown",
      "id": "5bed34f1",
      "metadata": {
        "id": "5bed34f1"
      },
      "source": [
        "- Сколько различных способов есть у любых 2 из 5 учеников, чтобы сесть на 2 стула? То есть нужно посчитать количество рассадок для 2 учеников из 5 учеников, чтобы сесть на 2 стула"
      ]
    },
    {
      "cell_type": "code",
      "execution_count": 59,
      "id": "6b3bb777",
      "metadata": {
        "colab": {
          "base_uri": "https://localhost:8080/"
        },
        "id": "6b3bb777",
        "outputId": "0ff4bb69-0f47-43d5-9d18-198b29acc675"
      },
      "outputs": [
        {
          "output_type": "stream",
          "name": "stdout",
          "text": [
            "10\n",
            "Количество способов рассадки для 2 учеников из 5 на 2 стула: 20\n"
          ]
        }
      ],
      "source": [
        "# Вычислил биномиальный коэффициент\n",
        "combinations = math.comb(5, 2)\n",
        "\n",
        "# Количество способов рассадки\n",
        "arrangements = math.factorial(2)\n",
        "\n",
        "# Общее количество способов\n",
        "total_ways = combinations * arrangements\n",
        "print(\"Количество способов рассадки для 2 учеников из 5 на 2 стула:\", total_ways)"
      ]
    },
    {
      "cell_type": "markdown",
      "id": "0f2ac891",
      "metadata": {
        "id": "0f2ac891"
      },
      "source": [
        "- У вас в классе учится 30 человек. Сколько разных футбольных команд можно сделать, где команда состоит из 7 человек (учитывайте что Галымбек, Алмас, Багдат и Багдат, Алмас, Галымбек это одна и та же команда, и мы должны учитывать только одну команду)"
      ]
    },
    {
      "cell_type": "code",
      "execution_count": 60,
      "id": "cce2f62e",
      "metadata": {
        "colab": {
          "base_uri": "https://localhost:8080/"
        },
        "id": "cce2f62e",
        "outputId": "fd24bb23-af0d-4328-ba81-b0fd629f2fe5"
      },
      "outputs": [
        {
          "output_type": "stream",
          "name": "stdout",
          "text": [
            "Количество различных футбольных команд из 7 человек: 2035800\n"
          ]
        }
      ],
      "source": [
        "# Вычислил биномиальный коэффициент\n",
        "n = 30\n",
        "k = 7\n",
        "num_teams = math.comb(n, k)\n",
        "print(\"Количество различных футбольных команд из 7 человек:\", num_teams)"
      ]
    }
  ],
  "metadata": {
    "kernelspec": {
      "display_name": "Python 3",
      "language": "python",
      "name": "python3"
    },
    "language_info": {
      "codemirror_mode": {
        "name": "ipython",
        "version": 3
      },
      "file_extension": ".py",
      "mimetype": "text/x-python",
      "name": "python",
      "nbconvert_exporter": "python",
      "pygments_lexer": "ipython3",
      "version": "3.8.8"
    },
    "colab": {
      "provenance": []
    }
  },
  "nbformat": 4,
  "nbformat_minor": 5
}