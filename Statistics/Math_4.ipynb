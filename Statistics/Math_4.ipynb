{
  "cells": [
    {
      "cell_type": "markdown",
      "id": "aff4d295",
      "metadata": {
        "id": "aff4d295"
      },
      "source": [
        "1. Вероятность того, что сегодня будет дождь составляет 30%, а вероятность того, что ваш заказ на зонт прибудет вовремя, составляет 40%. Вам не терпится прогуляться сегодня под дождем, и вы не можете без него! Какова вероятность того, что пойдет дождь и ваш зонт прибудет вовремя?"
      ]
    },
    {
      "cell_type": "code",
      "execution_count": 4,
      "id": "07854f6c",
      "metadata": {
        "colab": {
          "base_uri": "https://localhost:8080/"
        },
        "id": "07854f6c",
        "outputId": "c6be7fd4-4346-42e0-e553-bd4165e4d7b2"
      },
      "outputs": [
        {
          "output_type": "stream",
          "name": "stdout",
          "text": [
            "Вероятность того, что пойдет дождь и зонт прибудет вовремя: 12.0%\n"
          ]
        }
      ],
      "source": [
        "p_rain = 0.30         # Вероятность дождя\n",
        "p_umbrella = 0.40     # Вероятность доставки зонта вовремя\n",
        "p_rain_and_umbrella = p_rain * p_umbrella\n",
        "print(f\"Вероятность того, что пойдет дождь и зонт прибудет вовремя: {p_rain_and_umbrella * 100}%\")"
      ]
    },
    {
      "cell_type": "markdown",
      "id": "fb6fb31d",
      "metadata": {
        "id": "fb6fb31d"
      },
      "source": [
        "2. У вас есть закрытый ящик с 10 красными, 15 зелеными и 6 черными шарами. Если мы достанем 3 шара из коробки вслепую, какая вероятность, что первый будет красным, второй зеленым, третий черным?"
      ]
    },
    {
      "cell_type": "code",
      "execution_count": 5,
      "id": "8252b9fb",
      "metadata": {
        "colab": {
          "base_uri": "https://localhost:8080/"
        },
        "id": "8252b9fb",
        "outputId": "e100c604-5cf1-48ce-853e-fdc3512a117d"
      },
      "outputs": [
        {
          "output_type": "stream",
          "name": "stdout",
          "text": [
            "Вероятность того, что первый шар будет красным, второй зеленым, а третий черным: 3.337041156840934%\n"
          ]
        }
      ],
      "source": [
        "total_balls = 10 + 15 + 6  # Общее количество шаров\n",
        "p_red_first = 10 / total_balls  # Вероятность достать красный шар первым\n",
        "p_green_second = 15 / (total_balls - 1)  # Вероятность достать зеленый шар вторым\n",
        "p_black_third = 6 / (total_balls - 2)  # Вероятность достать черный шар третьим\n",
        "\n",
        "p_red_green_black = p_red_first * p_green_second * p_black_third\n",
        "print(f\"Вероятность того, что первый шар будет красным, второй зеленым, а третий черным: {p_red_green_black * 100}%\")"
      ]
    },
    {
      "cell_type": "markdown",
      "id": "dadbaaae",
      "metadata": {
        "id": "dadbaaae"
      },
      "source": [
        "3. Выполните эксперимент используя binom.rvs со 100 честными монетками, и 1.000 повторениями (size). Сохраните результат в results, и заметьте, что если вы не указываете random_state, то вы получите разные наборы данных."
      ]
    },
    {
      "cell_type": "code",
      "execution_count": 7,
      "id": "ba29ea95",
      "metadata": {
        "colab": {
          "base_uri": "https://localhost:8080/"
        },
        "id": "ba29ea95",
        "outputId": "be54da70-5135-46fd-f2a2-0ace90c9fc7e"
      },
      "outputs": [
        {
          "output_type": "stream",
          "name": "stdout",
          "text": [
            "Первые 10 результатов эксперимента: [57 54 54 48 56 59 47 45 45 37]\n",
            "Среднее количество успехов в 1000 повторениях: 50.08\n"
          ]
        }
      ],
      "source": [
        "from scipy.stats import binom\n",
        "import numpy as np\n",
        "\n",
        "results = binom.rvs(n=100, p=0.5, size=1000)\n",
        "\n",
        "print(f\"Первые 10 результатов эксперимента: {results[:10]}\")\n",
        "print(f\"Среднее количество успехов в 1000 повторениях: {np.mean(results)}\")"
      ]
    },
    {
      "cell_type": "markdown",
      "id": "0c2086ae",
      "metadata": {
        "id": "0c2086ae"
      },
      "source": [
        "4. Покажите results на гистограмме"
      ]
    },
    {
      "cell_type": "code",
      "execution_count": 9,
      "id": "db08b0bb",
      "metadata": {
        "colab": {
          "base_uri": "https://localhost:8080/",
          "height": 472
        },
        "id": "db08b0bb",
        "outputId": "bb28274b-8b28-4607-d6d8-1c0af18cbe1b"
      },
      "outputs": [
        {
          "output_type": "display_data",
          "data": {
            "text/plain": [
              "<Figure size 640x480 with 1 Axes>"
            ],
            "image/png": "[encoded data removed]"
          },
          "metadata": {}
        }
      ],
      "source": [
        "import matplotlib.pyplot as plt\n",
        "\n",
        "plt.hist(results, bins=20)  # bins - количество столбцов гистограммы\n",
        "plt.xlabel(\"Количество успехов\")\n",
        "plt.ylabel(\"Частота\")\n",
        "plt.title(\"Гистограмма результатов эксперимента с монетками\")\n",
        "plt.show()"
      ]
    }
  ],
  "metadata": {
    "kernelspec": {
      "display_name": "Python 3",
      "language": "python",
      "name": "python3"
    },
    "language_info": {
      "codemirror_mode": {
        "name": "ipython",
        "version": 3
      },
      "file_extension": ".py",
      "mimetype": "text/x-python",
      "name": "python",
      "nbconvert_exporter": "python",
      "pygments_lexer": "ipython3",
      "version": "3.8.8"
    },
    "colab": {
      "provenance": []
    }
  },
  "nbformat": 4,
  "nbformat_minor": 5
}