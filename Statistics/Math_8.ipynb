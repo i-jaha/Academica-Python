{
  "cells": [
    {
      "cell_type": "markdown",
      "metadata": {
        "id": "T9Yf1iKgl5SR"
      },
      "source": [
        "# Домашнее задание"
      ]
    },
    {
      "cell_type": "code",
      "execution_count": 55,
      "metadata": {
        "_cell_guid": "0929605b-b62d-4707-9dbb-40f1f8beb5a5",
        "_uuid": "8f7da4e8-ebec-4cbe-b6c1-43ab97026f9e",
        "id": "gQTTUhTOl5ST"
      },
      "outputs": [],
      "source": [
        "# Импортируем библиотеки\n",
        "\n",
        "import numpy as np\n",
        "import pandas as pd\n",
        "import matplotlib.pyplot as plt\n",
        "import seaborn as sns\n",
        "%matplotlib inline"
      ]
    },
    {
      "cell_type": "code",
      "execution_count": 56,
      "metadata": {
        "_cell_guid": "0af495a2-37a3-4b07-9d57-9764165c69af",
        "_uuid": "d49d8767-6410-4041-858b-c300815ed6bd",
        "id": "f2T3s2RMl5SU",
        "scrolled": true
      },
      "outputs": [],
      "source": [
        "data = pd.read_csv('500_Person_Gender_Height_Weight_Index.csv')"
      ]
    },
    {
      "cell_type": "code",
      "execution_count": 57,
      "metadata": {
        "colab": {
          "base_uri": "https://localhost:8080/",
          "height": 206
        },
        "id": "F6oI9YuIl5SV",
        "outputId": "304644b9-e805-4b01-b050-b903f86b6b0d"
      },
      "outputs": [
        {
          "data": {
            "application/vnd.google.colaboratory.intrinsic+json": {
              "summary": "{\n  \"name\": \"data\",\n  \"rows\": 500,\n  \"fields\": [\n    {\n      \"column\": \"Gender\",\n      \"properties\": {\n        \"dtype\": \"category\",\n        \"num_unique_values\": 2,\n        \"samples\": [\n          \"Female\",\n          \"Male\"\n        ],\n        \"semantic_type\": \"\",\n        \"description\": \"\"\n      }\n    },\n    {\n      \"column\": \"Height\",\n      \"properties\": {\n        \"dtype\": \"number\",\n        \"std\": 16,\n        \"min\": 140,\n        \"max\": 199,\n        \"num_unique_values\": 60,\n        \"samples\": [\n          174,\n          147\n        ],\n        \"semantic_type\": \"\",\n        \"description\": \"\"\n      }\n    },\n    {\n      \"column\": \"Weight\",\n      \"properties\": {\n        \"dtype\": \"number\",\n        \"std\": 32,\n        \"min\": 50,\n        \"max\": 160,\n        \"num_unique_values\": 110,\n        \"samples\": [\n          124,\n          80\n        ],\n        \"semantic_type\": \"\",\n        \"description\": \"\"\n      }\n    }\n  ]\n}",
              "type": "dataframe",
              "variable_name": "data"
            },
            "text/html": [
              "\n",
              "  <div id=\"df-c74a0517-39f4-4686-94df-0476f914239c\" class=\"colab-df-container\">\n",
              "    <div>\n",
              "<style scoped>\n",
              "    .dataframe tbody tr th:only-of-type {\n",
              "        vertical-align: middle;\n",
              "    }\n",
              "\n",
              "    .dataframe tbody tr th {\n",
              "        vertical-align: top;\n",
              "    }\n",
              "\n",
              "    .dataframe thead th {\n",
              "        text-align: right;\n",
              "    }\n",
              "</style>\n",
              "<table border=\"1\" class=\"dataframe\">\n",
              "  <thead>\n",
              "    <tr style=\"text-align: right;\">\n",
              "      <th></th>\n",
              "      <th>Gender</th>\n",
              "      <th>Height</th>\n",
              "      <th>Weight</th>\n",
              "    </tr>\n",
              "  </thead>\n",
              "  <tbody>\n",
              "    <tr>\n",
              "      <th>0</th>\n",
              "      <td>Male</td>\n",
              "      <td>174</td>\n",
              "      <td>96</td>\n",
              "    </tr>\n",
              "    <tr>\n",
              "      <th>1</th>\n",
              "      <td>Male</td>\n",
              "      <td>189</td>\n",
              "      <td>87</td>\n",
              "    </tr>\n",
              "    <tr>\n",
              "      <th>2</th>\n",
              "      <td>Female</td>\n",
              "      <td>185</td>\n",
              "      <td>110</td>\n",
              "    </tr>\n",
              "    <tr>\n",
              "      <th>3</th>\n",
              "      <td>Female</td>\n",
              "      <td>195</td>\n",
              "      <td>104</td>\n",
              "    </tr>\n",
              "    <tr>\n",
              "      <th>4</th>\n",
              "      <td>Male</td>\n",
              "      <td>149</td>\n",
              "      <td>61</td>\n",
              "    </tr>\n",
              "  </tbody>\n",
              "</table>\n",
              "</div>\n",
              "    <div class=\"colab-df-buttons\">\n",
              "\n",
              "  <div class=\"colab-df-container\">\n",
              "    <button class=\"colab-df-convert\" onclick=\"convertToInteractive('df-c74a0517-39f4-4686-94df-0476f914239c')\"\n",
              "            title=\"Convert this dataframe to an interactive table.\"\n",
              "            style=\"display:none;\">\n",
              "\n",
              "  <svg xmlns=\"http://www.w3.org/2000/svg\" height=\"24px\" viewBox=\"0 -960 960 960\">\n",
              "    <path d=\"M120-120v-720h720v720H120Zm60-500h600v-160H180v160Zm220 220h160v-160H400v160Zm0 220h160v-160H400v160ZM180-400h160v-160H180v160Zm440 0h160v-160H620v160ZM180-180h160v-160H180v160Zm440 0h160v-160H620v160Z\"/>\n",
              "  </svg>\n",
              "    </button>\n",
              "\n",
              "  <style>\n",
              "    .colab-df-container {\n",
              "      display:flex;\n",
              "      gap: 12px;\n",
              "    }\n",
              "\n",
              "    .colab-df-convert {\n",
              "      background-color: #E8F0FE;\n",
              "      border: none;\n",
              "      border-radius: 50%;\n",
              "      cursor: pointer;\n",
              "      display: none;\n",
              "      fill: #1967D2;\n",
              "      height: 32px;\n",
              "      padding: 0 0 0 0;\n",
              "      width: 32px;\n",
              "    }\n",
              "\n",
              "    .colab-df-convert:hover {\n",
              "      background-color: #E2EBFA;\n",
              "      box-shadow: 0px 1px 2px rgba(60, 64, 67, 0.3), 0px 1px 3px 1px rgba(60, 64, 67, 0.15);\n",
              "      fill: #174EA6;\n",
              "    }\n",
              "\n",
              "    .colab-df-buttons div {\n",
              "      margin-bottom: 4px;\n",
              "    }\n",
              "\n",
              "    [theme=dark] .colab-df-convert {\n",
              "      background-color: #3B4455;\n",
              "      fill: #D2E3FC;\n",
              "    }\n",
              "\n",
              "    [theme=dark] .colab-df-convert:hover {\n",
              "      background-color: #434B5C;\n",
              "      box-shadow: 0px 1px 3px 1px rgba(0, 0, 0, 0.15);\n",
              "      filter: drop-shadow(0px 1px 2px rgba(0, 0, 0, 0.3));\n",
              "      fill: #FFFFFF;\n",
              "    }\n",
              "  </style>\n",
              "\n",
              "    <script>\n",
              "      const buttonEl =\n",
              "        document.querySelector('#df-c74a0517-39f4-4686-94df-0476f914239c button.colab-df-convert');\n",
              "      buttonEl.style.display =\n",
              "        google.colab.kernel.accessAllowed ? 'block' : 'none';\n",
              "\n",
              "      async function convertToInteractive(key) {\n",
              "        const element = document.querySelector('#df-c74a0517-39f4-4686-94df-0476f914239c');\n",
              "        const dataTable =\n",
              "          await google.colab.kernel.invokeFunction('convertToInteractive',\n",
              "                                                    [key], {});\n",
              "        if (!dataTable) return;\n",
              "\n",
              "        const docLinkHtml = 'Like what you see? Visit the ' +\n",
              "          '<a target=\"_blank\" href=https://colab.research.google.com/notebooks/data_table.ipynb>data table notebook</a>'\n",
              "          + ' to learn more about interactive tables.';\n",
              "        element.innerHTML = '';\n",
              "        dataTable['output_type'] = 'display_data';\n",
              "        await google.colab.output.renderOutput(dataTable, element);\n",
              "        const docLink = document.createElement('div');\n",
              "        docLink.innerHTML = docLinkHtml;\n",
              "        element.appendChild(docLink);\n",
              "      }\n",
              "    </script>\n",
              "  </div>\n",
              "\n",
              "\n",
              "<div id=\"df-2a29f16e-af35-4710-99ff-c558f8e81b26\">\n",
              "  <button class=\"colab-df-quickchart\" onclick=\"quickchart('df-2a29f16e-af35-4710-99ff-c558f8e81b26')\"\n",
              "            title=\"Suggest charts\"\n",
              "            style=\"display:none;\">\n",
              "\n",
              "<svg xmlns=\"http://www.w3.org/2000/svg\" height=\"24px\"viewBox=\"0 0 24 24\"\n",
              "     width=\"24px\">\n",
              "    <g>\n",
              "        <path d=\"M19 3H5c-1.1 0-2 .9-2 2v14c0 1.1.9 2 2 2h14c1.1 0 2-.9 2-2V5c0-1.1-.9-2-2-2zM9 17H7v-7h2v7zm4 0h-2V7h2v10zm4 0h-2v-4h2v4z\"/>\n",
              "    </g>\n",
              "</svg>\n",
              "  </button>\n",
              "\n",
              "<style>\n",
              "  .colab-df-quickchart {\n",
              "      --bg-color: #E8F0FE;\n",
              "      --fill-color: #1967D2;\n",
              "      --hover-bg-color: #E2EBFA;\n",
              "      --hover-fill-color: #174EA6;\n",
              "      --disabled-fill-color: #AAA;\n",
              "      --disabled-bg-color: #DDD;\n",
              "  }\n",
              "\n",
              "  [theme=dark] .colab-df-quickchart {\n",
              "      --bg-color: #3B4455;\n",
              "      --fill-color: #D2E3FC;\n",
              "      --hover-bg-color: #434B5C;\n",
              "      --hover-fill-color: #FFFFFF;\n",
              "      --disabled-bg-color: #3B4455;\n",
              "      --disabled-fill-color: #666;\n",
              "  }\n",
              "\n",
              "  .colab-df-quickchart {\n",
              "    background-color: var(--bg-color);\n",
              "    border: none;\n",
              "    border-radius: 50%;\n",
              "    cursor: pointer;\n",
              "    display: none;\n",
              "    fill: var(--fill-color);\n",
              "    height: 32px;\n",
              "    padding: 0;\n",
              "    width: 32px;\n",
              "  }\n",
              "\n",
              "  .colab-df-quickchart:hover {\n",
              "    background-color: var(--hover-bg-color);\n",
              "    box-shadow: 0 1px 2px rgba(60, 64, 67, 0.3), 0 1px 3px 1px rgba(60, 64, 67, 0.15);\n",
              "    fill: var(--button-hover-fill-color);\n",
              "  }\n",
              "\n",
              "  .colab-df-quickchart-complete:disabled,\n",
              "  .colab-df-quickchart-complete:disabled:hover {\n",
              "    background-color: var(--disabled-bg-color);\n",
              "    fill: var(--disabled-fill-color);\n",
              "    box-shadow: none;\n",
              "  }\n",
              "\n",
              "  .colab-df-spinner {\n",
              "    border: 2px solid var(--fill-color);\n",
              "    border-color: transparent;\n",
              "    border-bottom-color: var(--fill-color);\n",
              "    animation:\n",
              "      spin 1s steps(1) infinite;\n",
              "  }\n",
              "\n",
              "  @keyframes spin {\n",
              "    0% {\n",
              "      border-color: transparent;\n",
              "      border-bottom-color: var(--fill-color);\n",
              "      border-left-color: var(--fill-color);\n",
              "    }\n",
              "    20% {\n",
              "      border-color: transparent;\n",
              "      border-left-color: var(--fill-color);\n",
              "      border-top-color: var(--fill-color);\n",
              "    }\n",
              "    30% {\n",
              "      border-color: transparent;\n",
              "      border-left-color: var(--fill-color);\n",
              "      border-top-color: var(--fill-color);\n",
              "      border-right-color: var(--fill-color);\n",
              "    }\n",
              "    40% {\n",
              "      border-color: transparent;\n",
              "      border-right-color: var(--fill-color);\n",
              "      border-top-color: var(--fill-color);\n",
              "    }\n",
              "    60% {\n",
              "      border-color: transparent;\n",
              "      border-right-color: var(--fill-color);\n",
              "    }\n",
              "    80% {\n",
              "      border-color: transparent;\n",
              "      border-right-color: var(--fill-color);\n",
              "      border-bottom-color: var(--fill-color);\n",
              "    }\n",
              "    90% {\n",
              "      border-color: transparent;\n",
              "      border-bottom-color: var(--fill-color);\n",
              "    }\n",
              "  }\n",
              "</style>\n",
              "\n",
              "  <script>\n",
              "    async function quickchart(key) {\n",
              "      const quickchartButtonEl =\n",
              "        document.querySelector('#' + key + ' button');\n",
              "      quickchartButtonEl.disabled = true;  // To prevent multiple clicks.\n",
              "      quickchartButtonEl.classList.add('colab-df-spinner');\n",
              "      try {\n",
              "        const charts = await google.colab.kernel.invokeFunction(\n",
              "            'suggestCharts', [key], {});\n",
              "      } catch (error) {\n",
              "        console.error('Error during call to suggestCharts:', error);\n",
              "      }\n",
              "      quickchartButtonEl.classList.remove('colab-df-spinner');\n",
              "      quickchartButtonEl.classList.add('colab-df-quickchart-complete');\n",
              "    }\n",
              "    (() => {\n",
              "      let quickchartButtonEl =\n",
              "        document.querySelector('#df-2a29f16e-af35-4710-99ff-c558f8e81b26 button');\n",
              "      quickchartButtonEl.style.display =\n",
              "        google.colab.kernel.accessAllowed ? 'block' : 'none';\n",
              "    })();\n",
              "  </script>\n",
              "</div>\n",
              "\n",
              "    </div>\n",
              "  </div>\n"
            ],
            "text/plain": [
              "   Gender  Height  Weight\n",
              "0    Male     174      96\n",
              "1    Male     189      87\n",
              "2  Female     185     110\n",
              "3  Female     195     104\n",
              "4    Male     149      61"
            ]
          },
          "execution_count": 57,
          "metadata": {},
          "output_type": "execute_result"
        }
      ],
      "source": [
        "# Удаляем ненужный столбец\n",
        "data.drop('Index', axis = 1, inplace = True)\n",
        "data.head()"
      ]
    },
    {
      "cell_type": "code",
      "execution_count": 58,
      "metadata": {
        "colab": {
          "base_uri": "https://localhost:8080/"
        },
        "id": "Wyveir33l5SV",
        "outputId": "1b071a15-a611-45a5-d09f-72b5225f2e67"
      },
      "outputs": [
        {
          "data": {
            "text/plain": [
              "(500, 3)"
            ]
          },
          "execution_count": 58,
          "metadata": {},
          "output_type": "execute_result"
        }
      ],
      "source": [
        "data.shape"
      ]
    },
    {
      "cell_type": "markdown",
      "metadata": {
        "id": "GH9yrrbrl5SW"
      },
      "source": [
        "## 1. Создайте колонку BMI (индекс массы тела), которая считается по формуле: BMI = (Вес в кг) / (Рост в метрах)^2. Учтите, что ваш текущий рост в см, не метры."
      ]
    },
    {
      "cell_type": "code",
      "execution_count": 59,
      "metadata": {
        "colab": {
          "base_uri": "https://localhost:8080/"
        },
        "id": "MjBTmsFkl5SW",
        "outputId": "2a5c3d00-e776-4eed-eff8-2248435c1f0d"
      },
      "outputs": [
        {
          "name": "stdout",
          "output_type": "stream",
          "text": [
            "     Gender  Height  Weight        BMI\n",
            "0      Male     174      96  31.708284\n",
            "1      Male     189      87  24.355421\n",
            "2    Female     185     110  32.140248\n",
            "3    Female     195     104  27.350427\n",
            "4      Male     149      61  27.476240\n",
            "..      ...     ...     ...        ...\n",
            "495  Female     150     153  68.000000\n",
            "496  Female     184     121  35.739603\n",
            "497  Female     141     136  68.407022\n",
            "498    Male     150      95  42.222222\n",
            "499    Male     173     131  43.770256\n",
            "\n",
            "[500 rows x 4 columns]\n"
          ]
        }
      ],
      "source": [
        "data['BMI'] = data['Weight'] / ((data['Height'] / 100) ** 2)\n",
        "print(data)"
      ]
    },
    {
      "cell_type": "markdown",
      "metadata": {
        "_cell_guid": "7f3fc64b-1a1f-4f51-8be1-d03b5d873607",
        "_uuid": "db2b2ec1-1f02-487f-b4b1-c9e6f0aa12c2",
        "id": "1VmdvAmWl5SW"
      },
      "source": [
        "## 2. Посчитайте среднее значение, медиану, и моду для роста, веса, BMI."
      ]
    },
    {
      "cell_type": "code",
      "execution_count": 15,
      "metadata": {
        "colab": {
          "base_uri": "https://localhost:8080/"
        },
        "id": "SA8wt6Rgl5SW",
        "outputId": "0cca608b-4417-4410-b835-7fa8c4c28cd2"
      },
      "outputs": [
        {
          "name": "stdout",
          "output_type": "stream",
          "text": [
            "Среднее значение роста: 169.944\n",
            "Медиана для роста: 170.5\n",
            "Мода для роста: 188\n"
          ]
        }
      ],
      "source": [
        "mean_height = data['Height'].mean()\n",
        "print(\"Среднее значение роста:\", mean_height)\n",
        "\n",
        "median_height = data['Height'].median()\n",
        "print(\"Медиана для роста:\", median_height)\n",
        "\n",
        "mode_height = data['Height'].mode()[0]\n",
        "print(\"Мода для роста:\", mode_height)"
      ]
    },
    {
      "cell_type": "code",
      "execution_count": 18,
      "metadata": {
        "colab": {
          "base_uri": "https://localhost:8080/"
        },
        "id": "xJVFa5Rel5SW",
        "outputId": "82e4f540-af12-41e8-f5ef-e01e5b9b9a56"
      },
      "outputs": [
        {
          "name": "stdout",
          "output_type": "stream",
          "text": [
            "Среднее значение веса: 106.0\n",
            "Медиана для веса: 106.0\n",
            "Мода для веса: 50\n"
          ]
        }
      ],
      "source": [
        "mean_weight = data['Weight'].mean()\n",
        "print(\"Среднее значение веса:\", mean_weight)\n",
        "\n",
        "median_weight = data['Weight'].median()\n",
        "print(\"Медиана для веса:\", median_weight)\n",
        "\n",
        "mode_weight = data['Weight'].mode()[0]\n",
        "print(\"Мода для веса:\", mode_weight)"
      ]
    },
    {
      "cell_type": "code",
      "execution_count": 19,
      "metadata": {
        "colab": {
          "base_uri": "https://localhost:8080/"
        },
        "id": "NCXic6GMl5SX",
        "outputId": "ab21fd82-7700-4c03-c863-26d08f827500"
      },
      "outputs": [
        {
          "name": "stdout",
          "output_type": "stream",
          "text": [
            "Среднее значение BMI: 37.765283941048516\n",
            "Медиана для BMI: 36.9569409839839\n",
            "Мода для BMI: 37.34559034760126\n"
          ]
        }
      ],
      "source": [
        "mean_bmi = data['BMI'].mean()\n",
        "print(\"Среднее значение BMI:\", mean_bmi)\n",
        "\n",
        "median_bmi = data['BMI'].median()\n",
        "print(\"Медиана для BMI:\", median_bmi)\n",
        "\n",
        "mode_bmi = data['BMI'].mode()[0]\n",
        "print(\"Мода для BMI:\", mode_bmi)"
      ]
    },
    {
      "cell_type": "markdown",
      "metadata": {
        "_cell_guid": "67ee81b6-142e-4c53-8598-a49f2aa66c1d",
        "_uuid": "5e316eb6-e714-43c7-aab1-d09bd955563c",
        "id": "QjkQgBFsl5SX"
      },
      "source": [
        "## 3. Найдите range (диапазон, т.е. макс - мин), и стандартное отклонение для роста, веса, BMI. И расскажите что это означает."
      ]
    },
    {
      "cell_type": "code",
      "execution_count": 21,
      "metadata": {
        "colab": {
          "base_uri": "https://localhost:8080/"
        },
        "id": "TOkIXqFdl5SX",
        "outputId": "4cd768b7-a98b-49a7-d125-78168f6d956d"
      },
      "outputs": [
        {
          "name": "stdout",
          "output_type": "stream",
          "text": [
            "Диапазон для роста: 59\n",
            "Стандартное отклонение для роста: 16.37526067959376\n"
          ]
        }
      ],
      "source": [
        "range_height = data['Height'].max() - data['Height'].min()\n",
        "print(\"Диапазон для роста:\", range_height)\n",
        "\n",
        "std_height = data['Height'].std()\n",
        "print(\"Стандартное отклонение для роста:\", std_height)"
      ]
    },
    {
      "cell_type": "markdown",
      "metadata": {
        "id": "nMRGN6GcqOw9"
      },
      "source": [
        "1. Разница между самым высоким и самым низким человеком в вашей выборке составляет 59 см.\n",
        "2. Рост большинства людей отклоняется от среднего роста примерно на 16 см.\n",
        "3."
      ]
    },
    {
      "cell_type": "code",
      "execution_count": 22,
      "metadata": {
        "colab": {
          "base_uri": "https://localhost:8080/"
        },
        "id": "rMDzeZb1l5SX",
        "outputId": "72d90407-e6a5-4b96-81f6-c305ad35512f"
      },
      "outputs": [
        {
          "name": "stdout",
          "output_type": "stream",
          "text": [
            "Диапазон для веса: 110\n",
            "Стандартное отклонение для веса: 32.38260746964435\n"
          ]
        }
      ],
      "source": [
        "range_weight = data['Weight'].max() - data['Weight'].min()\n",
        "print(\"Диапазон для веса:\", range_weight)\n",
        "\n",
        "std_weight = data['Weight'].std()\n",
        "print(\"Стандартное отклонение для веса:\", std_weight)"
      ]
    },
    {
      "cell_type": "markdown",
      "metadata": {
        "id": "ygpQXnnBpchM"
      },
      "source": [
        "1. Веса участников сильно различаются, и в группе присутствуют как очень легкие, так и очень тяжелые люди.\n",
        "2. Стандартное отклонение показывает, насколько веса распределены вокруг среднего веса. По результату этого показателя видно, что разброс веса в выборке существенный."
      ]
    },
    {
      "cell_type": "code",
      "execution_count": 20,
      "metadata": {
        "colab": {
          "base_uri": "https://localhost:8080/"
        },
        "id": "mS3smG58l5SX",
        "outputId": "61d29ad5-d8ec-405c-f5c8-cd737b74afaa"
      },
      "outputs": [
        {
          "name": "stdout",
          "output_type": "stream",
          "text": [
            "Диапазон для BMI: 66.09960147016888\n",
            "Стандартное отклонение для BMI: 13.965620181356995\n"
          ]
        }
      ],
      "source": [
        "range_bmi = data['BMI'].max() - data['BMI'].min()\n",
        "print(\"Диапазон для BMI:\", range_bmi)\n",
        "\n",
        "std_bmi = data['BMI'].std()\n",
        "print(\"Стандартное отклонение для BMI:\", std_bmi)"
      ]
    },
    {
      "cell_type": "markdown",
      "metadata": {
        "id": "OH9mJfFzoyF_"
      },
      "source": [
        "1. Разница между наименьшим и наибольшим значениями BMI составляет приблизительно 66 единиц.\n",
        "2. Это указывает на большую вариативность телосложения участников — от людей с недостаточной массой тела до людей с ожирением.\n",
        "3. Значение стандартного отклонения для BMI 13.97 указывает на существенный разброс данных относительно среднего BMI."
      ]
    },
    {
      "cell_type": "markdown",
      "metadata": {
        "_cell_guid": "b134f1ad-51c6-4c24-aca7-d7655566f6ed",
        "_uuid": "0d5f16ac-22d9-4791-a0ec-401094e94c58",
        "id": "dIX3m5j6l5SX"
      },
      "source": [
        "## 4. Найдите 15-й процентиль и 90-й процентиль для роста, веса, BMI. Что это означает простыми словами?"
      ]
    },
    {
      "cell_type": "code",
      "execution_count": 23,
      "metadata": {
        "colab": {
          "base_uri": "https://localhost:8080/"
        },
        "id": "QNfttwPel5SX",
        "outputId": "d51949ed-ab08-4809-fd04-893f66374226"
      },
      "outputs": [
        {
          "name": "stdout",
          "output_type": "stream",
          "text": [
            "15-й процентиль роста: 150.0 см\n",
            "90-й процентиль роста: 191.0 см\n"
          ]
        }
      ],
      "source": [
        "height_15_percentile = np.percentile(data['Height'], 15)\n",
        "print(\"15-й процентиль роста:\", round(height_15_percentile, 2), \"см\")\n",
        "\n",
        "height_90_percentile = np.percentile(data['Height'], 90)\n",
        "print(\"90-й процентиль роста:\", round(height_90_percentile, 2), \"см\")"
      ]
    },
    {
      "cell_type": "markdown",
      "metadata": {
        "id": "gYTZ_ADAsFh6"
      },
      "source": [
        "1. 15% людей имеют рост ниже 150 см.\n",
        "2. 10% людей имеют рост выше 191 см."
      ]
    },
    {
      "cell_type": "code",
      "execution_count": 24,
      "metadata": {
        "colab": {
          "base_uri": "https://localhost:8080/"
        },
        "id": "gbTIgn-3l5SX",
        "outputId": "e39e7d6e-9e7e-4b35-eace-284206fbabd5"
      },
      "outputs": [
        {
          "name": "stdout",
          "output_type": "stream",
          "text": [
            "15-й процентиль веса: 67.0 кг\n",
            "90-й процентиль веса: 150.1 кг\n"
          ]
        }
      ],
      "source": [
        "weight_15_percentile = np.percentile(data['Weight'], 15)\n",
        "print(\"15-й процентиль веса:\", round(weight_15_percentile, 2), \"кг\")\n",
        "\n",
        "weight_90_percentile = np.percentile(data['Weight'], 90)\n",
        "print(\"90-й процентиль веса:\", round(weight_90_percentile, 2), \"кг\")"
      ]
    },
    {
      "cell_type": "markdown",
      "metadata": {
        "id": "tIrSWnMxsZQe"
      },
      "source": [
        "1. 15% людей имеют вес ниже 67 кг.\n",
        "2. 10% людей имеют вес выше 150 кг."
      ]
    },
    {
      "cell_type": "code",
      "execution_count": 25,
      "metadata": {
        "colab": {
          "base_uri": "https://localhost:8080/"
        },
        "id": "zJ5xGtgAl5SX",
        "outputId": "8a62d5f7-1add-4f3b-95c3-6e2ec4cac1cf"
      },
      "outputs": [
        {
          "name": "stdout",
          "output_type": "stream",
          "text": [
            "15-й процентиль BMI: 22.76\n",
            "90-й процентиль BMI: 57.7\n"
          ]
        }
      ],
      "source": [
        "bmi_15_percentile = np.percentile(data['BMI'], 15)\n",
        "print(\"15-й процентиль BMI:\", round(bmi_15_percentile, 2))\n",
        "\n",
        "bmi_90_percentile = np.percentile(data['BMI'], 90)\n",
        "print(\"90-й процентиль BMI:\", round(bmi_90_percentile, 2))"
      ]
    },
    {
      "cell_type": "markdown",
      "metadata": {
        "id": "VLDafcVVshkq"
      },
      "source": [
        "1. 15% людей имеют BMI ниже 23 единиц.\n",
        "2. 10% людей имеют BMI выше 58 единиц."
      ]
    },
    {
      "cell_type": "markdown",
      "metadata": {
        "_cell_guid": "d1f04b8f-8806-440c-82e0-5b8a6785ef74",
        "_uuid": "830ccdf7-8370-42d2-a5cd-ff1ec1ff7672",
        "id": "ryIj8Wnil5SX"
      },
      "source": [
        "## 5. Создайте гистограмму для роста, веса, BMI."
      ]
    },
    {
      "cell_type": "code",
      "execution_count": 32,
      "metadata": {
        "colab": {
          "base_uri": "https://localhost:8080/",
          "height": 472
        },
        "id": "gnu2XVOtl5SY",
        "outputId": "b4a7a684-83fd-44a4-f88b-1332fbfbd9dc"
      },
      "outputs": [
        {
          "data": {
            "image/png": "[encoded data removed]",
            "text/plain": [
              "<Figure size 640x480 with 1 Axes>"
            ]
          },
          "metadata": {},
          "output_type": "display_data"
        }
      ],
      "source": [
        "plt.hist(data['Height'], bins=8, edgecolor='black')\n",
        "plt.title('Гистограмма роста')\n",
        "plt.xlabel('Рост (см)')\n",
        "plt.ylabel('Количество')\n",
        "plt.show()"
      ]
    },
    {
      "cell_type": "code",
      "execution_count": 33,
      "metadata": {
        "colab": {
          "base_uri": "https://localhost:8080/",
          "height": 472
        },
        "id": "8IWbG1cCl5SY",
        "outputId": "8930b4b5-16c4-4d3f-9dc2-b3d7bb2be26f"
      },
      "outputs": [
        {
          "data": {
            "image/png": "[encoded data removed]",
            "text/plain": [
              "<Figure size 640x480 with 1 Axes>"
            ]
          },
          "metadata": {},
          "output_type": "display_data"
        }
      ],
      "source": [
        "plt.hist(data['Weight'], bins=8, edgecolor='black')\n",
        "plt.title('Гистограмма веса')\n",
        "plt.xlabel('Вес (кг)')\n",
        "plt.ylabel('Количество')\n",
        "plt.show()"
      ]
    },
    {
      "cell_type": "code",
      "execution_count": 34,
      "metadata": {
        "colab": {
          "base_uri": "https://localhost:8080/",
          "height": 472
        },
        "id": "nS2eR1Mql5SY",
        "outputId": "982da04a-5e8f-4c78-c0b2-1fc3408c137a"
      },
      "outputs": [
        {
          "data": {
            "image/png": "[encoded data removed]",
            "text/plain": [
              "<Figure size 640x480 with 1 Axes>"
            ]
          },
          "metadata": {},
          "output_type": "display_data"
        }
      ],
      "source": [
        "plt.hist(data['BMI'], bins=8, edgecolor='black')\n",
        "plt.title('Гистограмма BMI')\n",
        "plt.xlabel('BMI')\n",
        "plt.ylabel('Количество')\n",
        "plt.show()"
      ]
    },
    {
      "cell_type": "markdown",
      "metadata": {
        "_cell_guid": "914c2ab5-0d51-4146-b3a5-3b1e418197c9",
        "_uuid": "50a61549-8242-44c5-8453-be2652327881",
        "id": "sq_iUik7l5SY"
      },
      "source": [
        "## 6. Создайте box plot для роста, веса, BMI в разрезе пола. Что вы видите, опишите?"
      ]
    },
    {
      "cell_type": "code",
      "execution_count": 37,
      "metadata": {
        "id": "g-JQZixDt3bq"
      },
      "outputs": [],
      "source": [
        "sns.set(style=\"whitegrid\")"
      ]
    },
    {
      "cell_type": "code",
      "execution_count": 38,
      "metadata": {
        "colab": {
          "base_uri": "https://localhost:8080/",
          "height": 573
        },
        "id": "YIUEDHQKl5SY",
        "outputId": "e606e90d-d958-4101-d9da-1a9bb8f93904"
      },
      "outputs": [
        {
          "data": {
            "image/png": "[encoded data removed]",
            "text/plain": [
              "<Figure size 800x600 with 1 Axes>"
            ]
          },
          "metadata": {},
          "output_type": "display_data"
        }
      ],
      "source": [
        "plt.figure(figsize=(8, 6))\n",
        "sns.boxplot(x='Gender', y='Height', data=data)\n",
        "plt.title('Box plot для роста в разрезе пола')\n",
        "plt.xlabel('Пол')\n",
        "plt.ylabel('Рост (см)')\n",
        "plt.show()"
      ]
    },
    {
      "cell_type": "markdown",
      "metadata": {
        "id": "ge4fkqK6uoFh"
      },
      "source": [
        "1. Медианы роста мужчин и женщин близки друг к другу, т.е. средние значения роста для обоих полов схожи.\n",
        "2. Интерквартильный размах (IQR) для мужчин немного шире, чем для женщин, что говорит о большем разбросе значений роста среди мужчин.\n",
        "3. Усы боксплотов для обоих полов раскинуты на одинаковые диапазоны, т.е. экстремальные значения роста схожи."
      ]
    },
    {
      "cell_type": "code",
      "execution_count": 41,
      "metadata": {
        "colab": {
          "base_uri": "https://localhost:8080/",
          "height": 573
        },
        "id": "spfERAZHl5SY",
        "outputId": "01d9c2b5-2f62-4c34-c7ef-f52653830306"
      },
      "outputs": [
        {
          "data": {
            "image/png": "[encoded data removed]",
            "text/plain": [
              "<Figure size 800x600 with 1 Axes>"
            ]
          },
          "metadata": {},
          "output_type": "display_data"
        }
      ],
      "source": [
        "plt.figure(figsize=(8, 6))\n",
        "sns.boxplot(x='Gender', y='Weight', data=data)\n",
        "plt.title('Box plot для веса в разрезе пола')\n",
        "plt.xlabel('Пол')\n",
        "plt.ylabel('Вес (кг)')\n",
        "plt.show()"
      ]
    },
    {
      "cell_type": "markdown",
      "metadata": {
        "id": "0DJzbgwzvyW7"
      },
      "source": [
        "1. Медианы веса мужчин и женщин показывают, что средний вес среди мужчин и женщин различен.\n",
        "2. Интерквартильный размах (IQR) для мужчин шире, чем для женщин, что говорит о большем разбросе значений веса среди мужчин.\n",
        "3. Усы боксплотов для обоих полов раскинуты на одинаковые диапазоны, т.е. экстремальные значения роста схожи."
      ]
    },
    {
      "cell_type": "code",
      "execution_count": 40,
      "metadata": {
        "colab": {
          "base_uri": "https://localhost:8080/",
          "height": 573
        },
        "id": "7D1V50-3l5SY",
        "outputId": "ba292df7-0f0d-4509-c307-50f89afc2ead"
      },
      "outputs": [
        {
          "data": {
            "image/png": "[encoded data removed]",
            "text/plain": [
              "<Figure size 800x600 with 1 Axes>"
            ]
          },
          "metadata": {},
          "output_type": "display_data"
        }
      ],
      "source": [
        "plt.figure(figsize=(8, 6))\n",
        "sns.boxplot(x='Gender', y='BMI', data=data)\n",
        "plt.title('Box plot для BMI в разрезе пола')\n",
        "plt.xlabel('Пол')\n",
        "plt.ylabel('BMI')\n",
        "plt.show()"
      ]
    },
    {
      "cell_type": "markdown",
      "metadata": {
        "id": "7ecI7blRwQu_"
      },
      "source": [
        "1. Медиана BMI у мужчин выше, чем у женщин. Это указывает на то, что средний BMI среди мужчин выше.\n",
        "2. Интерквартильный размах (IQR) для мужчин шире, чем для женщин, что говорит о большем разбросе значений BMI среди мужчин.\n",
        "3. Усы боксплотов для обоих полов простираются на одинаковые диапазоны, т.е. экстремальные значения BMI схожи."
      ]
    },
    {
      "cell_type": "markdown",
      "metadata": {
        "_cell_guid": "d35c0bc1-dfe1-4f51-aa1e-9da236c97fa2",
        "_uuid": "a3e23a58-07ea-4b70-a2ff-6abea507f7cc",
        "id": "DJF5wM9Dl5SY"
      },
      "source": [
        "## 7. Посчитайте межквартильный размах для роста, веса, BMI."
      ]
    },
    {
      "cell_type": "code",
      "execution_count": 43,
      "metadata": {
        "colab": {
          "base_uri": "https://localhost:8080/"
        },
        "id": "G62HcjeTl5SY",
        "outputId": "3090439a-9d76-46c3-93b1-863b91b1697a"
      },
      "outputs": [
        {
          "name": "stdout",
          "output_type": "stream",
          "text": [
            "Межквартильный размах для роста: 28.0 см\n"
          ]
        }
      ],
      "source": [
        "iqr_height= np.percentile(data['Height'], 75) - np.percentile(data['Height'], 25)\n",
        "print(\"Межквартильный размах для роста:\", round(iqr_height, 2), \"см\")"
      ]
    },
    {
      "cell_type": "code",
      "execution_count": 44,
      "metadata": {
        "colab": {
          "base_uri": "https://localhost:8080/"
        },
        "id": "wWvN6hrol5SY",
        "outputId": "0c0b5aac-df2f-409f-c410-a534b85c9389"
      },
      "outputs": [
        {
          "name": "stdout",
          "output_type": "stream",
          "text": [
            "Межквартильный размах для веса: 56.0 кг\n"
          ]
        }
      ],
      "source": [
        "iqr_weight = np.percentile(data['Weight'], 75) - np.percentile(data['Weight'], 25)\n",
        "print(\"Межквартильный размах для веса:\", round(iqr_weight, 2), \"кг\")"
      ]
    },
    {
      "cell_type": "code",
      "execution_count": 45,
      "metadata": {
        "colab": {
          "base_uri": "https://localhost:8080/"
        },
        "id": "07QvVYrJl5SY",
        "outputId": "936ab17e-3b81-4c44-e9e7-8539ab4c87cc"
      },
      "outputs": [
        {
          "name": "stdout",
          "output_type": "stream",
          "text": [
            "Межквартильный размах для BMI: 19.22\n"
          ]
        }
      ],
      "source": [
        "iqr_bmi = np.percentile(data['BMI'], 75) - np.percentile(data['BMI'], 25)\n",
        "print(\"Межквартильный размах для BMI:\", round(iqr_bmi, 2))"
      ]
    },
    {
      "cell_type": "markdown",
      "metadata": {
        "_cell_guid": "f2be9483-7802-411b-9f0a-491835ae6c56",
        "_uuid": "c9ef2251-ed1a-4f36-ba8a-ac121e1dafe1",
        "id": "PjpyK6pal5SY"
      },
      "source": [
        "## 8. Есть ли в данных какие-то выбросы для роста, веса, BMI? Как можно их найти? Используя межквартильный размах? Удалите все такие выбросы из таблицы."
      ]
    },
    {
      "cell_type": "code",
      "execution_count": null,
      "metadata": {
        "colab": {
          "base_uri": "https://localhost:8080/"
        },
        "id": "PZ57l1DVl5SY",
        "outputId": "ff2ba2ab-5f57-4e27-9fd0-85377382fbf7"
      },
      "outputs": [
        {
          "name": "stdout",
          "output_type": "stream",
          "text": [
            "Выбросы для роста:\n",
            "Empty DataFrame\n",
            "Columns: [Gender, Height, Weight, BMI]\n",
            "Index: []\n",
            "\n",
            "Без выбросов для роста:\n",
            "     Gender  Height  Weight        BMI\n",
            "0      Male     174      96  31.708284\n",
            "1      Male     189      87  24.355421\n",
            "2    Female     185     110  32.140248\n",
            "3    Female     195     104  27.350427\n",
            "4      Male     149      61  27.476240\n",
            "..      ...     ...     ...        ...\n",
            "495  Female     150     153  68.000000\n",
            "496  Female     184     121  35.739603\n",
            "497  Female     141     136  68.407022\n",
            "498    Male     150      95  42.222222\n",
            "499    Male     173     131  43.770256\n",
            "\n",
            "[500 rows x 4 columns]\n"
          ]
        }
      ],
      "source": [
        "height_q1 = np.percentile(data['Height'], 25)\n",
        "height_q3 = np.percentile(data['Height'], 75)\n",
        "height_iqr = height_q3 - height_q1\n",
        "height_lower_bound = height_q1 - 1.5 * height_iqr\n",
        "height_upper_bound = height_q3 + 1.5 * height_iqr\n",
        "height_outliers = data[(data['Height'] < height_lower_bound) & (data['Height'] > height_upper_bound)]\n",
        "print(\"Выбросы для роста:\")\n",
        "print(height_outliers)\n",
        "height_no_outliers = data[(data['Height'] >= height_lower_bound) & (data['Height'] <= height_upper_bound)]\n",
        "print(\"\\nБез выбросов для роста:\")\n",
        "print(height_no_outliers)"
      ]
    },
    {
      "cell_type": "code",
      "execution_count": null,
      "metadata": {
        "colab": {
          "base_uri": "https://localhost:8080/"
        },
        "id": "HlCJo4F5l5SY",
        "outputId": "c9b6fd09-28fe-4e16-db67-b2e9b76991c1"
      },
      "outputs": [
        {
          "name": "stdout",
          "output_type": "stream",
          "text": [
            "Выбросы для веса:\n",
            "Empty DataFrame\n",
            "Columns: [Gender, Height, Weight, BMI]\n",
            "Index: []\n",
            "\n",
            "Без выбросов для веса:\n",
            "     Gender  Height  Weight        BMI\n",
            "0      Male     174      96  31.708284\n",
            "1      Male     189      87  24.355421\n",
            "2    Female     185     110  32.140248\n",
            "3    Female     195     104  27.350427\n",
            "4      Male     149      61  27.476240\n",
            "..      ...     ...     ...        ...\n",
            "495  Female     150     153  68.000000\n",
            "496  Female     184     121  35.739603\n",
            "497  Female     141     136  68.407022\n",
            "498    Male     150      95  42.222222\n",
            "499    Male     173     131  43.770256\n",
            "\n",
            "[500 rows x 4 columns]\n"
          ]
        }
      ],
      "source": [
        "weight_q1 = np.percentile(data['Weight'], 25)\n",
        "weight_q3 = np.percentile(data['Weight'], 75)\n",
        "weight_iqr = weight_q3 - weight_q1\n",
        "weight_lower_bound = weight_q1 - 1.5 * weight_iqr\n",
        "weight_upper_bound = weight_q3 + 1.5 * weight_iqr\n",
        "weight_outliers = data[(data['Weight'] < weight_lower_bound) & (data['Weight'] > weight_upper_bound)]\n",
        "print(\"Выбросы для веса:\")\n",
        "print(weight_outliers)\n",
        "weight_no_outliers = data[(data['Weight'] >= weight_lower_bound) & (data['Weight'] <= weight_upper_bound)]\n",
        "print(\"\\nБез выбросов для веса:\")\n",
        "print(weight_no_outliers)"
      ]
    },
    {
      "cell_type": "code",
      "execution_count": null,
      "metadata": {
        "colab": {
          "base_uri": "https://localhost:8080/"
        },
        "id": "rFriBbTKl5SZ",
        "outputId": "a670538c-aaa8-4275-b4f8-76e71fcd92d1"
      },
      "outputs": [
        {
          "name": "stdout",
          "output_type": "stream",
          "text": [
            "Выбросы для BMI:\n",
            "     Gender  Height  Weight        BMI\n",
            "49     Male     140     152  77.551020\n",
            "204    Male     145     160  76.099881\n",
            "247  Female     142     159  78.853402\n",
            "\n",
            "Без выбросов для BMI:\n",
            "     Gender  Height  Weight        BMI\n",
            "0      Male     174      96  31.708284\n",
            "1      Male     189      87  24.355421\n",
            "2    Female     185     110  32.140248\n",
            "3    Female     195     104  27.350427\n",
            "4      Male     149      61  27.476240\n",
            "..      ...     ...     ...        ...\n",
            "495  Female     150     153  68.000000\n",
            "496  Female     184     121  35.739603\n",
            "497  Female     141     136  68.407022\n",
            "498    Male     150      95  42.222222\n",
            "499    Male     173     131  43.770256\n",
            "\n",
            "[500 rows x 4 columns]\n"
          ]
        }
      ],
      "source": [
        "bmi_q1 = np.percentile(data['BMI'], 25)\n",
        "bmi_q3 = np.percentile(data['BMI'], 75)\n",
        "bmi_iqr = bmi_q3 - bmi_q1\n",
        "bmi_lower_bound = bmi_q1 - 1.5 * bmi_iqr\n",
        "bmi_upper_bound = bmi_q3 + 1.5 * bmi_iqr\n",
        "bmi_outliers = data[(data['BMI'] < bmi_lower_bound) & (data['BMI'] > bmi_upper_bound)]\n",
        "print(\"Выбросы для BMI:\")\n",
        "print(bmi_outliers)\n",
        "bmi_no_outliers = data[(data['BMI'] >= bmi_lower_bound) & (data['BMI'] <= bmi_upper_bound)]\n",
        "print(\"\\nБез выбросов для BMI:\")\n",
        "print(bmi_no_outliers)"
      ]
    },
    {
      "cell_type": "markdown",
      "metadata": {
        "id": "fhBBs9Jll5SZ"
      },
      "source": [
        "______________________________"
      ]
    }
  ],
  "metadata": {
    "colab": {
      "provenance": []
    },
    "kernelspec": {
      "display_name": "Python 3",
      "language": "python",
      "name": "python3"
    },
    "language_info": {
      "codemirror_mode": {
        "name": "ipython",
        "version": 3
      },
      "file_extension": ".py",
      "mimetype": "text/x-python",
      "name": "python",
      "nbconvert_exporter": "python",
      "pygments_lexer": "ipython3",
      "version": "3.8.8"
    }
  },
  "nbformat": 4,
  "nbformat_minor": 0
}
