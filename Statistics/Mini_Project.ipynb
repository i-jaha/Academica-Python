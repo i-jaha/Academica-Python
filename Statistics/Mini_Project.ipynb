{
  "cells": [
    {
      "cell_type": "markdown",
      "id": "94dc27aa-67ea-4b8e-8ada-60db0184479d",
      "metadata": {
        "id": "94dc27aa-67ea-4b8e-8ada-60db0184479d"
      },
      "source": [
        "качаем библиотеки"
      ]
    },
    {
      "cell_type": "code",
      "execution_count": 1,
      "id": "c3997779-dae8-4982-858d-cfbca0169d11",
      "metadata": {
        "id": "c3997779-dae8-4982-858d-cfbca0169d11"
      },
      "outputs": [],
      "source": [
        "import pandas as pd\n",
        "import numpy as np\n",
        "\n",
        "import statistics\n",
        "import statsmodels.api as sm\n",
        "\n",
        "import matplotlib.pyplot as plt\n",
        "import seaborn as sns\n",
        "\n",
        "from scipy.stats import norm\n",
        "from scipy.stats import t\n",
        "import scipy.stats as stats"
      ]
    },
    {
      "cell_type": "markdown",
      "source": [
        "# Проект"
      ],
      "metadata": {
        "id": "TyGMIouPtuPo"
      },
      "id": "TyGMIouPtuPo"
    },
    {
      "cell_type": "markdown",
      "id": "b882713b-49a5-49cf-8163-72404b66c0de",
      "metadata": {
        "id": "b882713b-49a5-49cf-8163-72404b66c0de"
      },
      "source": [
        "\n",
        "Наша кампания ранне имела всего один продукт, он был запущен давно. У нас есть записи сколько выручки нам приносил этот продукт за каждый день его работы. Пару месяцев назад кампания запустила второй продукт, и так же ежедневно фиксировала выручку которую он нам приносил. Данные по выручкам сохранены ниже в переменных product1 и product2.<br>\n",
        "Наша задача сделать полный анализ на основе всего лишь этих двух списках."
      ]
    },
    {
      "cell_type": "code",
      "execution_count": 2,
      "id": "418bf5e4-eb33-4693-b0bc-9d9d0bc683c2",
      "metadata": {
        "id": "418bf5e4-eb33-4693-b0bc-9d9d0bc683c2"
      },
      "outputs": [],
      "source": [
        "### для загрузки данных\n",
        "with open(r'project.txt', 'r') as fp:\n",
        "    for i, line in enumerate(fp):\n",
        "        if i == 0:\n",
        "            product1 = [int(i) for i in line.split(' ')]\n",
        "        if i == 1:\n",
        "            product2 = [int(i) for i in line.split(' ')]\n",
        "\n",
        "fp.close()"
      ]
    },
    {
      "cell_type": "markdown",
      "source": [
        "## **Задача 1**"
      ],
      "metadata": {
        "id": "7YSSKxAGtp8C"
      },
      "id": "7YSSKxAGtp8C"
    },
    {
      "cell_type": "markdown",
      "id": "fa048600-0d1e-4242-b8e9-1c0cee876c75",
      "metadata": {
        "id": "fa048600-0d1e-4242-b8e9-1c0cee876c75"
      },
      "source": [
        "<br>\n",
        "подсчитайте среднее арифметическое (mean), медиану и моду для обоих списков: product1 и product2"
      ]
    },
    {
      "cell_type": "code",
      "execution_count": 3,
      "id": "c1684a38-7506-4be5-8a22-5c739c3937e0",
      "metadata": {
        "colab": {
          "base_uri": "https://localhost:8080/"
        },
        "id": "c1684a38-7506-4be5-8a22-5c739c3937e0",
        "outputId": "94304a80-7253-4540-9e9c-ace03e01ba7c"
      },
      "outputs": [
        {
          "output_type": "stream",
          "name": "stdout",
          "text": [
            "Mean (product1): 199.103\n",
            "Mean (product2): 193.5\n",
            "Median (product1): 198.5\n",
            "Median (product2): 194.5\n",
            "Mode (product1): 186\n",
            "Mode (product2): 227\n"
          ]
        }
      ],
      "source": [
        "# Средня арифметическая (mean)\n",
        "mean_product1 = statistics.mean(product1)\n",
        "mean_product2 = statistics.mean(product2)\n",
        "\n",
        "# Медиана\n",
        "median_product1 = statistics.median(product1)\n",
        "median_product2 = statistics.median(product2)\n",
        "\n",
        "# Мода\n",
        "mode_product1 = statistics.mode(product1)\n",
        "mode_product2 = statistics.mode(product2)\n",
        "\n",
        "# Результаты\n",
        "print(f\"Mean (product1): {mean_product1}\")\n",
        "print(f\"Mean (product2): {mean_product2}\")\n",
        "print(f\"Median (product1): {median_product1}\")\n",
        "print(f\"Median (product2): {median_product2}\")\n",
        "print(f\"Mode (product1): {mode_product1}\")\n",
        "print(f\"Mode (product2): {mode_product2}\")"
      ]
    },
    {
      "cell_type": "markdown",
      "id": "acaf9c74-c1f9-44f1-8971-e2ff3a12711b",
      "metadata": {
        "id": "acaf9c74-c1f9-44f1-8971-e2ff3a12711b"
      },
      "source": [
        "Какая из трех метрик будет наименее показательной, и почему?<br>\n",
        "На основе оставшихся двух метрик какой продукт в среднем приносит больше выручки?"
      ]
    },
    {
      "cell_type": "markdown",
      "source": [
        "> Мода является наименее показательной метрикой. Она отображает значение, которое встречается чаще всего. Следовательно, эта метрика зависима от частоты значений."
      ],
      "metadata": {
        "id": "HWH6qmzbV57m"
      },
      "id": "HWH6qmzbV57m"
    },
    {
      "cell_type": "markdown",
      "source": [
        "> Так как среднее арифметическое и медиана для product1 выше, чем для product2, то следует, что product1 в среднем приносит больше выручки.\n",
        "\n"
      ],
      "metadata": {
        "id": "_Ego2_NyWa_b"
      },
      "id": "_Ego2_NyWa_b"
    },
    {
      "cell_type": "markdown",
      "source": [
        "## **Задача 2**"
      ],
      "metadata": {
        "id": "_KJscHCttnXI"
      },
      "id": "_KJscHCttnXI"
    },
    {
      "cell_type": "markdown",
      "id": "e9a9c8a0-0908-4ab4-8683-d6dc4ffe8deb",
      "metadata": {
        "id": "e9a9c8a0-0908-4ab4-8683-d6dc4ffe8deb"
      },
      "source": [
        "<br>\n",
        "подсчитайте стандартное отклонение и скажите оценка какого продукта является более точной?"
      ]
    },
    {
      "cell_type": "code",
      "execution_count": 4,
      "id": "4a85fb32-4b85-44d6-a523-309713d0044b",
      "metadata": {
        "colab": {
          "base_uri": "https://localhost:8080/"
        },
        "id": "4a85fb32-4b85-44d6-a523-309713d0044b",
        "outputId": "f3793ae5-e9b3-42e8-b5be-2f76b827642d"
      },
      "outputs": [
        {
          "output_type": "stream",
          "name": "stdout",
          "text": [
            "Стандартное отклонение (product1): 28.81\n",
            "Стандартное отклонение (product2): 29.74\n"
          ]
        }
      ],
      "source": [
        "# Стандартное отклонение\n",
        "std_dev_product1 = statistics.stdev(product1)\n",
        "std_dev_product2 = statistics.stdev(product2)\n",
        "\n",
        "# Результаты\n",
        "print(f\"Стандартное отклонение (product1): {std_dev_product1:.2f}\")\n",
        "print(f\"Стандартное отклонение (product2): {std_dev_product2:.2f}\")"
      ]
    },
    {
      "cell_type": "markdown",
      "source": [
        "\n",
        "\n",
        "> Так как стандартное отклонение для product1 меньше, чем для product2, то оценки для product1 являются более точными.\n",
        "\n"
      ],
      "metadata": {
        "id": "gDbDpnhwXNxl"
      },
      "id": "gDbDpnhwXNxl"
    },
    {
      "cell_type": "markdown",
      "source": [
        "## **Задача 3**"
      ],
      "metadata": {
        "id": "JUGwVJR_tkvs"
      },
      "id": "JUGwVJR_tkvs"
    },
    {
      "cell_type": "markdown",
      "id": "30b9c78e-32c8-4208-ae0f-0af3c6da4ff5",
      "metadata": {
        "id": "30b9c78e-32c8-4208-ae0f-0af3c6da4ff5"
      },
      "source": [
        "<br>\n",
        "Нарисуйте распределение вероятности выручки для продукта1 и для продукта2.<br>\n",
        "Можете использовать гистограмму или kdeplot"
      ]
    },
    {
      "cell_type": "code",
      "execution_count": 5,
      "id": "6de53cf0-0820-41fd-a895-d2afa9edaaba",
      "metadata": {
        "id": "6de53cf0-0820-41fd-a895-d2afa9edaaba"
      },
      "outputs": [],
      "source": [
        "# Проверка длины массивов и дополнение до одинаковой длины\n",
        "if len(product1) != len(product2):\n",
        "    max_length = max(len(product1), len(product2))\n",
        "    product1.extend([np.nan] * (max_length - len(product1)))\n",
        "    product2.extend([np.nan] * (max_length - len(product2)))\n",
        "\n",
        "# Создание DataFrame для данных\n",
        "data = pd.DataFrame({'Product1': product1, 'Product2': product2})"
      ]
    },
    {
      "cell_type": "code",
      "source": [
        "# Построение гистограммы и kdeplot для Product1\n",
        "sns.histplot(data['Product1'].dropna(), kde=True, color='blue', label='Product1', bins=10)\n",
        "plt.title('Распределение вероятности выручки для Product1')\n",
        "plt.xlabel('Выручка')\n",
        "plt.ylabel('Частота')\n",
        "plt.legend()\n",
        "plt.grid(True)\n",
        "plt.show()"
      ],
      "metadata": {
        "colab": {
          "base_uri": "https://localhost:8080/",
          "height": 472
        },
        "id": "JN8z2CvkZqMS",
        "outputId": "a2ff2edb-7279-4acc-8ddd-8ea596190354"
      },
      "id": "JN8z2CvkZqMS",
      "execution_count": 6,
      "outputs": [
        {
          "output_type": "display_data",
          "data": {
            "text/plain": [
              "<Figure size 640x480 with 1 Axes>"
            ],
            "image/png": "[encoded data removed]"
          },
          "metadata": {}
        }
      ]
    },
    {
      "cell_type": "code",
      "source": [
        "# Построение гистограммы и kdeplot для Product2\n",
        "sns.histplot(data['Product2'].dropna(), kde=True, color='green', label='Product2', bins=10)\n",
        "plt.title('Распределение вероятности выручки для Product2')\n",
        "plt.xlabel('Выручка')\n",
        "plt.ylabel('Частота')\n",
        "plt.legend()\n",
        "plt.grid(True)\n",
        "plt.show()"
      ],
      "metadata": {
        "colab": {
          "base_uri": "https://localhost:8080/",
          "height": 472
        },
        "id": "qf93XXFhZlyW",
        "outputId": "02c77c62-6410-40ff-b9de-84c60aca8cc7"
      },
      "id": "qf93XXFhZlyW",
      "execution_count": 7,
      "outputs": [
        {
          "output_type": "display_data",
          "data": {
            "text/plain": [
              "<Figure size 640x480 with 1 Axes>"
            ],
            "image/png": "[encoded data removed]"
          },
          "metadata": {}
        }
      ]
    },
    {
      "cell_type": "markdown",
      "source": [
        "## **Задача 4**"
      ],
      "metadata": {
        "id": "KCp74Fagthjc"
      },
      "id": "KCp74Fagthjc"
    },
    {
      "cell_type": "markdown",
      "id": "d82f8c77-de75-48af-9b0a-5631393561ba",
      "metadata": {
        "id": "d82f8c77-de75-48af-9b0a-5631393561ba"
      },
      "source": [
        "<br>\n",
        "Посчитайте размах выручки для продукта1 и для продукта2<br>\n",
        "Сходится ли разница в размахах и разница в стандартных отклонениях, какая может быть причина?"
      ]
    },
    {
      "cell_type": "code",
      "execution_count": 8,
      "id": "ecc66a72-e8b0-4a99-9e1e-67271e4201c6",
      "metadata": {
        "colab": {
          "base_uri": "https://localhost:8080/"
        },
        "id": "ecc66a72-e8b0-4a99-9e1e-67271e4201c6",
        "outputId": "ca9770f0-9cd9-486a-d575-b55bdcd00574"
      },
      "outputs": [
        {
          "output_type": "stream",
          "name": "stdout",
          "text": [
            "Размах выручки (product1): 193\n",
            "Размах выручки (product2): 97\n",
            "Стандартное отклонение (product1): 28.81\n",
            "Стандартное отклонение (product2): 29.74\n"
          ]
        }
      ],
      "source": [
        "# Размах\n",
        "range_product1 = max(product1) - min(product1)\n",
        "range_product2 = max(product2) - min(product2)\n",
        "\n",
        "# Результаты\n",
        "print(f\"Размах выручки (product1): {range_product1}\")\n",
        "print(f\"Размах выручки (product2): {range_product2}\")\n",
        "\n",
        "print(f\"Стандартное отклонение (product1): {std_dev_product1:.2f}\")\n",
        "print(f\"Стандартное отклонение (product2): {std_dev_product2:.2f}\")"
      ]
    },
    {
      "cell_type": "markdown",
      "source": [
        "> **Размах** отражает экстремальные значения и чувствителен к выбросам. У product1 он больше, что указывает на наличие резких пиков или провалов в выручке.\n",
        "\n",
        "> **Стандартное отклонение** показывает усреднённую вариацию данных относительно среднего. Здесь значения схожи, что говорит о сопоставимой общей волатильности выручки обоих продуктов.\n",
        "\n",
        "> У **product1** вероятны выбросы (например, редкие высокие продажи или резкие падения), которые растягивают размах, но не сильно влияют на стандартное отклонение, если основные данные группируются около среднего.\n",
        "\n",
        "> У **product2** значения распределены более равномерно, поэтому размах меньше, а стандартное отклонение остаётся на уровне product1."
      ],
      "metadata": {
        "id": "EniM6GEvakpO"
      },
      "id": "EniM6GEvakpO"
    },
    {
      "cell_type": "markdown",
      "source": [
        "## **Задача 5**"
      ],
      "metadata": {
        "id": "1maPvtsCtddT"
      },
      "id": "1maPvtsCtddT"
    },
    {
      "cell_type": "markdown",
      "id": "0f8ef771-bdbd-409a-9840-af4d04d35bd1",
      "metadata": {
        "id": "0f8ef771-bdbd-409a-9840-af4d04d35bd1"
      },
      "source": [
        "<br>\n",
        "Посчитайте межквартильный разммах IQR для продукта1 и продукта2<br>\n",
        "Теперь убрав выбросы что мы можем сказать о разбросе данных?"
      ]
    },
    {
      "cell_type": "code",
      "execution_count": 9,
      "id": "0f8c548e-9f57-4c06-9b44-75a8bda299ea",
      "metadata": {
        "colab": {
          "base_uri": "https://localhost:8080/"
        },
        "id": "0f8c548e-9f57-4c06-9b44-75a8bda299ea",
        "outputId": "1693895a-c2e9-49ee-8111-5977abb56ed6"
      },
      "outputs": [
        {
          "output_type": "stream",
          "name": "stdout",
          "text": [
            "IQR для product1: 38.25\n",
            "IQR для product2: 51.0\n"
          ]
        }
      ],
      "source": [
        "# Удаление пропущенных значений из product2\n",
        "clean_product2 = []\n",
        "for x in product2:\n",
        "    if not np.isnan(x):\n",
        "        clean_product2.append(x)\n",
        "\n",
        "# Вычисление IQR для product1\n",
        "Q1_product1 = np.percentile(product1, 25)\n",
        "Q3_product1 = np.percentile(product1, 75)\n",
        "IQR_product1 = Q3_product1 - Q1_product1\n",
        "\n",
        "# Вычисление IQR для clean_product2\n",
        "Q1_product2 = np.percentile(clean_product2, 25)\n",
        "Q3_product2 = np.percentile(clean_product2, 75)\n",
        "IQR_product2 = Q3_product2 - Q1_product2\n",
        "\n",
        "# Вывод результатов\n",
        "print(f\"IQR для product1: {IQR_product1}\")\n",
        "print(f\"IQR для product2: {IQR_product2}\")"
      ]
    },
    {
      "cell_type": "markdown",
      "source": [
        "> У **product1** основная масса значений группируется довольно компактно, без резких скачков.\n",
        "\n",
        "> У **product2** большая естественная вариативность выручки product2 даже без учёта выбросов.\n",
        "\n",
        "> У product1 выбросы (например, редкие пики продаж) сильно растягивали общий размах, но основная часть данных стабильна.\n",
        "\n",
        "> У **product2** данные изначально более \"рассеяны\": даже без выбросов их средние значения варьируются сильнее, чем у product1. Это может быть связано с зависимостью от разных факторов при продажах."
      ],
      "metadata": {
        "id": "7BrVP2pCfNro"
      },
      "id": "7BrVP2pCfNro"
    },
    {
      "cell_type": "markdown",
      "source": [
        "## **Задача 6**"
      ],
      "metadata": {
        "id": "1-UT2voNtbGg"
      },
      "id": "1-UT2voNtbGg"
    },
    {
      "cell_type": "markdown",
      "id": "6db76839-217a-4a3c-acd7-a865d30fdffb",
      "metadata": {
        "id": "6db76839-217a-4a3c-acd7-a865d30fdffb"
      },
      "source": [
        "<br>\n",
        "Нарисуйте box-plot для продукта1 и с рисунка скажите при каких значениях начинаются выбросы"
      ]
    },
    {
      "cell_type": "code",
      "execution_count": 10,
      "id": "d06c9ff2-9d1e-4967-a117-9600d93b6629",
      "metadata": {
        "colab": {
          "base_uri": "https://localhost:8080/",
          "height": 458
        },
        "id": "d06c9ff2-9d1e-4967-a117-9600d93b6629",
        "outputId": "f026d202-7e6f-4f14-fcdf-54233bb0c562"
      },
      "outputs": [
        {
          "output_type": "display_data",
          "data": {
            "text/plain": [
              "<Figure size 640x480 with 1 Axes>"
            ],
            "image/png": "[encoded data removed]"
          },
          "metadata": {}
        }
      ],
      "source": [
        "sns.boxplot(data=product1)\n",
        "plt.title('Box-plot для Product1')\n",
        "plt.xlabel('Product1')\n",
        "plt.show()"
      ]
    },
    {
      "cell_type": "code",
      "source": [
        "# Определение нижнего и верхнего пределов\n",
        "lower_bound_product1 = Q1_product1 - 1.5 * IQR_product1\n",
        "upper_bound_product1 = Q3_product1 + 1.5 * IQR_product1\n",
        "\n",
        "print(f\"Первый квартиль (Q1): {Q1_product1}\")\n",
        "print(f\"Третий квартиль (Q3): {Q3_product1}\")\n",
        "print(f\"Межквартильный размах (IQR): {IQR_product1}\")\n",
        "print(f\"Нижняя граница: {lower_bound_product1}\")\n",
        "print(f\"Верхняя граница: {upper_bound_product1}\")"
      ],
      "metadata": {
        "colab": {
          "base_uri": "https://localhost:8080/"
        },
        "id": "clH6o-udgtq5",
        "outputId": "96882028-bcc8-4790-bd4e-cd3bebcb829c"
      },
      "id": "clH6o-udgtq5",
      "execution_count": 11,
      "outputs": [
        {
          "output_type": "stream",
          "name": "stdout",
          "text": [
            "Первый квартиль (Q1): 179.0\n",
            "Третий квартиль (Q3): 217.25\n",
            "Межквартильный размах (IQR): 38.25\n",
            "Нижняя граница: 121.625\n",
            "Верхняя граница: 274.625\n"
          ]
        }
      ]
    },
    {
      "cell_type": "markdown",
      "source": [
        "\n",
        "\n",
        "> Выбросы начинаются при значения меньше 121.625 и больше 274.625\n",
        "\n"
      ],
      "metadata": {
        "id": "QUTSAWDKh7eH"
      },
      "id": "QUTSAWDKh7eH"
    },
    {
      "cell_type": "markdown",
      "source": [
        "## **Задача 7**"
      ],
      "metadata": {
        "id": "AzV725EftXPb"
      },
      "id": "AzV725EftXPb"
    },
    {
      "cell_type": "markdown",
      "id": "16928b46-db3e-4469-a64b-c80de91db2ff",
      "metadata": {
        "id": "16928b46-db3e-4469-a64b-c80de91db2ff"
      },
      "source": [
        "<br>\n",
        "Нарисуйте QQ plot выручки для обоих продуктов<br>\n",
        "Какое из распределений является нормальным?"
      ]
    },
    {
      "cell_type": "code",
      "execution_count": 12,
      "id": "baabbdf5-2f9f-437d-9c0f-ab9e6ef551da",
      "metadata": {
        "colab": {
          "base_uri": "https://localhost:8080/",
          "height": 487
        },
        "id": "baabbdf5-2f9f-437d-9c0f-ab9e6ef551da",
        "outputId": "ae05b6b9-7ae0-448d-f31f-13d45d00a8b6"
      },
      "outputs": [
        {
          "output_type": "display_data",
          "data": {
            "text/plain": [
              "<Figure size 640x480 with 2 Axes>"
            ],
            "image/png": "[encoded data removed]"
          },
          "metadata": {}
        }
      ],
      "source": [
        "# Построение QQ plot для product1\n",
        "plt.subplot(1, 2, 1)\n",
        "stats.probplot(product1, dist=\"norm\", plot=plt)\n",
        "plt.title('QQ plot для Product1')\n",
        "\n",
        "# Построение QQ plot для product2\n",
        "plt.subplot(1, 2, 2)\n",
        "stats.probplot(product2, dist=\"norm\", plot=plt)\n",
        "plt.title('QQ plot для Product2')\n",
        "\n",
        "plt.tight_layout()\n",
        "plt.show()"
      ]
    },
    {
      "cell_type": "markdown",
      "source": [
        "> Распределение выручки для product1 является нормальным, а для product2 — не нормальным."
      ],
      "metadata": {
        "id": "x-QJ8llIkjoe"
      },
      "id": "x-QJ8llIkjoe"
    },
    {
      "cell_type": "markdown",
      "id": "ff6b8ff4-9232-4726-a865-223be99a9f74",
      "metadata": {
        "id": "ff6b8ff4-9232-4726-a865-223be99a9f74"
      },
      "source": [
        "Каких значений много или наоборот не достает в продукте2 чтобы значения стали нормально распределенными?"
      ]
    },
    {
      "cell_type": "markdown",
      "source": [
        "> На графике product2 точки в левом конце графика сильно отклоняются от референсной линии влево, что значит, много низких значений (или недостаток).\n",
        "\n"
      ],
      "metadata": {
        "id": "6ItX2dKKlSRy"
      },
      "id": "6ItX2dKKlSRy"
    },
    {
      "cell_type": "markdown",
      "source": [
        "##**Задача 8**"
      ],
      "metadata": {
        "id": "v40BAMxLs_QU"
      },
      "id": "v40BAMxLs_QU"
    },
    {
      "cell_type": "markdown",
      "id": "9dafa3ad-23c5-45f1-add9-ed9fccd667d2",
      "metadata": {
        "id": "9dafa3ad-23c5-45f1-add9-ed9fccd667d2"
      },
      "source": [
        "И так мы знаем что выручка продукта1 является нормально распредленной, переведите все значения в стандартное нормальное распределение используя текущие mean и std<br>\n",
        "создайте новую переменнуя и запишите новые значения туда"
      ]
    },
    {
      "cell_type": "code",
      "execution_count": 13,
      "id": "535671e2-01e5-4b4d-b1fc-c16695ad43d5",
      "metadata": {
        "colab": {
          "base_uri": "https://localhost:8080/"
        },
        "id": "535671e2-01e5-4b4d-b1fc-c16695ad43d5",
        "outputId": "68d78adc-596c-4699-ed01-9a5f8f2f97c2"
      },
      "outputs": [
        {
          "output_type": "stream",
          "name": "stdout",
          "text": [
            "Среднее значение (mean) для product1: 199.103\n",
            "Стандартное отклонение (std) для product1: 28.808372278095014\n",
            "Значения в стандартном нормальном распределении для product1: [-0.1077117433101013, 0.6559551444830738, -0.038287480783449034, 0.8295158007997044, -1.1837878124732115, -0.5936815809966672, 2.0097282637527933, 0.5171066194297692, -0.07299961204677517, 1.8014554761728363, -0.1771360058367536, -0.038287480783449034, 0.13527317553318166, 1.9055918699628147, -0.3854087934167104, 1.0725007196429874, 0.725379407009726, -2.4334245379529524, -0.6283937122599934, 2.1485767888060976, 1.3154856384862703, -0.1077117433101013, 0.4129702256397908, -0.281272399626732, 2.3915617076493807, -1.8433183064764083, -0.5936815809966672, 1.1072128509063135, -0.1077117433101013, 0.6906672757463999, 0.4476823569031169, 0.5518187506930954, 0.6559551444830738, 1.489046294802901, 0.8989400633263567, 2.3915617076493807, 0.20469743805983395, -0.7325301060499718, 0.5518187506930954, 0.968364325853009, -0.6978179747866456, 0.031136781743203248, 0.10056104426985553, -0.1077117433101013, -0.003575349520122892, 0.6212430132197476, -1.1837878124732115, -0.524257318470015, -0.3159845308900581, 0.10056104426985553, 1.2807735072229443, 0.031136781743203248, 0.6906672757463999, 0.3435459631131385, 0.7600915382730522, 0.20469743805983395, 0.3782580943764646, -0.6283937122599934, -0.003575349520122892, -0.6631058435233196, 0.1699853067965078, -0.8713786311032764, 0.2741217005864862, -1.010227156156581, -1.2184999437365378, 2.3915617076493807, 0.968364325853009, -2.1557274878463435, -0.4548330559433627, -0.038287480783449034, -0.003575349520122892, -1.28792420626319, -0.3506966621533843, 0.9336521945896828, -1.496196993843147, 0.13527317553318166, -1.496196993843147, 1.1072128509063135, -1.044939287419907, -0.8366664998399502, 0.8295158007997044, 0.4476823569031169, 0.10056104426985553, 0.20469743805983395, -0.6283937122599934, -1.6697576501597775, -0.14242387457342745, -3.6483491321693675, 0.5865308819564214, -0.42012092468003653, -1.1837878124732115, 1.2807735072229443, 0.8642279320630306, 0.2741217005864862, 2.183288920069424, -1.8086061752130822, 1.0725007196429874, -0.4548330559433627, -0.24656026836340586, -0.6631058435233196, -0.4548330559433627, -0.3854087934167104, 0.725379407009726, -1.3226363375265162, -0.4895451872066888, -1.6350455188964514, 0.3782580943764646, -0.07299961204677517, -0.5589694497333411, 1.5237584260662271, -1.496196993843147, 1.6626069511195318, -1.010227156156581, 1.5584705573295534, -0.801954368576624, -0.9060907623666025, 0.06584891300652938, 1.732031213646184, -0.038287480783449034, 1.211349244696292, -1.3920606000531686, -0.3506966621533843, 0.9336521945896828, 0.30883383184981233, 1.975016132489467, 0.2741217005864862, -0.21184813710007971, 0.48239448816644304, 0.8989400633263567, -0.6978179747866456, 1.697319082382858, 0.20469743805983395, 1.003076457116335, -0.4895451872066888, -0.524257318470015, -1.1837878124732115, 0.6212430132197476, 1.9055918699628147, 0.2741217005864862, -1.4267727313164946, 0.725379407009726, 1.5931826885928795, 2.1485767888060976, 1.211349244696292, -0.07299961204677517, -0.9060907623666025, 0.2741217005864862, -1.7044697814231038, 0.5518187506930954, 0.9336521945896828, -0.6283937122599934, 1.6626069511195318, -0.42012092468003653, 1.3154856384862703, -1.6003333876331254, -1.3573484687898423, -1.8086061752130822, -0.5936815809966672, 0.30883383184981233, -1.3573484687898423, 0.7948036695363783, -0.281272399626732, 0.6212430132197476, -2.121015356583017, 1.0377885883796614, 0.6559551444830738, 2.495698101439359, -0.3506966621533843, 0.30883383184981233, -0.9060907623666025, 1.454334163539575, 1.003076457116335, 0.20469743805983395, -0.5589694497333411, -0.8713786311032764, -0.5936815809966672, -0.07299961204677517, 0.968364325853009, -0.3506966621533843, -2.6416973255329093, -0.801954368576624, -0.4895451872066888, 0.1699853067965078, 0.6559551444830738, 0.7600915382730522, 0.8295158007997044, -0.4548330559433627, 0.3435459631131385, -0.4548330559433627, 1.1766371134329658, 0.4129702256397908, 2.460985970176033, -0.8366664998399502, -1.3226363375265162, -0.07299961204677517, -0.6631058435233196, -0.4548330559433627, 0.3782580943764646, -1.010227156156581, -1.565621256369799, 0.1699853067965078, -0.42012092468003653, 0.3435459631131385, 0.3435459631131385, 1.7667433449095102, 1.003076457116335, 1.2460613759596182, 1.2807735072229443, 1.489046294802901, 2.1485767888060976, 0.9336521945896828, 0.13527317553318166, 0.23940956932316007, 1.6626069511195318, -1.7044697814231038, -0.6978179747866456, 0.9336521945896828, 0.2741217005864862, -0.6283937122599934, 0.4129702256397908, -1.010227156156581, -1.2532120749998639, -0.6978179747866456, 1.454334163539575, -0.3854087934167104, -0.24656026836340586, 0.8989400633263567, -1.1837878124732115, -0.24656026836340586, 1.0377885883796614, 1.0725007196429874, -0.3159845308900581, -0.07299961204677517, -0.6283937122599934, 0.10056104426985553, 0.031136781743203248, -0.003575349520122892, 0.3435459631131385, 0.031136781743203248, 1.6626069511195318, 0.3782580943764646, 0.20469743805983395, -0.1077117433101013, 1.2807735072229443, -0.42012092468003653, 0.20469743805983395, 0.3782580943764646, -1.3573484687898423, 0.6212430132197476, -1.7044697814231038, 1.1419249821696398, -0.7325301060499718, 0.5171066194297692, 1.0377885883796614, 0.8642279320630306, 0.968364325853009, -0.767242237313298, 0.031136781743203248, 1.1419249821696398, 0.8989400633263567, 0.1699853067965078, -1.7044697814231038, 0.4129702256397908, -0.4548330559433627, 0.6559551444830738, -0.7325301060499718, 1.0377885883796614, 1.1419249821696398, -0.7325301060499718, 0.20469743805983395, 0.3782580943764646, 1.3154856384862703, -0.14242387457342745, 1.697319082382858, 0.3435459631131385, 0.06584891300652938, -0.5589694497333411, 1.489046294802901, -1.3226363375265162, 1.7667433449095102, 0.5865308819564214, -1.1490756812098855, -1.1490756812098855, -0.9408028936299286, 2.0097282637527933, 1.3849099010129227, -0.4895451872066888, -1.044939287419907, 0.8642279320630306, 0.20469743805983395, -1.2184999437365378, -1.28792420626319, -0.003575349520122892, 0.4129702256397908, -0.6283937122599934, 0.9336521945896828, -0.21184813710007971, 1.2807735072229443, 0.031136781743203248, -0.767242237313298, 1.5584705573295534, -1.9821668315297127, 1.5931826885928795, -0.24656026836340586, -2.0863032253196914, 0.5171066194297692, -0.07299961204677517, 0.13527317553318166, 2.1485767888060976, -0.6978179747866456, 0.4129702256397908, -0.767242237313298, 0.30883383184981233, 0.23940956932316007, -0.4895451872066888, 0.5171066194297692, 1.5931826885928795, -0.07299961204677517, -0.4548330559433627, 1.1766371134329658, 0.3782580943764646, 0.06584891300652938, -0.3159845308900581, -1.6350455188964514, 0.4129702256397908, 0.6212430132197476, -0.524257318470015, -1.1490756812098855, 0.23940956932316007, 0.5171066194297692, -1.9127425690030606, 0.10056104426985553, -1.1143635499465594, 1.3501977697495966, -0.038287480783449034, 0.5865308819564214, 0.30883383184981233, -0.07299961204677517, -0.5589694497333411, -1.1837878124732115, -0.3854087934167104, 0.48239448816644304, 0.031136781743203248, 0.3435459631131385, -0.3506966621533843, -0.801954368576624, 1.6278948198562055, 0.4129702256397908, 1.2807735072229443, 0.23940956932316007, 0.725379407009726, 0.4476823569031169, 0.6559551444830738, 0.5171066194297692, 0.8989400633263567, -0.42012092468003653, 1.2460613759596182, 0.30883383184981233, 0.6212430132197476, 1.5237584260662271, -1.044939287419907, -0.5589694497333411, -0.14242387457342745, -0.42012092468003653, 0.1699853067965078, -0.6978179747866456, -0.1771360058367536, -2.259863881636322, 0.031136781743203248, 0.20469743805983395, -0.524257318470015, 1.003076457116335, -0.24656026836340586, -0.3506966621533843, 1.0377885883796614, 0.4129702256397908, -0.9408028936299286, 0.6559551444830738, 1.5584705573295534, -0.767242237313298, -0.801954368576624, -0.3506966621533843, -0.1771360058367536, 0.20469743805983395, -0.038287480783449034, 0.6906672757463999, 2.1138646575427718, 0.20469743805983395, -1.773894043949756, -0.24656026836340586, -0.038287480783449034, 0.2741217005864862, 0.30883383184981233, 1.003076457116335, -0.14242387457342745, 0.031136781743203248, 1.3501977697495966, 1.1072128509063135, 0.13527317553318166, -0.6978179747866456, 0.4476823569031169, -0.21184813710007971, -0.6631058435233196, -0.524257318470015, 1.0725007196429874, -0.4548330559433627, -0.21184813710007971, -1.530909125106473, -2.016878962793039, -0.3506966621533843, -0.3506966621533843, -0.767242237313298, 0.6906672757463999, 0.8989400633263567, -1.6350455188964514, 0.06584891300652938, -0.003575349520122892, -0.6978179747866456, 0.5518187506930954, 1.2807735072229443, -0.24656026836340586, -2.7458337193228877, 1.1072128509063135, 0.5865308819564214, 1.3154856384862703, -1.4614848625798207, -1.1490756812098855, -1.6697576501597775, -1.010227156156581, -0.9408028936299286, -1.773894043949756, -1.4267727313164946, -0.07299961204677517, -0.9408028936299286, 0.5171066194297692, -0.7325301060499718, 1.3501977697495966, -0.07299961204677517, -1.7391819126864299, 1.1766371134329658, 0.5518187506930954, 1.3154856384862703, -0.6283937122599934, 0.8642279320630306, 0.6212430132197476, -0.14242387457342745, -0.21184813710007971, -0.6283937122599934, -1.28792420626319, 0.20469743805983395, -1.4267727313164946, 0.031136781743203248, 0.5518187506930954, -2.2251517503729956, 2.3915617076493807, 1.1419249821696398, -0.6283937122599934, 0.23940956932316007, -0.5936815809966672, 1.003076457116335, 0.031136781743203248, -0.7325301060499718, 1.6278948198562055, 0.3435459631131385, 1.732031213646184, -0.8713786311032764, -0.003575349520122892, -0.5936815809966672, -0.801954368576624, 1.6278948198562055, 1.003076457116335, -0.6631058435233196, -0.42012092468003653, -1.6350455188964514, 1.211349244696292, 0.7948036695363783, 1.211349244696292, -0.4548330559433627, 0.13527317553318166, -0.6631058435233196, 0.5865308819564214, -1.6350455188964514, 1.732031213646184, 1.8014554761728363, -0.1771360058367536, 1.3501977697495966, -1.6003333876331254, -1.044939287419907, -0.14242387457342745, -0.6283937122599934, -0.1077117433101013, 1.6626069511195318, -0.9755150248932548, -0.524257318470015, -1.773894043949756, 1.1072128509063135, -0.6283937122599934, 1.3154856384862703, 0.4129702256397908, 0.2741217005864862, 0.1699853067965078, 1.6626069511195318, -1.6697576501597775, -0.1771360058367536, -0.4895451872066888, -1.4267727313164946, -0.1771360058367536, -2.016878962793039, 0.30883383184981233, 0.23940956932316007, -1.044939287419907, -0.42012092468003653, 0.06584891300652938, -1.044939287419907, -0.5589694497333411, 1.2807735072229443, 0.5171066194297692, -0.21184813710007971, 1.8708797386994886, -1.3226363375265162, -1.4267727313164946, -0.6978179747866456, 1.003076457116335, -0.4548330559433627, -0.1771360058367536, 0.7600915382730522, -1.565621256369799, -0.14242387457342745, -0.7325301060499718, 1.454334163539575, 0.2741217005864862, 1.0725007196429874, -0.3506966621533843, -0.767242237313298, -0.003575349520122892, 2.0791525262794455, -0.7325301060499718, 2.0791525262794455, 0.20469743805983395, 0.1699853067965078, 0.30883383184981233, 0.968364325853009, 0.4129702256397908, -0.801954368576624, 0.4129702256397908, 0.3782580943764646, -0.4548330559433627, 1.0377885883796614, 0.4129702256397908, -1.6350455188964514, -1.079651418683233, 0.20469743805983395, -1.3226363375265162, -1.1143635499465594, -0.038287480783449034, 0.30883383184981233, -0.1771360058367536, -0.9408028936299286, 0.3435459631131385, -0.5589694497333411, 0.8295158007997044, 1.2807735072229443, -0.038287480783449034, 0.7600915382730522, -0.524257318470015, 0.13527317553318166, -0.4548330559433627, 1.940304001226141, -1.2184999437365378, -1.28792420626319, -0.038287480783449034, 1.732031213646184, 2.5998344952293375, -0.6978179747866456, -0.07299961204677517, -0.3506966621533843, 1.7667433449095102, -0.5589694497333411, 0.48239448816644304, -0.003575349520122892, 0.5865308819564214, -0.1771360058367536, -0.9060907623666025, -0.003575349520122892, -0.038287480783449034, -0.1077117433101013, -0.1077117433101013, 0.3435459631131385, -2.121015356583017, 1.0725007196429874, -0.3159845308900581, 0.06584891300652938, -0.6978179747866456, -2.1557274878463435, -0.281272399626732, 1.940304001226141, 0.4129702256397908, 1.1419249821696398, 0.1699853067965078, -1.9821668315297127, -0.3854087934167104, 1.5237584260662271, 0.20469743805983395, 1.1072128509063135, -0.3159845308900581, -2.121015356583017, -1.3920606000531686, 0.13527317553318166, 0.10056104426985553, -0.4548330559433627, -0.1077117433101013, 1.5584705573295534, -1.4614848625798207, -0.4548330559433627, -0.14242387457342745, 0.4476823569031169, 0.7600915382730522, -0.07299961204677517, 0.7600915382730522, 1.6626069511195318, 1.3849099010129227, -1.3920606000531686, -0.003575349520122892, -0.21184813710007971, 0.6212430132197476, 1.5237584260662271, -0.5589694497333411, -0.7325301060499718, 0.13527317553318166, 0.7948036695363783, 0.06584891300652938, -0.5589694497333411, 0.06584891300652938, -0.07299961204677517, 0.8642279320630306, 1.2460613759596182, 1.5584705573295534, -1.9127425690030606, 1.3501977697495966, 0.031136781743203248, -1.044939287419907, -0.1771360058367536, -1.8780304377397343, -1.1490756812098855, 0.4129702256397908, 1.003076457116335, 0.48239448816644304, -0.801954368576624, -1.3573484687898423, -0.21184813710007971, -0.7325301060499718, 2.252713182596076, 0.1699853067965078, 0.5865308819564214, -0.8713786311032764, -0.3854087934167104, -1.1837878124732115, 2.044440395016119, -0.003575349520122892, 0.06584891300652938, 0.2741217005864862, -0.003575349520122892, -0.21184813710007971, -1.044939287419907, 0.7948036695363783, -1.1490756812098855, -1.7391819126864299, -0.21184813710007971, -0.1771360058367536, -1.496196993843147, 1.4196220322762487, -0.24656026836340586, -1.1490756812098855, -2.121015356583017, -1.044939287419907, 0.8295158007997044, 0.6212430132197476, -0.5589694497333411, -0.281272399626732, -1.6003333876331254, 1.3501977697495966, -0.07299961204677517, -1.4267727313164946, -0.9060907623666025, 0.4129702256397908, -0.5589694497333411, -0.9755150248932548, 2.773395151545968, -1.7044697814231038, 2.0097282637527933, 3.0510922016525774, -0.6283937122599934, 0.725379407009726, -0.3506966621533843, -1.1143635499465594, -0.1077117433101013, 0.7600915382730522, -1.044939287419907, -1.8433183064764083, -0.8366664998399502, -0.9060907623666025, -0.1771360058367536, 1.003076457116335, -1.1143635499465594, -0.3159845308900581, -1.565621256369799, -1.2184999437365378, -0.9060907623666025, 0.6212430132197476, -1.6003333876331254, -0.9060907623666025, -1.2184999437365378, 0.4476823569031169, -0.6283937122599934, -0.3159845308900581, -0.21184813710007971, 1.3849099010129227, -0.3506966621533843, -0.6283937122599934, -1.6350455188964514, 0.6212430132197476, -0.4548330559433627, 0.7600915382730522, 0.48239448816644304, -1.565621256369799, -0.1077117433101013, 0.5865308819564214, -1.010227156156581, 0.6212430132197476, 1.1419249821696398, -0.21184813710007971, 1.975016132489467, 0.7600915382730522, 1.3154856384862703, -0.038287480783449034, -0.767242237313298, 0.5518187506930954, -1.565621256369799, 2.1138646575427718, -1.496196993843147, -0.1771360058367536, 1.5931826885928795, -1.079651418683233, 0.30883383184981233, -0.1077117433101013, -0.7325301060499718, -0.801954368576624, 0.23940956932316007, 1.5584705573295534, 0.3435459631131385, -0.6978179747866456, 0.031136781743203248, 2.3915617076493807, 0.5518187506930954, -1.079651418683233, -1.565621256369799, 0.6559551444830738, -0.5936815809966672, -1.8086061752130822, -1.079651418683233, 0.031136781743203248, -0.524257318470015, -0.4548330559433627, 0.968364325853009, 0.5518187506930954, 0.48239448816644304, 2.1138646575427718, -0.6283937122599934, -0.5589694497333411, -0.524257318470015, -0.24656026836340586, -1.8780304377397343, -0.003575349520122892, -0.8713786311032764, -0.3854087934167104, 0.968364325853009, -0.3854087934167104, 0.10056104426985553, -1.1143635499465594, 0.4129702256397908, -0.6283937122599934, 2.252713182596076, -0.6631058435233196, 0.4476823569031169, -0.4548330559433627, 0.5865308819564214, 0.7948036695363783, -0.9408028936299286, 0.5171066194297692, -0.767242237313298, -0.281272399626732, 0.7948036695363783, -0.4895451872066888, -0.21184813710007971, 2.0791525262794455, 1.2460613759596182, -1.044939287419907, 0.8989400633263567, 0.7948036695363783, 0.5171066194297692, 0.4476823569031169, -1.1490756812098855, 0.30883383184981233, -0.5589694497333411, -0.1077117433101013, -0.3506966621533843, 0.9336521945896828, 1.5931826885928795, 0.031136781743203248, 0.13527317553318166, 0.4129702256397908, -1.079651418683233, -0.24656026836340586, 0.13527317553318166, 1.732031213646184, 0.3782580943764646, -0.24656026836340586, 1.8014554761728363, -0.281272399626732, 0.725379407009726, 0.10056104426985553, 0.3435459631131385, -1.1490756812098855, 0.23940956932316007, 0.031136781743203248, -1.1490756812098855, -0.3506966621533843, 1.3849099010129227, -1.079651418683233, -0.8713786311032764, 1.5237584260662271, -0.6978179747866456, -0.07299961204677517, -1.6350455188964514, -0.801954368576624, -0.3506966621533843, 0.968364325853009, 1.975016132489467, -0.9408028936299286, -0.6631058435233196, 0.3782580943764646, -0.4548330559433627, 1.1419249821696398, -0.07299961204677517, 0.13527317553318166, 0.3782580943764646, -0.5589694497333411, 0.48239448816644304, 0.3435459631131385, -0.9755150248932548, -1.3226363375265162, -0.5589694497333411, -0.9060907623666025, 0.13527317553318166, 0.4129702256397908, 0.48239448816644304, 0.5171066194297692, -0.9408028936299286, -0.3506966621533843, -1.9474547002663867, -0.3506966621533843, 0.8295158007997044, -0.21184813710007971, 0.7600915382730522, -0.1077117433101013, 1.3501977697495966, -0.14242387457342745, 0.23940956932316007, 0.3435459631131385, 0.5171066194297692, 1.1072128509063135, -0.8713786311032764, -0.6283937122599934, -2.2251517503729956, -0.5589694497333411, 1.1766371134329658, -0.4548330559433627, 0.10056104426985553, -0.9755150248932548, 0.4476823569031169, -1.4267727313164946, 0.4476823569031169, -0.14242387457342745, 0.2741217005864862, 1.1072128509063135, 0.5171066194297692, -1.3573484687898423, 0.3435459631131385, -1.9127425690030606, 0.13527317553318166, -1.6003333876331254, -0.8366664998399502, -1.3920606000531686, -2.2251517503729956, -1.8086061752130822, -0.801954368576624, 0.8989400633263567, -0.801954368576624, 0.1699853067965078, 0.48239448816644304, 0.30883383184981233, -0.24656026836340586, -0.3854087934167104, -0.3159845308900581, -1.1837878124732115, -0.4548330559433627, -0.281272399626732, 2.1138646575427718, 0.4129702256397908, -1.565621256369799, -1.2532120749998639, 0.3782580943764646, -1.3226363375265162, 0.20469743805983395, 0.5518187506930954, 0.031136781743203248, -0.24656026836340586, -1.1143635499465594, -1.2184999437365378, -0.281272399626732, 0.6906672757463999, 0.1699853067965078, 0.2741217005864862, -1.7044697814231038, 0.968364325853009, 0.20469743805983395, 1.697319082382858, -0.1077117433101013, -0.3159845308900581, 0.7600915382730522, 0.8642279320630306, 2.183288920069424, -1.3226363375265162, -1.079651418683233, -1.1490756812098855, -0.281272399626732, -0.6978179747866456, -1.773894043949756, 0.30883383184981233, 0.031136781743203248, 0.5865308819564214, -0.801954368576624, -0.8713786311032764, 1.003076457116335, 0.10056104426985553, 0.6906672757463999, 0.13527317553318166, 0.8642279320630306, -0.14242387457342745, -1.010227156156581, -0.8713786311032764, -0.1771360058367536, 0.23940956932316007, -0.6631058435233196, 0.48239448816644304, 0.8989400633263567, -0.524257318470015, -0.1771360058367536, 0.6906672757463999, -0.6631058435233196, 0.7600915382730522, -0.3159845308900581, -0.003575349520122892, -0.801954368576624, -1.2532120749998639, -0.6978179747866456, -1.1490756812098855, -0.4548330559433627, -0.8713786311032764, 0.8642279320630306, 1.454334163539575, 1.1766371134329658, -0.767242237313298, 1.2807735072229443, 0.23940956932316007, -0.1771360058367536, -0.3854087934167104, 0.3782580943764646, 0.7600915382730522, 0.6559551444830738, 0.6559551444830738, -0.3159845308900581, 0.30883383184981233, -0.801954368576624, 1.697319082382858, -0.003575349520122892, -0.21184813710007971, -0.801954368576624, -0.3854087934167104, 0.3435459631131385, -0.3506966621533843, -0.8366664998399502, -0.6978179747866456, -2.016878962793039, -0.9408028936299286, 0.3782580943764646, 1.6278948198562055, 1.732031213646184, 1.697319082382858, -0.3854087934167104]\n"
          ]
        }
      ],
      "source": [
        "# Вычисление среднего значения (mean) и стандартного отклонения (std)\n",
        "mean_product1 = statistics.mean(product1)\n",
        "std_dev_product1 = statistics.stdev(product1)\n",
        "\n",
        "# Перевод значений в стандартное нормальное распределение\n",
        "standardized_product1 = []\n",
        "for x in product1:\n",
        "    standardized_value = (x - mean_product1) / std_dev_product1\n",
        "    standardized_product1.append(standardized_value)\n",
        "\n",
        "# Вывод новых значений\n",
        "print(f\"Среднее значение (mean) для product1: {mean_product1}\")\n",
        "print(f\"Стандартное отклонение (std) для product1: {std_dev_product1}\")\n",
        "print(f\"Значения в стандартном нормальном распределении для product1: {standardized_product1}\")"
      ]
    },
    {
      "cell_type": "markdown",
      "id": "aea5d73e-fe86-411b-8669-11fd200df3de",
      "metadata": {
        "id": "aea5d73e-fe86-411b-8669-11fd200df3de"
      },
      "source": [
        "Нарисуйте kdeplot нового стандартного распределения"
      ]
    },
    {
      "cell_type": "code",
      "execution_count": 14,
      "id": "7370c67e-be0e-4ae5-8b0f-c42246cdb065",
      "metadata": {
        "colab": {
          "base_uri": "https://localhost:8080/",
          "height": 452
        },
        "id": "7370c67e-be0e-4ae5-8b0f-c42246cdb065",
        "outputId": "cf6867cc-4bf0-4e50-ca74-c3777486a484"
      },
      "outputs": [
        {
          "output_type": "display_data",
          "data": {
            "text/plain": [
              "<Figure size 640x480 with 1 Axes>"
            ],
            "image/png": "[encoded data removed]"
          },
          "metadata": {}
        }
      ],
      "source": [
        "sns.kdeplot(standardized_product1, fill=True, color='blue')\n",
        "plt.title('KDE Plot для стандартизированного распределения выручки Product1')\n",
        "plt.grid(True)\n",
        "plt.show()"
      ]
    },
    {
      "cell_type": "markdown",
      "source": [
        "## **Задача 9**"
      ],
      "metadata": {
        "id": "loeqoB_YtInN"
      },
      "id": "loeqoB_YtInN"
    },
    {
      "cell_type": "markdown",
      "id": "837f8f0f-532f-4341-b2d9-8acf4c09ceb4",
      "metadata": {
        "id": "837f8f0f-532f-4341-b2d9-8acf4c09ceb4"
      },
      "source": [
        "<br>\n",
        "Подсчитайте точку слева от которой будет 1% всей вероятности распределения"
      ]
    },
    {
      "cell_type": "code",
      "execution_count": 15,
      "id": "93bcb34d-69b3-4429-9817-fe6699f6034d",
      "metadata": {
        "colab": {
          "base_uri": "https://localhost:8080/"
        },
        "id": "93bcb34d-69b3-4429-9817-fe6699f6034d",
        "outputId": "e0d35236-b8ea-4915-a487-7237ade0a5b7"
      },
      "outputs": [
        {
          "output_type": "stream",
          "name": "stdout",
          "text": [
            "Значение слева, от которого будет 1% всей вероятности: -2.3263478740408408\n"
          ]
        }
      ],
      "source": [
        "# Нахождение 1-го процентиля в стандартном нормальном распределении\n",
        "percentile_value = stats.norm.ppf(0.01)\n",
        "\n",
        "print(f\"Значение слева, от которого будет 1% всей вероятности: {percentile_value}\")"
      ]
    },
    {
      "cell_type": "markdown",
      "id": "7f8788d6-2645-4432-9b6e-61ba231f1141",
      "metadata": {
        "id": "7f8788d6-2645-4432-9b6e-61ba231f1141"
      },
      "source": [
        "Первое значение в списке product1 равно 94. Когда мы преобразуем список в стандартное нормальное распределение, 94 преобразуется в -3.65<br>\n",
        "Что нам говорит это число, особенно при сравнении с точкой которую мы только что подсчитали?"
      ]
    },
    {
      "cell_type": "markdown",
      "source": [
        "\n",
        "\n",
        "> Число -3.65 в стандартизированном нормальном распределении говорит о том, насколько далеко значение 94 отклоняется от среднего значения (mean) в единицах стандартного отклонения (std)\n",
        "\n",
        "> Значение -3.65 говорит, что 94 отклоняется от среднего намного больше, чем 99% значений (т.е., это значение можно считать выбросом или крайне редким случаем).\n",
        "\n"
      ],
      "metadata": {
        "id": "Znyah13cqa7o"
      },
      "id": "Znyah13cqa7o"
    },
    {
      "cell_type": "markdown",
      "source": [
        "## **Задача 10**"
      ],
      "metadata": {
        "id": "mjeA6Ft1tNcM"
      },
      "id": "mjeA6Ft1tNcM"
    },
    {
      "cell_type": "markdown",
      "id": "ee247fab-075c-4545-bb14-3c3d84e68f27",
      "metadata": {
        "id": "ee247fab-075c-4545-bb14-3c3d84e68f27"
      },
      "source": [
        "<br>\n",
        "Продукт2 новый, но уже достаточно стабилизирвался за эти месяцы. Мы хотим знать сколько он будет в среднем нам приносить ежедневно выручки и в будущем.<br>\n",
        "Дайте точечную оценку средней выручке продукта2"
      ]
    },
    {
      "cell_type": "code",
      "execution_count": 16,
      "id": "6731c412-dd77-4dfe-9a55-69e676fb1600",
      "metadata": {
        "colab": {
          "base_uri": "https://localhost:8080/"
        },
        "id": "6731c412-dd77-4dfe-9a55-69e676fb1600",
        "outputId": "575c0a00-6920-4f96-e82c-c7dd9291127c"
      },
      "outputs": [
        {
          "output_type": "stream",
          "name": "stdout",
          "text": [
            "Точечная оценка средней выручки для Product2: 193.5\n"
          ]
        }
      ],
      "source": [
        "# Удаление пропущенных значений из product2\n",
        "clean_product2 = []\n",
        "for x in product2:\n",
        "    if not np.isnan(x):\n",
        "        clean_product2.append(x)\n",
        "\n",
        "# Средняя выручка\n",
        "mean_product2 = statistics.mean(clean_product2)\n",
        "\n",
        "# Результат\n",
        "print(f\"Точечная оценка средней выручки для Product2: {mean_product2}\")"
      ]
    },
    {
      "cell_type": "markdown",
      "id": "1856cbae-3ce5-4c2a-b676-fbf275f5008e",
      "metadata": {
        "id": "1856cbae-3ce5-4c2a-b676-fbf275f5008e"
      },
      "source": [
        "Подсчитайте 95% доверительный интервал"
      ]
    },
    {
      "cell_type": "code",
      "execution_count": 17,
      "id": "de8a5647-8bf6-40c8-8354-85bf0a7360e3",
      "metadata": {
        "colab": {
          "base_uri": "https://localhost:8080/"
        },
        "id": "de8a5647-8bf6-40c8-8354-85bf0a7360e3",
        "outputId": "d3eb7f41-48df-4f43-a122-ad984af22f16"
      },
      "outputs": [
        {
          "output_type": "stream",
          "name": "stdout",
          "text": [
            "Средняя выручка для Product2: 193.5\n",
            "95% доверительный интервал: (187.6714429838974, 199.3285570161026)\n"
          ]
        }
      ],
      "source": [
        "# Размер выборки\n",
        "n = len(clean_product2)\n",
        "\n",
        "# Ошибка средней выборки (standard error)\n",
        "se_product2 = std_dev_product2 / np.sqrt(n)\n",
        "\n",
        "# Значение для 95% доверительного интервала\n",
        "value = stats.norm.ppf(0.975)\n",
        "\n",
        "# Вычисление доверительного интервала\n",
        "ci_lower = mean_product2 - value * se_product2\n",
        "ci_upper = mean_product2 + value * se_product2\n",
        "\n",
        "# Вывод результатов\n",
        "print(f\"Средняя выручка для Product2: {mean_product2}\")\n",
        "print(f\"95% доверительный интервал: ({ci_lower}, {ci_upper})\")"
      ]
    },
    {
      "cell_type": "markdown",
      "source": [
        "## **Задача11**"
      ],
      "metadata": {
        "id": "RD6joD-xtPhy"
      },
      "id": "RD6joD-xtPhy"
    },
    {
      "cell_type": "markdown",
      "id": "31a2cf04-d3fe-46c2-b388-e829293cb022",
      "metadata": {
        "id": "31a2cf04-d3fe-46c2-b388-e829293cb022"
      },
      "source": [
        "<br>\n",
        "Проведите АБ тест с уровнем значимости 5% что средняя выручка у продукта1 выше чем 197.5"
      ]
    },
    {
      "cell_type": "code",
      "execution_count": 18,
      "id": "174cbc88-edf1-488f-bac6-f058010322df",
      "metadata": {
        "colab": {
          "base_uri": "https://localhost:8080/"
        },
        "id": "174cbc88-edf1-488f-bac6-f058010322df",
        "outputId": "8421239b-95ab-484c-f7f1-ed9b33369ca0"
      },
      "outputs": [
        {
          "output_type": "stream",
          "name": "stdout",
          "text": [
            "Средняя выручка для product1: 199.10\n",
            "Стандартное отклонение для product1: 28.81\n",
            "t-статистика: 1.76\n",
            "t-критическое значение: 1.65\n",
            "Нулевая гипотеза отвергнута. Средняя выручка product1 выше 197.5.\n"
          ]
        }
      ],
      "source": [
        "# Средняя выручка для product1\n",
        "mean_product1 = statistics.mean(product1)\n",
        "\n",
        "# Стандартное отклонение для product1\n",
        "std_dev_product1 = statistics.stdev(product1)\n",
        "\n",
        "# Размер выборки\n",
        "n_product1 = len(product1)\n",
        "\n",
        "# Значение для проверки гипотезы\n",
        "mean_hypothesis = 197.5\n",
        "\n",
        "# Вычисление t-статистики\n",
        "t_statistic = (mean_product1 - mean_hypothesis) / (std_dev_product1 / np.sqrt(n_product1))\n",
        "\n",
        "# Значение t для уровня значимости 5%\n",
        "t_critical = stats.t.ppf(1 - 0.05, df=n_product1 - 1)\n",
        "\n",
        "print(f\"Средняя выручка для product1: {mean_product1:.2f}\")\n",
        "print(f\"Стандартное отклонение для product1: {std_dev_product1:.2f}\")\n",
        "print(f\"t-статистика: {t_statistic:.2f}\")\n",
        "print(f\"t-критическое значение: {t_critical:.2f}\")\n",
        "\n",
        "# Проверка гипотезы\n",
        "if t_statistic > t_critical:\n",
        "    print(\"Нулевая гипотеза отвергнута. Средняя выручка product1 выше 197.5.\")\n",
        "else:\n",
        "    print(\"Нулевая гипотеза не отвергнута. Нет достаточных доказательств, что средняя выручка product1 выше 197.5.\")"
      ]
    },
    {
      "cell_type": "markdown",
      "id": "56ab8d09-19d4-477a-af19-c135f776ce36",
      "metadata": {
        "id": "56ab8d09-19d4-477a-af19-c135f776ce36"
      },
      "source": [
        "Какой это был типа АБ теста?"
      ]
    },
    {
      "cell_type": "markdown",
      "source": [
        "\n",
        "\n",
        "> Этот тест был односторонним t-тестом (one-tailed t-test). В одностороннем t-тесте проверил гипотезу в одном направлении. в данном случае, является ли средняя выручка product1 выше 197.5.\n",
        "\n",
        "> Поскольку t-статистика (1.76) больше t-критического значения (1.65), нулевая гипотеза была отвергнута, и следует вывод, что средняя выручка product1 выше 197.5.\n",
        "\n"
      ],
      "metadata": {
        "id": "UwytyYE5vG1n"
      },
      "id": "UwytyYE5vG1n"
    },
    {
      "cell_type": "markdown",
      "source": [
        "## **Задача12**"
      ],
      "metadata": {
        "id": "KQ4GZnNstTNY"
      },
      "id": "KQ4GZnNstTNY"
    },
    {
      "cell_type": "markdown",
      "id": "54e230d2-073a-47d4-8cdf-ad03c1973569",
      "metadata": {
        "id": "54e230d2-073a-47d4-8cdf-ad03c1973569"
      },
      "source": [
        "<br>\n",
        "Проведите АБ тест с уровнем значимости 5% что средняя выручка у продукта1 и у продукта2 равны"
      ]
    },
    {
      "cell_type": "code",
      "execution_count": 19,
      "id": "a576b543-0ba4-4c94-8b76-6776cfd95bbc",
      "metadata": {
        "id": "a576b543-0ba4-4c94-8b76-6776cfd95bbc"
      },
      "outputs": [],
      "source": [
        "# Средня арифметическая (mean)\n",
        "mean_product1 = statistics.mean(product1)\n",
        "mean_product2 = statistics.mean(clean_product2)"
      ]
    },
    {
      "cell_type": "code",
      "source": [
        "# Стандартное отклонение\n",
        "std_dev_product1 = statistics.stdev(product1)\n",
        "std_dev_product2 = statistics.stdev(clean_product2)"
      ],
      "metadata": {
        "id": "CHSG1JMZv54r"
      },
      "id": "CHSG1JMZv54r",
      "execution_count": 20,
      "outputs": []
    },
    {
      "cell_type": "code",
      "source": [
        "# Размеры выборок\n",
        "n_product1 = len(product1)\n",
        "n_product2 = len(clean_product2)"
      ],
      "metadata": {
        "id": "XXEPuxPWv32U"
      },
      "id": "XXEPuxPWv32U",
      "execution_count": 21,
      "outputs": []
    },
    {
      "cell_type": "code",
      "source": [
        "# Вычисление t-статистики\n",
        "t_statistic, p_value = stats.ttest_ind(product1, clean_product2)"
      ],
      "metadata": {
        "id": "GSZI7gpMv2Ih"
      },
      "id": "GSZI7gpMv2Ih",
      "execution_count": 22,
      "outputs": []
    },
    {
      "cell_type": "code",
      "source": [
        "# Значение t для уровня значимости 5% (двухсторонний тест)\n",
        "t_critical = stats.t.ppf(1 - 0.025, df=min(n_product1, n_product2) - 1)"
      ],
      "metadata": {
        "id": "xju5q6qMv7f4"
      },
      "id": "xju5q6qMv7f4",
      "execution_count": 23,
      "outputs": []
    },
    {
      "cell_type": "code",
      "source": [
        "print(f\"Средняя выручка для product1: {mean_product1}\")\n",
        "print(f\"Стандартное отклонение для product1: {std_dev_product1}\")\n",
        "print(f\"Средняя выручка для product2: {mean_product2}\")\n",
        "print(f\"Стандартное отклонение для product2: {std_dev_product2}\")\n",
        "print(f\"t-статистика: {t_statistic}\")\n",
        "print(f\"p-значение: {p_value}\")\n",
        "print(f\"t-критическое значение: {t_critical}\")"
      ],
      "metadata": {
        "colab": {
          "base_uri": "https://localhost:8080/"
        },
        "id": "iDimAxZywAWH",
        "outputId": "5918b564-4fbf-490c-dfb6-6600ff70aeb8"
      },
      "id": "iDimAxZywAWH",
      "execution_count": 24,
      "outputs": [
        {
          "output_type": "stream",
          "name": "stdout",
          "text": [
            "Средняя выручка для product1: 199.103\n",
            "Стандартное отклонение для product1: 28.808372278095014\n",
            "Средняя выручка для product2: 193.5\n",
            "Стандартное отклонение для product2: 29.738082240681482\n",
            "t-статистика: 1.8489503287555282\n",
            "p-значение: 0.06473365137046305\n",
            "t-критическое значение: 1.9842169515086827\n"
          ]
        }
      ]
    },
    {
      "cell_type": "code",
      "source": [
        "# Проверка гипотезы\n",
        "if abs(t_statistic) > t_critical:\n",
        "    print(\"Нулевая гипотеза отвергнута. Средние выручки продуктов 1 и 2 различаются.\")\n",
        "else:\n",
        "    print(\"Нулевая гипотеза не отвергнута. Нет достаточных доказательств, что средние выручки продуктов 1 и 2 различаются.\")"
      ],
      "metadata": {
        "colab": {
          "base_uri": "https://localhost:8080/"
        },
        "id": "8iniuiBXwKb4",
        "outputId": "17767c4e-5aed-4b4b-f764-cedda45ecf9c"
      },
      "id": "8iniuiBXwKb4",
      "execution_count": 25,
      "outputs": [
        {
          "output_type": "stream",
          "name": "stdout",
          "text": [
            "Нулевая гипотеза не отвергнута. Нет достаточных доказательств, что средние выручки продуктов 1 и 2 различаются.\n"
          ]
        }
      ]
    }
  ],
  "metadata": {
    "kernelspec": {
      "display_name": "Python 3 (ipykernel)",
      "language": "python",
      "name": "python3"
    },
    "language_info": {
      "codemirror_mode": {
        "name": "ipython",
        "version": 3
      },
      "file_extension": ".py",
      "mimetype": "text/x-python",
      "name": "python",
      "nbconvert_exporter": "python",
      "pygments_lexer": "ipython3",
      "version": "3.11.3"
    },
    "colab": {
      "provenance": []
    }
  },
  "nbformat": 4,
  "nbformat_minor": 5
}