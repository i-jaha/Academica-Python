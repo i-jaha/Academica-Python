{
  "cells": [
    {
      "cell_type": "code",
      "execution_count": 1,
      "id": "5f7bb041-3c93-4448-a495-b45639892e0f",
      "metadata": {
        "id": "5f7bb041-3c93-4448-a495-b45639892e0f"
      },
      "outputs": [],
      "source": [
        "import pandas as pd\n",
        "from scipy.stats import mannwhitneyu, kstest, shapiro\n",
        "import matplotlib.pyplot as plt"
      ]
    },
    {
      "cell_type": "markdown",
      "id": "e6f33176-84bc-4425-b6f2-afea1de0c6d8",
      "metadata": {
        "id": "e6f33176-84bc-4425-b6f2-afea1de0c6d8"
      },
      "source": [
        "#### Задание 1\n",
        "Вам подготовили датасет в файле compare_df.csv<br>\n",
        "В нем есть всего две колонки sample1 и sample2<br>\n",
        "Проведите Mann U Whitney тест чтобы проверить, идентично ли распределение двух этих сэмплов с уровнем значимости в 95%"
      ]
    },
    {
      "cell_type": "code",
      "execution_count": 3,
      "id": "4cd4f00e-4764-448c-a7f1-1d79d9f5c727",
      "metadata": {
        "colab": {
          "base_uri": "https://localhost:8080/"
        },
        "id": "4cd4f00e-4764-448c-a7f1-1d79d9f5c727",
        "outputId": "99b2928f-da3b-4d55-b367-ad4fbc7ab6fa"
      },
      "outputs": [
        {
          "output_type": "stream",
          "name": "stdout",
          "text": [
            "U-статистика: 4409.0000\n",
            "p-значение: 0.1491\n",
            "Нет статистически значимых различий между распределениями двух сэмплов.\n"
          ]
        }
      ],
      "source": [
        "# Загрузка датасета\n",
        "file_path = 'compare_df.csv'\n",
        "data = pd.read_csv(file_path)\n",
        "\n",
        "# Извлечение данных\n",
        "sample1 = data['sample1']\n",
        "sample2 = data['sample2']\n",
        "\n",
        "# Проведение Mann-Whitney U теста\n",
        "stat, p_value = mannwhitneyu(sample1, sample2)\n",
        "\n",
        "# Вывод результатов\n",
        "print(f'U-статистика: {stat:.4f}')\n",
        "print(f'p-значение: {p_value:.4f}')\n",
        "\n",
        "# Проверка уровня значимости\n",
        "alpha = 0.05\n",
        "if p_value < alpha:\n",
        "    print(\"Распределения двух сэмплов значимо различаются.\")\n",
        "else:\n",
        "    print(\"Нет статистически значимых различий между распределениями двух сэмплов.\")\n"
      ]
    },
    {
      "cell_type": "markdown",
      "id": "ca92d9d6-0bb7-4e99-8b9b-4397dffa2115",
      "metadata": {
        "id": "ca92d9d6-0bb7-4e99-8b9b-4397dffa2115"
      },
      "source": [
        "#### Задание 2\n",
        "Используя те же самые два сэмпла из compare_df, проведите Kolmogorov Smirnov тест для проверки идентичности распределений"
      ]
    },
    {
      "cell_type": "code",
      "execution_count": 5,
      "id": "d5199cee-207f-48ef-a56a-c7e03a287117",
      "metadata": {
        "colab": {
          "base_uri": "https://localhost:8080/"
        },
        "id": "d5199cee-207f-48ef-a56a-c7e03a287117",
        "outputId": "838c9259-8654-4546-ee77-6d8577fc30ff"
      },
      "outputs": [
        {
          "output_type": "stream",
          "name": "stdout",
          "text": [
            "Statistic: 0.2000\n",
            "p-value: 0.0364\n",
            "Распределения двух сэмплов значимо различаются.\n"
          ]
        }
      ],
      "source": [
        "# Проведение теста Колмогорова-Смирнова\n",
        "stat, p_value = kstest(sample1, sample2)\n",
        "\n",
        "# Вывод результатов\n",
        "print(f'Statistic: {stat:.4f}')\n",
        "print(f'p-value: {p_value:.4f}')\n",
        "\n",
        "# Проверка уровня значимости\n",
        "alpha = 0.05\n",
        "if p_value < alpha:\n",
        "    print(\"Распределения двух сэмплов значимо различаются.\")\n",
        "else:\n",
        "    print(\"Нет статистически значимых различий между распределениями двух сэмплов.\")\n"
      ]
    },
    {
      "cell_type": "markdown",
      "id": "33aa9739-8730-4336-a8ba-bca0db03b9f2",
      "metadata": {
        "id": "33aa9739-8730-4336-a8ba-bca0db03b9f2"
      },
      "source": [
        "#### Задание 3\n",
        "Вам подготовили датасет в файле normality_test.csv<br>\n",
        "В нем всего одна колонка sample<br>\n",
        "Проведите Kolmogorov Smirnov тест, чтобы проверить нормальность данных с уровнем значимости в 95%"
      ]
    },
    {
      "cell_type": "code",
      "execution_count": 6,
      "id": "8315d01d-041c-4a8b-b4da-1d138131ccb4",
      "metadata": {
        "colab": {
          "base_uri": "https://localhost:8080/"
        },
        "id": "8315d01d-041c-4a8b-b4da-1d138131ccb4",
        "outputId": "749050eb-73b6-41fb-e08d-cc49bec7d4dd"
      },
      "outputs": [
        {
          "output_type": "stream",
          "name": "stdout",
          "text": [
            "Statistic: 0.0750\n",
            "p-value: 0.6005\n",
            "Данные соответствуют нормальному распределению.\n"
          ]
        }
      ],
      "source": [
        "# Загрузка датасета\n",
        "file_path = 'normality_test.csv'\n",
        "data = pd.read_csv(file_path)\n",
        "\n",
        "# Извлечение сэмпла\n",
        "sample = data['sample']\n",
        "\n",
        "# Проведение теста Колмогорова-Смирнова для проверки нормальности\n",
        "result = kstest(sample, 'norm', args=(sample.mean(), sample.std(ddof=1)))\n",
        "stat = result[0]\n",
        "p_value = result[1]\n",
        "\n",
        "# Вывод результатов\n",
        "print(f'Statistic: {stat:.4f}')\n",
        "print(f'p-value: {p_value:.4f}')\n",
        "\n",
        "# Проверка уровня значимости\n",
        "alpha = 0.05\n",
        "if p_value < alpha:\n",
        "    print(\"Данные не соответствуют нормальному распределению.\")\n",
        "else:\n",
        "    print(\"Данные соответствуют нормальному распределению.\")\n"
      ]
    },
    {
      "cell_type": "markdown",
      "id": "b9d33652-9757-4414-bb77-ea792e404f71",
      "metadata": {
        "id": "b9d33652-9757-4414-bb77-ea792e404f71"
      },
      "source": [
        "#### Задание 4\n",
        "Используя те же самые данные, проведите тест на нормальность используя Shapiro Wilk тест<br>\n",
        "Какому тесту (ШапироУилк или КолмогоровСмирнов) вы доверяете больше и чей результат выберите?"
      ]
    },
    {
      "cell_type": "code",
      "execution_count": 9,
      "id": "7d1671f1-2634-41c9-95fc-279580b27d91",
      "metadata": {
        "colab": {
          "base_uri": "https://localhost:8080/"
        },
        "id": "7d1671f1-2634-41c9-95fc-279580b27d91",
        "outputId": "ba3e41c4-f5ab-4f2e-8c9a-bc497c75e93d"
      },
      "outputs": [
        {
          "output_type": "stream",
          "name": "stdout",
          "text": [
            "Kolmogorov-Smirnov Test:\n",
            "\tStatistic: 0.0750\n",
            "\tp-value: 0.6005\n",
            "Shapiro-Wilk Test:\n",
            "\tStatistic: 0.9873\n",
            "\tp-value: 0.4593\n",
            "Kolmogorov-Smirnov Test: Данные соответствуют нормальному распределению.\n",
            "Shapiro-Wilk Test: Данные соответствуют нормальному распределению.\n"
          ]
        }
      ],
      "source": [
        "# Загрузка датасета\n",
        "file_path = 'normality_test.csv'\n",
        "data = pd.read_csv(file_path)\n",
        "\n",
        "# Извлечение сэмпла\n",
        "sample = data['sample']\n",
        "\n",
        "# Проведение теста Колмогорова-Смирнова для проверки нормальности\n",
        "ks_stat, ks_p_value = kstest(sample, 'norm', args=(sample.mean(), sample.std(ddof=1)))\n",
        "\n",
        "# Проведение теста Шапиро-Уилка для проверки нормальности\n",
        "sw_stat, sw_p_value = shapiro(sample)\n",
        "\n",
        "# Вывод результатов теста Колмогорова-Смирнова\n",
        "print(f'Kolmogorov-Smirnov Test:')\n",
        "print(f'\\tStatistic: {ks_stat:.4f}')\n",
        "print(f'\\tp-value: {ks_p_value:.4f}')\n",
        "\n",
        "# Вывод результатов теста Шапиро-Уилка\n",
        "print(f'Shapiro-Wilk Test:')\n",
        "print(f'\\tStatistic: {sw_stat:.4f}')\n",
        "print(f'\\tp-value: {sw_p_value:.4f}')\n",
        "\n",
        "# Проверка уровня значимости для теста Колмогорова-Смирнова\n",
        "alpha = 0.05\n",
        "if ks_p_value < alpha:\n",
        "    print(\"Kolmogorov-Smirnov Test: Данные не соответствуют нормальному распределению.\")\n",
        "else:\n",
        "    print(\"Kolmogorov-Smirnov Test: Данные соответствуют нормальному распределению.\")\n",
        "\n",
        "# Проверка уровня значимости для теста Шапиро-Уилка\n",
        "if sw_p_value < alpha:\n",
        "    print(\"Shapiro-Wilk Test: Данные не соответствуют нормальному распределению.\")\n",
        "else:\n",
        "    print(\"Shapiro-Wilk Test: Данные соответствуют нормальному распределению.\")"
      ]
    }
  ],
  "metadata": {
    "kernelspec": {
      "display_name": "Python 3 (ipykernel)",
      "language": "python",
      "name": "python3"
    },
    "language_info": {
      "codemirror_mode": {
        "name": "ipython",
        "version": 3
      },
      "file_extension": ".py",
      "mimetype": "text/x-python",
      "name": "python",
      "nbconvert_exporter": "python",
      "pygments_lexer": "ipython3",
      "version": "3.12.4"
    },
    "colab": {
      "provenance": []
    }
  },
  "nbformat": 4,
  "nbformat_minor": 5
}