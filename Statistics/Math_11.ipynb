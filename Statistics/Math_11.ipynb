{
  "nbformat": 4,
  "nbformat_minor": 0,
  "metadata": {
    "colab": {
      "provenance": [],
      "collapsed_sections": [
        "HY_LIYR9HS7t"
      ]
    },
    "kernelspec": {
      "name": "python3",
      "display_name": "Python 3"
    },
    "language_info": {
      "name": "python"
    }
  },
  "cells": [
    {
      "cell_type": "code",
      "source": [
        "import numpy as np\n",
        "import matplotlib.pyplot as plt\n",
        "from scipy.stats import norm\n",
        "import scipy.stats as stats"
      ],
      "metadata": {
        "id": "QPSgdZFCIMwB"
      },
      "execution_count": 1,
      "outputs": []
    },
    {
      "cell_type": "markdown",
      "source": [
        "## Задача 1"
      ],
      "metadata": {
        "id": "HY_LIYR9HS7t"
      }
    },
    {
      "cell_type": "markdown",
      "source": [
        "**Вероятность распределения и уровень значимости**\n",
        "\n",
        "В кафе утверждают, что каждая порция эспрессо содержит ровно 30 мл кофе.\n",
        "\n",
        "Однако, на основании многолетних наблюдений, известно, что объем порции подчиняется нормальному распределению со средним значением 30 мл и стандартным отклонением 1 мл.\n",
        "\n",
        "Контролер качества хочет проверить, какова вероятность того, что случайно выбранная порция эспрессо будет содержать менее 29 мл кофе, что считается неприемлемым для стандартов кафе.\n",
        "\n",
        "Используя пороговое значение для уровня значимости 0.05 определите соответствует ли реальная практика утверждениям кафе"
      ],
      "metadata": {
        "id": "G3aQ1XxhHc-6"
      }
    },
    {
      "cell_type": "code",
      "source": [
        "mean = 30\n",
        "std_dev = 1\n",
        "threshold = 29\n",
        "\n",
        "value = (threshold - mean) / std_dev\n",
        "\n",
        "probability = norm.cdf(value)\n",
        "\n",
        "print(f'Вероятность того, что порция эспрессо будет содержать менее 29 мл кофе: {probability*100:.2f}%')"
      ],
      "metadata": {
        "colab": {
          "base_uri": "https://localhost:8080/"
        },
        "id": "1MbQ4QGRHed1",
        "outputId": "4ad5f89c-4d37-479c-e4f2-9454cfad46c9"
      },
      "execution_count": 2,
      "outputs": [
        {
          "output_type": "stream",
          "name": "stdout",
          "text": [
            "Вероятность того, что порция эспрессо будет содержать менее 29 мл кофе: 15.87%\n"
          ]
        }
      ]
    },
    {
      "cell_type": "markdown",
      "source": [
        "## Задача 2"
      ],
      "metadata": {
        "id": "L4DOuZ1eHWFA"
      }
    },
    {
      "cell_type": "markdown",
      "source": [
        "**Вероятность распределения и уровень значимости**\n",
        "\n",
        "Фармацевтическая компания разработала новое лекарство, предназначенное для снижения уровня холестерина.\n",
        "\n",
        "По результатам предварительных исследований, утверждается, что среднее снижение уровня холестерина после применения лекарства составляет 20 мг/дл.\n",
        "\n",
        "Однако, на основании многолетних наблюдений за эффективностью аналогичных препаратов, известно, что снижение уровня холестерина подчиняется нормальному распределению с средним значением 18 мг/дл и стандартным отклонением 4 мг/дл.\n",
        "\n",
        "Врач хочет проверить, какова вероятность того, что применение нового лекарства приведет к снижению уровня холестерина на 22 мг/дл или больше, что будет считаться значительным улучшением по сравнению со стандартными лекарствами.\n",
        "\n",
        "Используя пороговое значение 0.01 определите такое снижение холестерина случайность или такого уровня снижения не может быть. Проставьте галочку, после просмотра урока (это важно для шкалы модуля)"
      ],
      "metadata": {
        "id": "rpnboez7KluN"
      }
    },
    {
      "cell_type": "code",
      "source": [
        "mean = 18\n",
        "std_dev = 4\n",
        "threshold = 22\n",
        "significance_level = 0.01\n",
        "\n",
        "value = (threshold - mean) / std_dev\n",
        "\n",
        "probability = 1 - norm.cdf(value)\n",
        "\n",
        "print(f'Вероятность того, что снижение уровня холестерина будет 22 мг/дл или больше: {probability*100:.2f}%')\n",
        "\n",
        "if probability < significance_level:\n",
        "    print(\"Снижение уровня холестерина на 22 мг/дл или больше является значимым улучшением.\")\n",
        "else:\n",
        "    print(\"Снижение уровня холестерина на 22 мг/дл или больше не является значимым улучшением.\")"
      ],
      "metadata": {
        "colab": {
          "base_uri": "https://localhost:8080/"
        },
        "id": "k958vVTRKy9-",
        "outputId": "ff9d2c74-1fe3-4da1-934b-6828365875ae"
      },
      "execution_count": 3,
      "outputs": [
        {
          "output_type": "stream",
          "name": "stdout",
          "text": [
            "Вероятность того, что снижение уровня холестерина будет 22 мг/дл или больше: 15.87%\n",
            "Снижение уровня холестерина на 22 мг/дл или больше не является значимым улучшением.\n"
          ]
        }
      ]
    },
    {
      "cell_type": "markdown",
      "source": [
        "## Задача 3"
      ],
      "metadata": {
        "id": "wUzyJfeDHYFK"
      }
    },
    {
      "cell_type": "markdown",
      "source": [
        "Создайте свой список с случайными числами, пусть значения будут из нормального распределения, равномерного распределения и экспоненциального распределения, как на уроке.\n",
        "\n",
        "● посчитайте среднее значение\n",
        "\n",
        "● создайте рандомную выборку из 300 значений, посчитайте ее среднее значение\n",
        "\n",
        "● постройте гистограмму и qq.plot"
      ],
      "metadata": {
        "id": "mUfVPhezL_7F"
      }
    },
    {
      "cell_type": "code",
      "source": [
        "np.random.seed(42)\n",
        "\n",
        "normal_mean = 0\n",
        "normal_std_dev = 1\n",
        "uniform_low = 0\n",
        "uniform_high = 1\n",
        "exponential_scale = 1\n",
        "\n",
        "# Списки случайных чисел\n",
        "normal_distribution = np.random.normal(loc=normal_mean, scale=normal_std_dev, size=10)\n",
        "uniform_distribution = np.random.uniform(low=uniform_low, high=uniform_high, size=10)\n",
        "exponential_distribution = np.random.exponential(scale=exponential_scale, size=10)\n",
        "\n",
        "print(\"Случайные числа из нормального распределения:\", normal_distribution)\n",
        "print(\"\\nСлучайные числа из равномерного распределения:\", uniform_distribution)\n",
        "print(\"\\nСлучайные числа из экспоненциального распределения:\", exponential_distribution)"
      ],
      "metadata": {
        "colab": {
          "base_uri": "https://localhost:8080/"
        },
        "id": "M6YLDbRDMC32",
        "outputId": "c4b68e5b-252c-4ce1-dcb7-524d50148b7f"
      },
      "execution_count": 4,
      "outputs": [
        {
          "output_type": "stream",
          "name": "stdout",
          "text": [
            "Случайные числа из нормального распределения: [ 0.49671415 -0.1382643   0.64768854  1.52302986 -0.23415337 -0.23413696\n",
            "  1.57921282  0.76743473 -0.46947439  0.54256004]\n",
            "\n",
            "Случайные числа из равномерного распределения: [0.18182497 0.18340451 0.30424224 0.52475643 0.43194502 0.29122914\n",
            " 0.61185289 0.13949386 0.29214465 0.36636184]\n",
            "\n",
            "Случайные числа из экспоненциального распределения: [0.60893469 1.53793601 0.22273586 0.72202916 0.89750472 0.04756385\n",
            " 0.93533302 0.18696125 0.06726393 2.97368779]\n"
          ]
        }
      ]
    },
    {
      "cell_type": "code",
      "source": [
        "# Средние значения\n",
        "normal_mean_value = np.mean(normal_distribution)\n",
        "uniform_mean_value = np.mean(uniform_distribution)\n",
        "exponential_mean_value = np.mean(exponential_distribution)\n",
        "\n",
        "print(\"Среднее значение для нормального распределения:\", normal_mean_value)\n",
        "print(\"\\nСреднее значение для равномерного распределения:\", uniform_mean_value)\n",
        "print(\"\\nСреднее значение для экспоненциального распределения:\", exponential_mean_value)"
      ],
      "metadata": {
        "colab": {
          "base_uri": "https://localhost:8080/"
        },
        "id": "vMRsziNrMdKQ",
        "outputId": "16ef7f8c-4f1f-429d-9aa8-544018cef4b8"
      },
      "execution_count": 5,
      "outputs": [
        {
          "output_type": "stream",
          "name": "stdout",
          "text": [
            "Среднее значение для нормального распределения: 0.44806111169875623\n",
            "\n",
            "Среднее значение для равномерного распределения: 0.33272555576957985\n",
            "\n",
            "Среднее значение для экспоненциального распределения: 0.8199950284131935\n"
          ]
        }
      ]
    },
    {
      "cell_type": "code",
      "source": [
        "np.random.seed(105)\n",
        "\n",
        "sample_size = 300\n",
        "random_sample = np.random.normal(loc=0, scale=1, size=sample_size)\n",
        "\n",
        "mean_value = np.mean(random_sample)\n",
        "\n",
        "print(\"Рандомная выборка из 300 значений:\", random_sample)\n",
        "print(\"\\nСреднее значение выборки:\", mean_value)"
      ],
      "metadata": {
        "colab": {
          "base_uri": "https://localhost:8080/"
        },
        "id": "jTdwcvAgM-3w",
        "outputId": "10cb9424-e3ca-4177-eaab-1511fe0a0d1d"
      },
      "execution_count": 6,
      "outputs": [
        {
          "output_type": "stream",
          "name": "stdout",
          "text": [
            "Рандомная выборка из 300 значений: [-0.24532567 -0.61335219 -0.72676788  0.05936608  1.00558023 -0.12813963\n",
            " -1.53399249  0.47071004 -0.55531126 -0.2047162   1.70476293  2.57384567\n",
            "  0.55563648  0.95064931 -1.40561352  1.42032194 -1.2868943   0.14217396\n",
            "  0.68981678 -0.30227821 -1.57508051  0.29498641  0.8946778  -1.73039604\n",
            " -0.09225132  1.44623197  1.83524762  1.55159259  0.6171344   0.6610115\n",
            "  0.1407508   2.08950849 -1.28693709  0.14317465  0.6307825   0.27160286\n",
            " -1.33811344  0.15037613  0.14812022 -0.85180473 -0.34783224  0.32943593\n",
            " -0.6792258   0.26412281  1.94331913 -1.08016211 -0.15376113  1.55419945\n",
            " -0.95419665 -0.83557393  0.23708348 -0.37463374  1.41495427  0.11847626\n",
            "  0.93455654 -1.51320008 -2.37180171  1.19266674 -0.62214846 -1.30763434\n",
            "  0.25809589 -0.83106097 -2.08386699 -1.74033411 -0.37107241 -1.94476438\n",
            " -1.43475178  2.59192199 -0.02973917  0.61789996  0.8534088  -1.51091713\n",
            " -1.97923304  0.16798546 -1.75093686  2.3347296   2.09686618 -0.30370428\n",
            " -1.31870023 -0.10363494  1.65150008  1.52178984  1.43216852  0.55861146\n",
            " -0.296653   -0.22581278 -0.99260822  0.04054579 -1.60126159 -1.16725199\n",
            " -0.75372119  0.84255017  0.13791313 -0.07950394 -1.14048492 -0.42746731\n",
            " -0.75802892 -0.93649072 -0.68366775  1.58062406  0.31166594  0.96656185\n",
            " -1.74403503  0.35470454 -0.61325714 -1.02993261 -0.48684821 -0.49132213\n",
            "  0.21764389  0.87537911 -0.51469596  1.33786172  0.60905591  0.00315323\n",
            "  1.58718303  0.6891264   1.08652994 -0.61877969  0.71221385  1.76573907\n",
            " -0.20393348 -0.25752206 -1.79926256  0.37306401  1.63314453 -0.03988393\n",
            " -0.77345167 -0.76587503 -0.51426543  1.99812433  0.39162037  0.87021104\n",
            " -2.25063736  0.13221189  0.42637471  0.14455068  0.03346425  1.49564026\n",
            " -0.05092332 -1.17929432  1.26259925 -0.32821175  0.48542241  1.26321676\n",
            " -0.49563655  0.307481   -1.54738894 -0.12010659 -1.06848909  0.97401126\n",
            "  1.10479682 -0.91627622 -1.88229828 -1.72478407 -0.29767041  0.94235495\n",
            "  1.12021448  0.60689369  0.52674433 -0.18774304  1.3012532   0.44268968\n",
            "  1.72881881  0.11712408 -1.00899916  0.1346444   1.3970751   1.04701856\n",
            "  0.97801838  1.31612083  0.87146868 -0.62683978 -0.47100938 -0.53209251\n",
            " -0.38087918 -1.65840328 -0.14770799  0.58468353 -0.23011924  1.00345232\n",
            "  1.72084202 -1.95279301 -0.20744392  2.01914186  0.68475815  0.65236927\n",
            "  0.95162076  1.19057588 -0.33683137  0.89042777  0.70851832  0.67806169\n",
            " -0.03012075  0.11667223 -1.10150773 -0.92973403  1.62975378  1.0635491\n",
            " -1.01728505 -1.53659146  1.31405336  0.79283216  0.19434412  1.16813051\n",
            " -0.98487329 -0.20090932 -0.40950054 -0.29991002 -1.14770558  0.4296594\n",
            " -0.96552371 -0.72004679  1.34170972 -1.07967392  0.60641899  0.4133079\n",
            "  2.5376646  -0.25899818 -0.53606384 -1.21233982  0.42400568  0.84677762\n",
            " -0.20251402  0.39168323  0.52297148  1.38189192  0.78891476 -0.83056701\n",
            " -0.84063578  0.3443303   0.53184907  0.37739447  0.21935533  0.80421164\n",
            " -0.37428412 -1.28536428  1.58484305  0.12142896 -0.89835042 -1.01411573\n",
            "  0.5112634   1.00667942 -1.0038133  -0.46524011 -0.13363899 -0.35818004\n",
            " -0.16961827  1.36537195  0.38686335  0.42506576  0.75261093 -0.92733892\n",
            " -0.0751672   0.61835951  0.45059261 -0.15746791 -0.27470329  1.45049799\n",
            " -0.85537957 -0.47010144 -0.43287069  0.66073141  0.9225426  -1.76464799\n",
            "  0.57419367 -0.04334286 -1.21287373 -1.06844416  2.7016807  -1.81286031\n",
            "  0.15327248  0.14948817  0.30978191  0.35474797  0.1405805  -1.56723375\n",
            "  0.91553774 -1.58412899 -0.20662325  1.44383704  0.41893956 -1.26589291\n",
            " -0.02849418 -0.24627389 -1.85993218  0.31941581  1.01686296  0.15451514\n",
            "  1.505394   -0.72790945  0.43297212  1.07803351 -1.47297485  0.42729565\n",
            " -2.17375446  1.42933973  0.0583423   0.29018038 -2.1505131   1.8705359 ]\n",
            "\n",
            "Среднее значение выборки: 0.05323305699930139\n"
          ]
        }
      ]
    },
    {
      "cell_type": "code",
      "source": [
        "# Гистограмма\n",
        "plt.hist(random_sample, bins=30, edgecolor='black', alpha=0.7)\n",
        "plt.title('Гистограмма случайной выборки')\n",
        "plt.xlabel('Значения')\n",
        "plt.ylabel('Частота')\n",
        "plt.show()\n",
        "\n",
        "# Q-Q plot\n",
        "stats.probplot(random_sample, dist=\"norm\", plot=plt)\n",
        "plt.title('Q-Q plot случайной выборки')\n",
        "plt.show()"
      ],
      "metadata": {
        "colab": {
          "base_uri": "https://localhost:8080/",
          "height": 927
        },
        "id": "lPU24XxiNVus",
        "outputId": "67ba5bc4-4bb9-463d-d842-0edb79ed88f4"
      },
      "execution_count": 7,
      "outputs": [
        {
          "output_type": "display_data",
          "data": {
            "text/plain": [
              "<Figure size 640x480 with 1 Axes>"
            ],
            "image/png": "[encoded data removed]"
          },
          "metadata": {}
        },
        {
          "output_type": "display_data",
          "data": {
            "text/plain": [
              "<Figure size 640x480 with 1 Axes>"
            ],
            "image/png": "[encoded data removed]"
          },
          "metadata": {}
        }
      ]
    },
    {
      "cell_type": "markdown",
      "source": [
        "## Задача 4"
      ],
      "metadata": {
        "id": "20dIlSUoHZ0b"
      }
    },
    {
      "cell_type": "markdown",
      "source": [
        "**Центральная предельная теорема**\n",
        "\n",
        "Исследование показало, что среднее время, которое жители определённого города тратят на дорогу до работы, составляет 30 минут.\n",
        "\n",
        "Вы хотите проверить, насколько вероятно, что выборка из 50 случайных жителей этого города будет иметь среднее время в пути до работы, близкое к этому значению. (стандартное отклонение выборки = 10)."
      ],
      "metadata": {
        "id": "mC90zpS1OLj_"
      }
    },
    {
      "cell_type": "code",
      "source": [
        "mu = 30\n",
        "sigma = 10\n",
        "n = 50\n",
        "sample_mean = 30\n",
        "\n",
        "# Стандартная ошибка\n",
        "SEM = sigma / np.sqrt(n)\n",
        "\n",
        "# Значение\n",
        "value = (sample_mean - mu) / SEM\n",
        "\n",
        "# Вероятность через метод cdf\n",
        "probability = 2 * (1 - norm.cdf(np.abs(value)))\n",
        "\n",
        "print(f'Вероятность того, что среднее время в пути до работы для выборки из 50 случайных жителей будет близким к 30 минутам: {probability:.4f}')"
      ],
      "metadata": {
        "colab": {
          "base_uri": "https://localhost:8080/"
        },
        "id": "BsPnygukOT2g",
        "outputId": "67c97e4a-6426-4ee3-aaef-f98cf3389bce"
      },
      "execution_count": 8,
      "outputs": [
        {
          "output_type": "stream",
          "name": "stdout",
          "text": [
            "Вероятность того, что среднее время в пути до работы для выборки из 50 случайных жителей будет близким к 30 минутам: 1.0000\n"
          ]
        }
      ]
    }
  ]
}