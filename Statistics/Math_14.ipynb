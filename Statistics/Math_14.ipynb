{
  "cells": [
    {
      "cell_type": "code",
      "execution_count": 1,
      "id": "84a18348-9ead-4349-ac72-79b3ddf4f099",
      "metadata": {
        "id": "84a18348-9ead-4349-ac72-79b3ddf4f099"
      },
      "outputs": [],
      "source": [
        "import pandas as pd\n",
        "import statsmodels.api as sm\n",
        "import matplotlib.pyplot as plt\n",
        "import seaborn as sns"
      ]
    },
    {
      "cell_type": "markdown",
      "id": "b214a754-354f-4e8b-bd65-3bd08c87f04a",
      "metadata": {
        "id": "b214a754-354f-4e8b-bd65-3bd08c87f04a"
      },
      "source": [
        "**Сценарий:** Представьте, что вы работаете в розничной компании, которая недавно запустила программу лояльности. Компания хочет оценить влияние программы на расходы клиентов. Программа лояльности была развернута в выбранных магазинах (экспериментальная группа), в то время как другие магазины продолжили работу без нее (контрольная группа). У нас есть данные о расходах клиентов до и после запуска программы, и мы хотим оценить, привела ли программа к увеличению выручки, контролируя другие факторы, такие как возраст клиентов и средний доход в месте расположения магазина."
      ]
    },
    {
      "cell_type": "markdown",
      "id": "252ac2ac-02c7-4257-a6a6-a42ba76fb7eb",
      "metadata": {
        "id": "252ac2ac-02c7-4257-a6a6-a42ba76fb7eb"
      },
      "source": [
        "#### Задание 1\n",
        "Для вас подготовлен csv файл под названием DID_test.csv.<br>\n",
        "В данном датасете есть следющие колонки:\n",
        "* Новый_Маркетинг - флаг, обозначающий проходила ли программа лояльности в данном магазине\n",
        "* После_Обновления - флаг, обозначающий время замера показателей после или до проведения программы лояльности\n",
        "* Возраст_Посетителей - средний возраст посетитиелей магазина\n",
        "* Доход_Посетителей - средний годовой доход посетителей магазина в год\n",
        "* Выручка_Магазина - выручка магазина за месяц в долларах\n",
        "\n",
        "Вам необходимо, используя библиотке stasmodels, провести линейную регрессию для прогноза Выручки_Магазина"
      ]
    },
    {
      "cell_type": "code",
      "execution_count": 2,
      "id": "24e470f9-c8d8-4092-94f7-eb954e8b1e82",
      "metadata": {
        "colab": {
          "base_uri": "https://localhost:8080/"
        },
        "id": "24e470f9-c8d8-4092-94f7-eb954e8b1e82",
        "outputId": "1ecf6020-1d79-4aa0-d473-c018960c5337"
      },
      "outputs": [
        {
          "output_type": "stream",
          "name": "stdout",
          "text": [
            "                            OLS Regression Results                            \n",
            "==============================================================================\n",
            "Dep. Variable:       Выручка_Магазина   R-squared:                       0.640\n",
            "Model:                            OLS   Adj. R-squared:                  0.633\n",
            "Method:                 Least Squares   F-statistic:                     86.63\n",
            "Date:                Fri, 28 Feb 2025   Prob (F-statistic):           3.57e-42\n",
            "Time:                        10:12:23   Log-Likelihood:                -923.84\n",
            "No. Observations:                 200   AIC:                             1858.\n",
            "Df Residuals:                     195   BIC:                             1874.\n",
            "Df Model:                           4                                         \n",
            "Covariance Type:            nonrobust                                         \n",
            "=======================================================================================\n",
            "                          coef    std err          t      P>|t|      [0.025      0.975]\n",
            "---------------------------------------------------------------------------------------\n",
            "const                 201.2975      9.779     20.584      0.000     182.011     220.584\n",
            "Новый_Маркетинг        15.1933      3.515      4.322      0.000       8.260      22.127\n",
            "После_Обновления       33.9687      3.528      9.629      0.000      27.011      40.926\n",
            "Возраст_Посетителей     1.5718      0.119     13.251      0.000       1.338       1.806\n",
            "Доход_Посетителей       0.0008      0.000      4.800      0.000       0.000       0.001\n",
            "==============================================================================\n",
            "Omnibus:                        3.266   Durbin-Watson:                   1.878\n",
            "Prob(Omnibus):                  0.195   Jarque-Bera (JB):                3.332\n",
            "Skew:                          -0.296   Prob(JB):                        0.189\n",
            "Kurtosis:                       2.776   Cond. No.                     2.85e+05\n",
            "==============================================================================\n",
            "\n",
            "Notes:\n",
            "[1] Standard Errors assume that the covariance matrix of the errors is correctly specified.\n",
            "[2] The condition number is large, 2.85e+05. This might indicate that there are\n",
            "strong multicollinearity or other numerical problems.\n"
          ]
        }
      ],
      "source": [
        "# Загрузка данных\n",
        "file_path = 'DID_test.csv'\n",
        "data = pd.read_csv(file_path)\n",
        "\n",
        "# Подготовка данных\n",
        "# Независимые переменные (предикторы)\n",
        "X = data[['Новый_Маркетинг', 'После_Обновления', 'Возраст_Посетителей', 'Доход_Посетителей']]\n",
        "# Константа (интерсепт) для модели\n",
        "X = sm.add_constant(X)\n",
        "# Зависимая переменнуая (целевая переменная)\n",
        "y = data['Выручка_Магазина']\n",
        "\n",
        "# Построение модели линейной регрессии\n",
        "model = sm.OLS(y, X).fit()\n",
        "\n",
        "# Оценка результатов модели\n",
        "print(model.summary())"
      ]
    },
    {
      "cell_type": "markdown",
      "id": "0f89db57-7c72-4b34-8a7a-e449abf83589",
      "metadata": {
        "id": "0f89db57-7c72-4b34-8a7a-e449abf83589"
      },
      "source": [
        "#### Задание 2\n",
        "Интерпретируйте полученные результаты"
      ]
    },
    {
      "cell_type": "markdown",
      "source": [
        "> **R-squared = 0.640** значит, что 64% изменений в выручке магазина можно объяснить нашей моделью. Оставшиеся 36% обусловлены другими факторами, не учтенными в модели.\n",
        "\n",
        "> **const (интерсепт) = 201.2975** значит, что если не учитывать ни одну из переменных, средняя выручка магазина составит примерно $201.30 в месяц.\n",
        "\n",
        "> **Новый_Маркетинг = 15.1933** значит, что если магазин участвовал в новой маркетинговой программе, его выручка увеличивается в среднем на $15.19 в месяц.\n",
        "\n",
        "> **После_Обновления = 33.9687** значит, что если измерения проводились после обновления программы лояльности, выручка магазина увеличивается в среднем на $33.97 в месяц.\n",
        "\n",
        "> **Возраст_Посетителей = 1.5718** значит, что с увеличением среднего возраста посетителей на один год, выручка магазина увеличивается в среднем на $1.57 в месяц.\n",
        "\n",
        "> **Доход_Посетителей = 0.0008** значит, что с увеличением среднего годового дохода посетителей на \\$1, выручка магазина увеличивается в среднем на $0.0008 в месяц."
      ],
      "metadata": {
        "id": "o5GOANAA7MYW"
      },
      "id": "o5GOANAA7MYW"
    },
    {
      "cell_type": "markdown",
      "source": [
        "\n",
        "\n",
        "> Модель линейной регрессии показывает, что новые маркетинговые программы и обновления программ лояльности действительно помогают увеличивать выручку магазина. Также важно учитывать возраст и доход посетителей, так как они тоже оказывают влияние на выручку.\n",
        "\n"
      ],
      "metadata": {
        "id": "x94A93rD7CZo"
      },
      "id": "x94A93rD7CZo"
    },
    {
      "cell_type": "markdown",
      "id": "75b10223-d122-489c-b223-61dfd6b7168b",
      "metadata": {
        "id": "75b10223-d122-489c-b223-61dfd6b7168b"
      },
      "source": [
        "#### Задание 3\n",
        "Добавьте новую колонку под названием *intersection* которая будет перемножением колонок Новый_Маркетинг и После_Обновления<br>\n",
        "Данная колонка будет служить признаком для Difference-In-Difference анализа<br>\n",
        "Постройте линейную регрессую с учетом нового признака"
      ]
    },
    {
      "cell_type": "code",
      "execution_count": 3,
      "id": "090dd773-5ae2-40b9-bc75-3808f0d6678a",
      "metadata": {
        "colab": {
          "base_uri": "https://localhost:8080/"
        },
        "id": "090dd773-5ae2-40b9-bc75-3808f0d6678a",
        "outputId": "c728895a-73b2-4ef2-fc2d-67769187cdc5"
      },
      "outputs": [
        {
          "output_type": "stream",
          "name": "stdout",
          "text": [
            "                            OLS Regression Results                            \n",
            "==============================================================================\n",
            "Dep. Variable:       Выручка_Магазина   R-squared:                       0.661\n",
            "Model:                            OLS   Adj. R-squared:                  0.652\n",
            "Method:                 Least Squares   F-statistic:                     75.71\n",
            "Date:                Fri, 28 Feb 2025   Prob (F-statistic):           1.02e-43\n",
            "Time:                        10:12:23   Log-Likelihood:                -917.75\n",
            "No. Observations:                 200   AIC:                             1847.\n",
            "Df Residuals:                     194   BIC:                             1867.\n",
            "Df Model:                           5                                         \n",
            "Covariance Type:            nonrobust                                         \n",
            "=======================================================================================\n",
            "                          coef    std err          t      P>|t|      [0.025      0.975]\n",
            "---------------------------------------------------------------------------------------\n",
            "const                 211.7953      9.975     21.233      0.000     192.122     231.469\n",
            "Новый_Маркетинг         3.1196      4.864      0.641      0.522      -6.473      12.713\n",
            "После_Обновления       22.0684      4.837      4.562      0.000      12.528      31.609\n",
            "Возраст_Посетителей     1.5412      0.116     13.321      0.000       1.313       1.769\n",
            "Доход_Посетителей       0.0007      0.000      4.514      0.000       0.000       0.001\n",
            "intersection           24.0960      6.905      3.490      0.001      10.478      37.714\n",
            "==============================================================================\n",
            "Omnibus:                        4.445   Durbin-Watson:                   1.917\n",
            "Prob(Omnibus):                  0.108   Jarque-Bera (JB):                4.471\n",
            "Skew:                          -0.363   Prob(JB):                        0.107\n",
            "Kurtosis:                       2.897   Cond. No.                     3.27e+05\n",
            "==============================================================================\n",
            "\n",
            "Notes:\n",
            "[1] Standard Errors assume that the covariance matrix of the errors is correctly specified.\n",
            "[2] The condition number is large, 3.27e+05. This might indicate that there are\n",
            "strong multicollinearity or other numerical problems.\n"
          ]
        }
      ],
      "source": [
        "# Создание новой колонки\n",
        "data['intersection'] = data['Новый_Маркетинг'] * data['После_Обновления']\n",
        "\n",
        "# Подготовка данных\n",
        "# Независимые переменные (предикторы)\n",
        "X = data[['Новый_Маркетинг', 'После_Обновления', 'Возраст_Посетителей', 'Доход_Посетителей', 'intersection']]\n",
        "# Константа (интерсепт) для модели\n",
        "X = sm.add_constant(X)\n",
        "# Зависимая переменная (целевая переменная)\n",
        "y = data['Выручка_Магазина']\n",
        "\n",
        "# Построение модели линейной регрессии\n",
        "model = sm.OLS(y, X).fit()\n",
        "\n",
        "# Оценка результатов модели\n",
        "print(model.summary())"
      ]
    },
    {
      "cell_type": "markdown",
      "id": "f85bcb2b-6200-447d-88dc-5d563f267f94",
      "metadata": {
        "id": "f85bcb2b-6200-447d-88dc-5d563f267f94"
      },
      "source": [
        "#### Задание 4\n",
        "Интерпретируйте новые результаты"
      ]
    },
    {
      "cell_type": "markdown",
      "source": [
        "> **R-squared = 0.661** значит, что 66.1% изменений в выручке магазина можно объяснить переменными.\n",
        "\n",
        "> **const (интерсепт) = 211.80** значит, что если не учитывать ни одну из переменных, средняя выручка магазина составит примерно $211.80 в месяц.\n",
        "\n",
        "> **Новый_Маркетинг = 3.12** значит, что участие в новой маркетинговой программе само по себе не оказывает значимого влияния на выручку, так как p-значение больше 0.05.\n",
        "\n",
        "> **После_Обновления = 22.07** значит, что измерения после обновления программы лояльности приводят к увеличению выручки магазина в среднем на $22.07 в месяц. Это значение значимо, так как p-значение меньше 0.05.\n",
        "\n",
        "> **Возраст_Посетителей = 1.54** значит, что с увеличением среднего возраста посетителей на один год, выручка магазина увеличивается в среднем на $1.54 в месяц. Это значение значимо.\n",
        "\n",
        "> **Доход_Посетителей = 0.0007** значит, что с увеличением среднего годового дохода посетителей на $1, выручка магазина увеличивается в среднем на $0.0007 в месяц. Это значение значимо.\n",
        "\n",
        "> **intersection = 24.10** значит, что когда и новая маркетинговая кампания, и обновление программы лояльности проведены, выручка магазина увеличивается в среднем на $24.10 в месяц. Это значение значимо, так как p-значение меньше 0.05."
      ],
      "metadata": {
        "id": "dVUMrDSN--ry"
      },
      "id": "dVUMrDSN--ry"
    },
    {
      "cell_type": "markdown",
      "source": [
        "\n",
        "\n",
        "1. Маркетинговая программа сама по себе не оказывает значительного влияния на выручку.\n",
        "2. Обновление программы лояльности значимо увеличивает выручку.\n",
        "3. Возраст и доход посетителей также значимо влияют на выручку.\n",
        "4. Наибольшее влияние оказывается, когда и маркетинговая программа, и обновление программы лояльности проводятся вместе, что значительно увеличивает выручку."
      ],
      "metadata": {
        "id": "C092Uz3P_7mf"
      },
      "id": "C092Uz3P_7mf"
    },
    {
      "cell_type": "markdown",
      "id": "0d0625cf-b819-4976-b39f-5f1588c6bc0b",
      "metadata": {
        "id": "0d0625cf-b819-4976-b39f-5f1588c6bc0b"
      },
      "source": [
        "#### Задание 5\n",
        "Нарисуйте график, показывающий динамику изменений средней выручки между экспериментальной и контрольной группами, до и после кампании"
      ]
    },
    {
      "cell_type": "code",
      "execution_count": 4,
      "id": "e2db4918-8bf4-479d-baa9-87186e5d2403",
      "metadata": {
        "colab": {
          "base_uri": "https://localhost:8080/",
          "height": 472
        },
        "id": "e2db4918-8bf4-479d-baa9-87186e5d2403",
        "outputId": "de5fafbe-2c08-4494-c73c-f0526bbd8805"
      },
      "outputs": [
        {
          "output_type": "display_data",
          "data": {
            "text/plain": [
              "<Figure size 640x480 with 1 Axes>"
            ],
            "image/png": "[encoded data removed]"
          },
          "metadata": {}
        }
      ],
      "source": [
        "# Создание группы данных\n",
        "data['Группа'] = data['Новый_Маркетинг'].apply(lambda x: 'Экспериментальная' if x == 1 else 'Контрольная')\n",
        "\n",
        "# Создание колонки 'Группа'\n",
        "group_labels = []\n",
        "for value in data['Новый_Маркетинг']:\n",
        "    if value == 1:\n",
        "        group_labels.append('Экспериментальная')\n",
        "    else:\n",
        "        group_labels.append('Контрольная')\n",
        "data['Группа'] = group_labels\n",
        "\n",
        "# Создание колонки 'Время'\n",
        "time_labels = []\n",
        "for value in data['После_Обновления']:\n",
        "    if value == 1:\n",
        "        time_labels.append('После')\n",
        "    else:\n",
        "        time_labels.append('До')\n",
        "data['Время'] = time_labels\n",
        "\n",
        "# Вычисление средней выручки для каждой группы и времени\n",
        "mean_revenue = data.groupby(['Группа', 'Время'])['Выручка_Магазина'].mean().reset_index()\n",
        "\n",
        "# Построение графика\n",
        "sns.lineplot(x='Время', y='Выручка_Магазина', hue='Группа', data=mean_revenue, marker='o')\n",
        "\n",
        "# Настройка графика\n",
        "plt.title('Динамика изменений средней выручки между экспериментальной и контрольной группами')\n",
        "plt.xlabel('Время')\n",
        "plt.ylabel('Средняя выручка (в долларах)')\n",
        "plt.legend(title='Группа')\n",
        "plt.grid(True)\n",
        "plt.show()"
      ]
    }
  ],
  "metadata": {
    "kernelspec": {
      "display_name": "Python 3 (ipykernel)",
      "language": "python",
      "name": "python3"
    },
    "language_info": {
      "codemirror_mode": {
        "name": "ipython",
        "version": 3
      },
      "file_extension": ".py",
      "mimetype": "text/x-python",
      "name": "python",
      "nbconvert_exporter": "python",
      "pygments_lexer": "ipython3",
      "version": "3.12.4"
    },
    "colab": {
      "provenance": []
    }
  },
  "nbformat": 4,
  "nbformat_minor": 5
}