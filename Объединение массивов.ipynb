{
 "cells": [
  {
   "cell_type": "code",
   "execution_count": 1,
   "id": "8c6cc22f-acc8-455f-80cc-4404fdd87acd",
   "metadata": {},
   "outputs": [],
   "source": [
    "import numpy as np\n",
    "import random"
   ]
  },
  {
   "cell_type": "code",
   "execution_count": 2,
   "id": "72f6e497-1fe4-4e78-89c3-0efbcc415b65",
   "metadata": {},
   "outputs": [
    {
     "name": "stdout",
     "output_type": "stream",
     "text": [
      "First one-dimensional array of random integers from 1 to 10:\n",
      "    [ 2 10  4  1  7  5  9  7  5  1]\n",
      "Second one-dimensional array of random integers from 1 to 10:\n",
      "    [9 7 5 2 9 4 6 3 4 9]\n"
     ]
    }
   ],
   "source": [
    "# Создайте два одномерных массива из случайных целых чисел от 1 до 10.\n",
    "arr_1 = np.random.randint(1, 11, 10)\n",
    "arr_2 = np.random.randint(1, 11, 10)\n",
    "print(f\"\"\"First one-dimensional array of random integers from 1 to 10:\n",
    "    {arr_1}\n",
    "Second one-dimensional array of random integers from 1 to 10:\n",
    "    {arr_2}\"\"\")"
   ]
  },
  {
   "cell_type": "code",
   "execution_count": 3,
   "id": "468154ea-e60d-4997-98a3-4732a351a90b",
   "metadata": {},
   "outputs": [
    {
     "name": "stdout",
     "output_type": "stream",
     "text": [
      "Result of element-by-element addition of two arrays:\n",
      "\t[11 17  9  3 16  9 15 10  9 10]\n"
     ]
    }
   ],
   "source": [
    "# Выполните поэлементное сложение этих двух массивов.\n",
    "sum_arr = arr_1 + arr_2\n",
    "print(f\"Result of element-by-element addition of two arrays:\\n\\t{sum_arr}\")"
   ]
  },
  {
   "cell_type": "code",
   "execution_count": 4,
   "id": "25b17cfd-7242-454c-8b32-18a5e4dfe192",
   "metadata": {},
   "outputs": [
    {
     "name": "stdout",
     "output_type": "stream",
     "text": [
      "The shape of the array BEFORE the change:\n",
      "\t(10,)\n",
      "Shape of the array AFTER the change:\n",
      "\t(2, 5)\n"
     ]
    }
   ],
   "source": [
    "# Измените форму полученного массива на матрицу 2x5.\n",
    "new_shape = sum_arr.reshape(2, 5)\n",
    "print(f\"The shape of the array BEFORE the change:\\n\\t{sum_arr.shape}\")\n",
    "print(f\"Shape of the array AFTER the change:\\n\\t{new_shape.shape}\")"
   ]
  },
  {
   "cell_type": "code",
   "execution_count": 5,
   "id": "77743c97-f95c-4f7f-b26e-c3eada6d2074",
   "metadata": {},
   "outputs": [
    {
     "name": "stdout",
     "output_type": "stream",
     "text": [
      "The average of all elements of the array \n",
      "[[11 17  9  3 16]\n",
      " [ 9 15 10  9 10]] \n",
      "is equal: 10.9\n"
     ]
    }
   ],
   "source": [
    "# Посчитайте среднее значение\n",
    "print(f\"The average of all elements of the array \\n{new_shape} \\nis equal: {np.mean(new_shape)}\")"
   ]
  },
  {
   "cell_type": "code",
   "execution_count": 6,
   "id": "6f951d6e-0645-443a-a69e-0cd85a98f735",
   "metadata": {},
   "outputs": [
    {
     "name": "stdout",
     "output_type": "stream",
     "text": [
      "3x3 array is created:\n",
      "[[ 9  9  1]\n",
      " [ 5  6  7]\n",
      " [10  7  4]]\n",
      "First row of the array:\n",
      "[9 9 1]\n",
      "First column of the array:\n",
      "[ 9  5 10]\n"
     ]
    }
   ],
   "source": [
    "# Создайте массив размером 3x3 и выведите его первую строку и первый столбец.\n",
    "arr_3 = np.random.randint(1, 11, size=(3, 3))\n",
    "print(f\"3x3 array is created:\\n{arr_3}\")\n",
    "print(f\"First row of the array:\\n{arr_3[0]}\")\n",
    "print(f\"First column of the array:\\n{arr_3[:, 0]}\")"
   ]
  },
  {
   "cell_type": "code",
   "execution_count": 7,
   "id": "765a8372-5931-4fbd-a444-04a2fbbe254d",
   "metadata": {},
   "outputs": [
    {
     "name": "stdout",
     "output_type": "stream",
     "text": [
      "The shape of the array BEFORE the change:\n",
      "\t(3, 3)\n",
      "[[ 9  9  1]\n",
      " [ 5  6  7]\n",
      " [10  7  4]]\n",
      "Shape of the array AFTER the change:\n",
      "\t(9, 1)\n",
      "[[ 9]\n",
      " [ 9]\n",
      " [ 1]\n",
      " [ 5]\n",
      " [ 6]\n",
      " [ 7]\n",
      " [10]\n",
      " [ 7]\n",
      " [ 4]]\n"
     ]
    }
   ],
   "source": [
    "# Измените форму массива с помощью функции reshape и выведите его новую форму.\n",
    "new_arr_3 = arr_3.reshape(9, 1)\n",
    "print(f\"The shape of the array BEFORE the change:\\n\\t{arr_3.shape}\")\n",
    "print(arr_3)\n",
    "print(f\"Shape of the array AFTER the change:\\n\\t{new_arr_3.shape}\")\n",
    "print(new_arr_3)"
   ]
  },
  {
   "cell_type": "code",
   "execution_count": 8,
   "id": "72746769-d10c-4be7-915e-f29ff5df0ca7",
   "metadata": {},
   "outputs": [
    {
     "name": "stdout",
     "output_type": "stream",
     "text": [
      "The shape of the array BEFORE the change:\n",
      "\t(9, 1)\n",
      "[[ 9]\n",
      " [ 9]\n",
      " [ 1]\n",
      " [ 5]\n",
      " [ 6]\n",
      " [ 7]\n",
      " [10]\n",
      " [ 7]\n",
      " [ 4]]\n",
      "Shape of the array AFTER the change:\n",
      "\t(9,)\n",
      "[ 9  9  1  5  6  7 10  7  4]\n"
     ]
    }
   ],
   "source": [
    "# Используйте функцию flatten, чтобы преобразовать массив в одномерный.\n",
    "print(f\"The shape of the array BEFORE the change:\\n\\t{new_arr_3.shape}\")\n",
    "print(new_arr_3)\n",
    "new_arr_3 = arr_3.flatten()\n",
    "print(f\"Shape of the array AFTER the change:\\n\\t{new_arr_3.shape}\")\n",
    "print(new_arr_3)"
   ]
  },
  {
   "cell_type": "code",
   "execution_count": 9,
   "id": "c9878932-d1b3-4885-80e0-e92c919a1f80",
   "metadata": {},
   "outputs": [
    {
     "name": "stdout",
     "output_type": "stream",
     "text": [
      "Two-dimensional 4x3 array with random integers from 1 to 10:\n",
      "[[ 7 10  5]\n",
      " [ 8 10  3]\n",
      " [ 8  1  4]\n",
      " [ 7 10  2]]\n"
     ]
    }
   ],
   "source": [
    "# Создайте двумерный массив размером 4x3 с случайными целыми числами от 1 до 10.\n",
    "arr_4 = np.random.randint(1, 11, (4, 3))\n",
    "print(f\"\"\"Two-dimensional 4x3 array with random integers from 1 to 10:\n",
    "{arr_4}\"\"\")"
   ]
  },
  {
   "cell_type": "code",
   "execution_count": 11,
   "id": "30e3e7fb-cffc-4981-9403-1cd953ed0477",
   "metadata": {},
   "outputs": [
    {
     "name": "stdout",
     "output_type": "stream",
     "text": [
      "[[ 7]\n",
      " [10]\n",
      " [ 5]\n",
      " [ 8]\n",
      " [10]\n",
      " [ 3]\n",
      " [ 8]\n",
      " [ 1]\n",
      " [ 4]\n",
      " [ 7]\n",
      " [10]\n",
      " [ 2]]\n"
     ]
    }
   ],
   "source": [
    "# Объедините столбцы этого массива в один столбец с использованием vstack.\n",
    "print(np.vstack(arr_4.flatten()))"
   ]
  },
  {
   "cell_type": "code",
   "execution_count": 12,
   "id": "ac372ddf-ea48-4771-a6c8-68a10559e88a",
   "metadata": {},
   "outputs": [
    {
     "name": "stdout",
     "output_type": "stream",
     "text": [
      "Array of 9 random numbers from 1 to 30: [ 5 12 14  3  4 11 14 28 21]\n"
     ]
    }
   ],
   "source": [
    "# Создайте массив из 9 случайных чисел от 1 до 30.\n",
    "arr_5 = np.random.randint(1, 30, 9)\n",
    "print(f\"Array of 9 random numbers from 1 to 30: {arr_5}\")"
   ]
  },
  {
   "cell_type": "code",
   "execution_count": 13,
   "id": "fb069a22-9eb7-49ab-9319-88075041449d",
   "metadata": {},
   "outputs": [
    {
     "name": "stdout",
     "output_type": "stream",
     "text": [
      "Index of the maximum value in the array: 7\n"
     ]
    }
   ],
   "source": [
    "# Найдите индекс максимального значения в массиве и выведите это значение.\n",
    "max_index = np.argmax(arr_5)\n",
    "# Взял отсюда: https://numpy.org/doc/stable/reference/generated/numpy.argmax.html#numpy.argmax\n",
    "print(\"Index of the maximum value in the array:\", max_index)"
   ]
  },
  {
   "cell_type": "code",
   "execution_count": 14,
   "id": "f5c61997-5c83-43cf-8479-46634b360e5c",
   "metadata": {},
   "outputs": [
    {
     "name": "stdout",
     "output_type": "stream",
     "text": [
      "First array\n",
      " [[3 2]\n",
      " [4 3]]\n",
      "Second array\n",
      " [[2 4]\n",
      " [2 4]]\n"
     ]
    }
   ],
   "source": [
    "# Создайте два массива, каждый размером 2x2, состоящих из случайных целых чисел от 1 до 5.\n",
    "arr_6 = np.random.randint(1, 5, (2, 2))\n",
    "arr_7 = np.random.randint(1, 5, (2, 2))\n",
    "print(\"First array\\n\", arr_6)\n",
    "print(\"Second array\\n\", arr_7)"
   ]
  },
  {
   "cell_type": "code",
   "execution_count": 15,
   "id": "c4e2024f-940d-424a-a590-c1786863e70d",
   "metadata": {},
   "outputs": [
    {
     "name": "stdout",
     "output_type": "stream",
     "text": [
      "Transposed array\n",
      " [[3 4]\n",
      " [2 3]]\n"
     ]
    }
   ],
   "source": [
    "# Транспонируйте один из массивов.\n",
    "print(\"Transposed array\\n\", arr_6.T)"
   ]
  },
  {
   "cell_type": "code",
   "execution_count": 16,
   "id": "ccdc7ff1-fb5a-451c-b198-f12ba32a5041",
   "metadata": {},
   "outputs": [
    {
     "name": "stdout",
     "output_type": "stream",
     "text": [
      "Sum of arrays\n",
      " [[5 8]\n",
      " [4 7]]\n"
     ]
    }
   ],
   "source": [
    "# Сложите транспонированный массив с другим массивом.\n",
    "print(\"Sum of arrays\\n\", arr_6.T + arr_7)"
   ]
  }
 ],
 "metadata": {
  "kernelspec": {
   "display_name": "Python 3 (ipykernel)",
   "language": "python",
   "name": "python3"
  },
  "language_info": {
   "codemirror_mode": {
    "name": "ipython",
    "version": 3
   },
   "file_extension": ".py",
   "mimetype": "text/x-python",
   "name": "python",
   "nbconvert_exporter": "python",
   "pygments_lexer": "ipython3",
   "version": "3.12.7"
  }
 },
 "nbformat": 4,
 "nbformat_minor": 5
}
