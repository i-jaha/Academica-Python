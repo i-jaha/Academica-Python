{
 "cells": [
  {
   "cell_type": "code",
   "execution_count": 16,
   "id": "8af1feb6-da6c-4a08-a7ec-fd572d8a64cd",
   "metadata": {},
   "outputs": [],
   "source": [
    "import requests\n",
    "import json"
   ]
  },
  {
   "cell_type": "code",
   "execution_count": 37,
   "id": "199236a1-00ba-4296-b668-8c945c7fe490",
   "metadata": {},
   "outputs": [
    {
     "name": "stdin",
     "output_type": "stream",
     "text": [
      "Введите название города:  Panjin\n"
     ]
    },
    {
     "name": "stdout",
     "output_type": "stream",
     "text": [
      "Название города: Panjin\n",
      "Код страны: CN\n",
      "Температура: -9°C\n",
      "Ощущается как: -14°C\n",
      "Описание погоды: clear sky\n",
      "Ветер: Скорость 2 м/с, направление 19°\n",
      "Влажность: 54%\n",
      "Давление: 1024 гПа\n"
     ]
    }
   ],
   "source": [
    "api_key = \"831d7f6032b803db06e314f240991b25\"\n",
    "city_name = input(\"Введите название города: \") \n",
    "url = f\"https://api.openweathermap.org/data/2.5/weather?q={city_name}&appid={api_key}&units=metric\"\n",
    "response = requests.get(url)\n",
    "x = response.json()\n",
    "json_list = [json.dumps(x, indent=4)]\n",
    "\n",
    "if x[\"cod\"] != \"404\":\n",
    "    #print(f\"\\nJSON представление (в виде списка из одной строки): {json_list[0]}\")\n",
    "    print(f\"Название города: {x[\"name\"]}\")\n",
    "    print(f\"Код страны: {x[\"sys\"][\"country\"]}\")\n",
    "    print(f\"Температура: {int(round(x[\"main\"][\"temp\"], 0))}°C\")\n",
    "    print(f\"Ощущается как: {int(round(x[\"main\"][\"feels_like\"], 0))}°C\")\n",
    "    print(f\"Описание погоды: {x[\"weather\"][0][\"description\"]}\")\n",
    "    print(f\"Ветер: Скорость {int(round(x[\"wind\"][\"speed\"], 0))} м/с, направление {x[\"wind\"][\"deg\"]}°\")\n",
    "    print(f\"Влажность: {x[\"main\"][\"humidity\"]}%\")\n",
    "    print(f\"Давление: {x[\"main\"][\"pressure\"]} гПа\")\n",
    "else:\n",
    "    print(\"Город не найден\")"
   ]
  }
 ],
 "metadata": {
  "kernelspec": {
   "display_name": "Python 3 (ipykernel)",
   "language": "python",
   "name": "python3"
  },
  "language_info": {
   "codemirror_mode": {
    "name": "ipython",
    "version": 3
   },
   "file_extension": ".py",
   "mimetype": "text/x-python",
   "name": "python",
   "nbconvert_exporter": "python",
   "pygments_lexer": "ipython3",
   "version": "3.12.7"
  }
 },
 "nbformat": 4,
 "nbformat_minor": 5
}
